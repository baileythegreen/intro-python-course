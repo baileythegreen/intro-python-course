{
 "cells": [
  {
   "cell_type": "markdown",
   "metadata": {},
   "source": [
    "## Exercises\n",
    "\n",
    "### 1. Create a Martian dictionary\n",
    "Create a dictionary containing the following facts:\n",
    "- Mars has two moons, called Phobos and Deimos.\n",
    "- Mars is red.\n",
    "- Mars does not have rings.\n",
    "- Mars' nickname is \"The Red Planet\".\n",
    "- It taks Mars 687 days to orbit the sun.\n",
    "Choose appropriate names for the keys and data structures for the values."
   ]
  },
  {
   "cell_type": "markdown",
   "metadata": {},
   "source": [
    "### Solution\n",
    "#### Note, the order of the key-value pairs does not matter.\n",
    "```python\n",
    "mars = {\n",
    "    \"name\" : \"mars\",\n",
    "    \"color\" : \"red\",\n",
    "    \"nickname\": \"The Red Planet\",\n",
    "    \"rings\" : False,\n",
    "    \"moon_count\" : 2,\n",
    "    \"famous_moons\": [\"phobos\", \"deimos\"],\n",
    "    \"orbit_length\" : 687\n",
    "}\n",
    "```"
   ]
  },
  {
   "cell_type": "markdown",
   "metadata": {},
   "source": [
    "### 2. Language, or Moon? (or perhaps both?)\n",
    "Several programming languages share names with the Uranian moons.\n",
    "\n",
    "Create the Uranian dictionary:\n",
    "```python\n",
    "uranus = {\n",
    "  \"name\"         : \"uranus\",\n",
    "  \"color\"        : \"cyan\",\n",
    "  \"rings\"        : True,\n",
    "  \"moon_count\"   : 27,\n",
    "  \"famous_moons\" : [\"ariel\", \"umbriel\", \"titania\", \"oberon\", \"miranda\"],\n",
    "}\n",
    "```\n",
    "and this set of programming language names:\n",
    "```python\n",
    "programming_languages = {\"hope\", \"oberon\", \"miranda\"}\n",
    "```\n",
    "Now, use what we've learned about accessing dictionary values and set operations to find the overlap between the languages and the moons."
   ]
  },
  {
   "cell_type": "markdown",
   "metadata": {},
   "source": [
    "### Solution\n",
    "```python\n",
    "uranus = {\n",
    "  \"name\"         : \"uranus\",\n",
    "  \"color\"        : \"cyan\",\n",
    "  \"rings\"        : True,\n",
    "  \"moon_count\"   : 27,\n",
    "  \"famous_moons\" : [\"ariel\", \"umbriel\", \"titania\", \"oberon\", \"miranda\"],\n",
    "}\n",
    "\n",
    "programming_languages = {\"hope\", \"oberon\", \"miranda\"}\n",
    "```\n",
    "\n",
    "#### The actual answer\n",
    "```python\n",
    ">>> programming_languages & set(uranus[\"famous_moons\"])\n",
    "{'miranda', 'oberon'}\n",
    "```\n",
    "\n",
    "This expression actually gets evaluated in a different order than it is written.\n",
    "- First, the second half of this gets the list of `famous_moons` from the `uranus` dictionary, then creates a set from the list.\n",
    "- Then, the `&` gets the `intersection` of the set `programming languages` and the set just created of Jupiter's moons.\n",
    "\n",
    "We can also write the two expressions in the opposite order, which better reflects when they happen:\n",
    "```python\n",
    ">>> set(uranus[\"famous_moons\"]) & programming_languages\n",
    "{'miranda', 'oberon'}\n",
    "```\n",
    "\n",
    "Because the order of the inputs for `&` does not matter, this produces the same result.\n",
    "\n",
    "You can also try putting in different set operators in place of `&` to see what happens."
   ]
  }
 ],
 "metadata": {
  "kernelspec": {
   "display_name": "Python 3",
   "language": "python",
   "name": "python3"
  },
  "language_info": {
   "codemirror_mode": {
    "name": "ipython",
    "version": 3
   },
   "file_extension": ".py",
   "mimetype": "text/x-python",
   "name": "python",
   "nbconvert_exporter": "python",
   "pygments_lexer": "ipython3",
   "version": "3.7.6"
  }
 },
 "nbformat": 4,
 "nbformat_minor": 4
}
