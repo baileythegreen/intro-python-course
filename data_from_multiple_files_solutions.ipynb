{
 "cells": [
  {
   "cell_type": "markdown",
   "metadata": {},
   "source": [
    "## Exercises\n",
    "\n",
    "### 1. Plotting Differences\n",
    "\n",
    "Plot the difference between the average inflammations reported in the first and second datasets (stored in `swc-python/data/inflammation-01.csv` and `swc-python/data/inflammation-02.csv`, respectively), i.e., the difference between the leftmost plots of the first two figures.\n",
    "\n",
    "#### Solution\n",
    "\n",
    "```python\n",
    "import glob\n",
    "import numpy as np\n",
    "import matplotlib.pyplot as plt\n",
    "\n",
    "filenames = sorted(glob.glob('swc-python/data/inflammation*.csv'))\n",
    "\n",
    "data0 = np.loadtxt(fname=filenames[0], delimiter=',')\n",
    "data1 = np.loadtxt(fname=filenames[1], delimiter=',')\n",
    "\n",
    "fig = plt.figure(figsize=(10.0, 3.0))\n",
    "\n",
    "plt.ylabel('Difference in average')\n",
    "plt.plot(np.mean(data0, axis=0) - numpy.mean(data1, axis=0))\n",
    "\n",
    "plt.show()\n",
    "```"
   ]
  },
  {
   "cell_type": "markdown",
   "metadata": {},
   "source": [
    "### 2. Generate Composite Statistics\n",
    "Use each of the files once to generate a dataset containing values averaged over all patients:\n",
    "\n",
    "```python\n",
    "filenames = glob.glob('inflammation*.csv')\n",
    "composite_data = np.zeros((60,40))\n",
    "for filename in filenames:\n",
    "    # sum each new file's data into composite_data as it's read\n",
    "    # and then divide the composite_data by number of samples\n",
    "composite_data = composite_data / len(filenames)\n",
    "```\n",
    "\n",
    "Then use `plt` to generate `mean()`, `max()`, and `min()` for all patients.\n",
    "\n",
    "#### Solution\n",
    "\n",
    "```python\n",
    "import glob\n",
    "import numpy as np\n",
    "import matplotlib.pyplot as plt\n",
    "\n",
    "filenames = glob.glob('swc-pyton/data/inflammation*.csv')\n",
    "composite_data = np.zeros((60,40))\n",
    "\n",
    "for filename in filenames:\n",
    "    data = np.loadtxt(fname = filename, delimiter=',')\n",
    "    composite_data = composite_data + data\n",
    "\n",
    "composite_data = composite_data / len(filenames)\n",
    "\n",
    "fig = plt.figure(figsize=(10.0, 3.0))\n",
    "\n",
    "axis1 = fig.add_subplot(1, 3, 1)\n",
    "axis2 = fig.add_subplot(1, 3, 2)\n",
    "axis3 = fig.add_subplot(1, 3, 3)\n",
    "\n",
    "axis1.set_ylabel('average')\n",
    "axis1.plot(np.mean(composite_data, axis=0))\n",
    "\n",
    "axis2.set_ylabel('max')\n",
    "axis2.plot(np.max(composite_data, axis=0))\n",
    "\n",
    "axis3.set_ylabel('min')\n",
    "axis3.plot(np.min(composite_data, axis=0))\n",
    "\n",
    "fig.tight_layout()\n",
    "\n",
    "plt.show()\n",
    "```"
   ]
  },
  {
   "cell_type": "code",
   "execution_count": null,
   "metadata": {},
   "outputs": [],
   "source": []
  }
 ],
 "metadata": {
  "kernelspec": {
   "display_name": "Python 3",
   "language": "python",
   "name": "python3"
  },
  "language_info": {
   "codemirror_mode": {
    "name": "ipython",
    "version": 3
   },
   "file_extension": ".py",
   "mimetype": "text/x-python",
   "name": "python",
   "nbconvert_exporter": "python",
   "pygments_lexer": "ipython3",
   "version": "3.7.6"
  }
 },
 "nbformat": 4,
 "nbformat_minor": 4
}
