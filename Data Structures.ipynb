{
 "cells": [
  {
   "cell_type": "markdown",
   "metadata": {},
   "source": [
    "# Data Structures\n",
    "\n",
    "## Overview\n",
    "\n",
    "#### Questions\n",
    "- What different ways exist to organise data?\n",
    "- What are the important features to consider when choosing a data structure?\n",
    "\n",
    "#### Objectives\n",
    "- To learn more of the basic data structures that Python supports.\n",
    "- To learn how to access elements inside those data structures.\n",
    "\n",
    "So far, we've seen one data structure: the list.\n",
    "\n",
    "Lists are great for some applications, but lists have certain properties which are not well-suited to all data."
   ]
  },
  {
   "cell_type": "markdown",
   "metadata": {},
   "source": [
    "Now we'll see some other data structures, and learn about the features they possess.\n",
    "\n",
    "It may help to think of a data structure as a type of collection that is made up of some number of items."
   ]
  },
  {
   "cell_type": "markdown",
   "metadata": {},
   "source": [
    "The features we'll talk about include whether the collection in question:\n",
    "- stores items in an ordered fashion\n",
    "- can store duplicate items\n",
    "- can be modified (adding, removing, or modifying items)"
   ]
  },
  {
   "cell_type": "markdown",
   "metadata": {},
   "source": [
    "Here's a quick summary of what we'll see:\n",
    "\n",
    "|Structure | Names? | Ordered? | Duplicates? | Modifiable? |\n",
    "|:-----:|:-----:|:-----:|:-----:|:-----:|\n",
    "| Lists | – | Yes | Yes | Yes |\n",
    "| Dictionaries | Yes | – | – | Yes |\n",
    "| Sets | – | – | – | Yes |"
   ]
  },
  {
   "cell_type": "markdown",
   "metadata": {},
   "source": [
    "As you might notice, some of these features only occur in certain combinations: ordered and duplicates, for instance.\n",
    "\n",
    "We're going to consider these different collection types in the context of describing the solar system."
   ]
  },
  {
   "cell_type": "markdown",
   "metadata": {},
   "source": [
    "### Lists\n",
    "We might decide to store the elements of the solar system inside a list:\n",
    "\n",
    "```python\n",
    "solar_system = [\"sun\",\n",
    "                \"mercury\",\n",
    "                \"venus\",\n",
    "                \"earth\",\n",
    "                \"mars\",\n",
    "                \"jupiter\",\n",
    "                \"saturn\",\n",
    "                \"uranus\",\n",
    "                \"neptune\",\n",
    "                \"pluto\"\n",
    "               ]\n",
    "```"
   ]
  },
  {
   "cell_type": "code",
   "execution_count": null,
   "metadata": {},
   "outputs": [],
   "source": [
    "# Our solar system list\n",
    "solar_system = [\"sun\",\n",
    "                \"mercury\",\n",
    "                \"venus\",\n",
    "                \"earth\",\n",
    "                \"mars\",\n",
    "                \"jupiter\",\n",
    "                \"saturn\",\n",
    "                \"uranus\",\n",
    "                \"neptune\",\n",
    "                \"pluto\"\n",
    "               ]"
   ]
  },
  {
   "cell_type": "markdown",
   "metadata": {},
   "source": [
    "This choice has some advantages: the solar system has, for the most part, a static order, so all of the planets maintain their order (I said 'for the most part').\n"
   ]
  },
  {
   "cell_type": "markdown",
   "metadata": {},
   "source": [
    "Another advantage is we can decide to add another element if we want:\n",
    "\n",
    "<!--\n",
    "solar_system.insert(4, \"moon\")\n",
    "-->"
   ]
  },
  {
   "cell_type": "code",
   "execution_count": 2,
   "metadata": {},
   "outputs": [
    {
     "name": "stdout",
     "output_type": "stream",
     "text": [
      "['sun', 'mercury', 'venus', 'earth', 'moon', 'mars', 'jupiter', 'saturn', 'uranus', 'neptune', 'pluto']\n"
     ]
    }
   ],
   "source": [
    "# Let's add the moon to the list, after \"earth\"\n",
    "solar_system.insert(4, \"moon\")\n",
    "print(solar_system)"
   ]
  },
  {
   "cell_type": "markdown",
   "metadata": {},
   "source": [
    "But what if some other aspect or information about the solar system is more important to us than the order of the elements?"
   ]
  },
  {
   "cell_type": "markdown",
   "metadata": {},
   "source": [
    "Let's look at the question of natural satellites, or what we commonly call 'moons'. Each planet in the solar system has a different number of moons, and if we want to store information about this, it would be helpful to have the name of the planet associated with its number of moons."
   ]
  },
  {
   "cell_type": "markdown",
   "metadata": {},
   "source": [
    "## Dictionaries\n",
    "A dictionary will allow us to do just that. Dictionaries are made up of 'key-value' pairs.\n",
    "\n",
    "The key is a unique identifier, like a name, that applies to a value, which is some information, stored inside another data structure."
   ]
  },
  {
   "cell_type": "markdown",
   "metadata": {},
   "source": [
    "The basic syntax for a dictionary is:\n",
    "\n",
    "```python\n",
    "dictionary = { key : value }\n",
    "```"
   ]
  },
  {
   "cell_type": "markdown",
   "metadata": {},
   "source": [
    "Keys are almost always strings (other things can lead to problematic behaviour).\n",
    "\n",
    "Values can be strings or anything else. Really just whatever works best."
   ]
  },
  {
   "cell_type": "markdown",
   "metadata": {},
   "source": [
    "If our dictionary contains the planets and their respective numbers of moons, then the values will just be integers.\n",
    "```python\n",
    "moon_counts = {\n",
    "  \"mercury\" :  0,\n",
    "  \"venus\"   :  0,\n",
    "  \"earth\"   :  1,\n",
    "  \"mars\"    :  2,\n",
    "  \"jupiter\" : 79,\n",
    "  \"saturn\"  : 82,\n",
    "  \"uranus\"  : 27,\n",
    "  \"neptune\" : 14,\n",
    "  \"pluto\"   :  5,\n",
    "}\n",
    "```"
   ]
  },
  {
   "cell_type": "code",
   "execution_count": 3,
   "metadata": {},
   "outputs": [],
   "source": [
    "# A dictionary of numbers of moons\n",
    "\n",
    "moon_counts = {\n",
    "  \"mercury\" :  0,\n",
    "  \"venus\"   :  0,\n",
    "  \"earth\"   :  1,\n",
    "  \"mars\"    :  2,\n",
    "  \"jupiter\" : 79,\n",
    "  \"saturn\"  : 82,\n",
    "  \"uranus\"  : 27,\n",
    "  \"neptune\" : 14,\n",
    "  \"pluto\"   :  5,\n",
    "}"
   ]
  },
  {
   "cell_type": "markdown",
   "metadata": {},
   "source": [
    "But we might want to associate each planet with a list of its well-known moons. In this case, the values would be lists of strings:\n",
    "```python\n",
    "famous_moons = {\n",
    "  \"earth\"   : [\"luna\"],\n",
    "  \"mars\"    : [\"phobos\", \"deimos\"],\n",
    "  \"jupiter\" : [\"io\", \"europa\", \"ganymede\", \"callisto\"],\n",
    "  \"saturn\"  : [\"titan\"],\n",
    "  \"uranus\"  : [\"ariel\", \"umbriel\", \"titania\", \"oberon\", \"miranda\"],\n",
    "  \"neptune\" : [\"triton\"],\n",
    "  \"pluto\"   : [\"charon\"],\n",
    "}\n",
    "```"
   ]
  },
  {
   "cell_type": "code",
   "execution_count": null,
   "metadata": {},
   "outputs": [],
   "source": [
    "# A dictionary of the well-known moons of each planet\n",
    "\n",
    "famous_moons = {\n",
    "  \"venus\"   : [],\n",
    "  \"earth\"   : [\"luna\"],\n",
    "  \"mars\"    : [\"phobos\", \"deimos\"],\n",
    "  \"jupiter\" : [\"io\", \"europa\", \"ganymede\", \"callisto\"],\n",
    "  \"saturn\"  : [\"titan\"],\n",
    "  \"uranus\"  : [\"ariel\", \"umbriel\", \"titania\", \"oberon\", \"miranda\"],\n",
    "  \"neptune\" : [\"triton\"],\n",
    "  \"pluto\"   : [\"charon\"],\n",
    "}"
   ]
  },
  {
   "cell_type": "markdown",
   "metadata": {},
   "source": [
    "The values for `earth`, `saturn`, and `pluto` could be just a single string, that's allowed. However, when working with data structures, uniformity is **sometimes** helpful, so I've put these as lists with single elements.\n"
   ]
  },
  {
   "cell_type": "markdown",
   "metadata": {},
   "source": [
    "### Accessing information inside dictionaries\n",
    "\n",
    "Now, how can we use the information stored inside of a dictionary?\n",
    "\n",
    "Dictionaries are inherently unordered: we can't use indexing to access the 'first' element, because there is no such thing as a first element.\n",
    "\n",
    "Instead, we access values using the keys, or names, we have assigned them."
   ]
  },
  {
   "cell_type": "markdown",
   "metadata": {},
   "source": [
    "The syntax is somewhat similar to indexing in a list, but instead of putting an index number inside of the square brackets, like `solar_system[5]`, we put the name we are interested in:\n",
    "\n",
    "```python\n",
    ">>> moon_counts['jupiter']\n",
    "79\n",
    "```"
   ]
  },
  {
   "cell_type": "code",
   "execution_count": 7,
   "metadata": {},
   "outputs": [
    {
     "data": {
      "text/plain": [
       "82"
      ]
     },
     "execution_count": 7,
     "metadata": {},
     "output_type": "execute_result"
    }
   ],
   "source": [
    "# Get the number of moons for Saturn\n",
    "moon_counts['saturn']"
   ]
  },
  {
   "cell_type": "markdown",
   "metadata": {},
   "source": [
    "And from the `famous_moons` dictionary:\n",
    "```python\n",
    ">>> famous_moons['jupiter']\n",
    "[\"io\", \"europa\", \"ganymede\", \"callisto\"]\n",
    "```\n"
   ]
  },
  {
   "cell_type": "code",
   "execution_count": 8,
   "metadata": {},
   "outputs": [
    {
     "data": {
      "text/plain": [
       "['triton']"
      ]
     },
     "execution_count": 8,
     "metadata": {},
     "output_type": "execute_result"
    }
   ],
   "source": [
    "# Get the list of well-known moons for Neptune\n",
    "famous_moons['neptune']"
   ]
  },
  {
   "cell_type": "markdown",
   "metadata": {},
   "source": [
    "\n",
    "We could even make a dictionary of information on just one planet:\n",
    "\n",
    "```python\n",
    "uranus = {\n",
    "  \"name\"         : \"uranus\",\n",
    "  \"color\"        : \"cyan\",\n",
    "  \"rings\"        : True,\n",
    "  \"moon_count\"   : 27,\n",
    "  \"famous_moons\" : [\"ariel\", \"umbriel\", \"titania\", \"oberon\", \"miranda\"],\n",
    "}\n",
    "```"
   ]
  },
  {
   "cell_type": "code",
   "execution_count": 9,
   "metadata": {},
   "outputs": [],
   "source": [
    "# A dictionary of information on Uranus\n",
    "\n",
    "uranus = {\n",
    "  \"name\"         : \"uranus\",\n",
    "  \"color\"        : \"cyan\",\n",
    "  \"rings\"        : True,\n",
    "  \"moon_count\"   : 27,\n",
    "  \"famous_moons\" : [\"ariel\", \"umbriel\", \"titania\", \"oberon\", \"miranda\"],\n",
    "}"
   ]
  },
  {
   "cell_type": "markdown",
   "metadata": {},
   "source": [
    "Then if I want information about `uranus`:\n",
    "```python\n",
    ">>> uranus['color']\n",
    "\"cyan\"\n",
    "```"
   ]
  },
  {
   "cell_type": "code",
   "execution_count": 10,
   "metadata": {},
   "outputs": [
    {
     "data": {
      "text/plain": [
       "True"
      ]
     },
     "execution_count": 10,
     "metadata": {},
     "output_type": "execute_result"
    }
   ],
   "source": [
    "# Get the ring status of Uranus\n",
    "uranus['rings']"
   ]
  },
  {
   "cell_type": "code",
   "execution_count": 14,
   "metadata": {},
   "outputs": [
    {
     "name": "stdout",
     "output_type": "stream",
     "text": [
      "{'famous_moons': {'earth': ['luna'],\n",
      "                  'jupiter': ['io', 'europa', 'ganymede', 'callisto'],\n",
      "                  'mars': ['phobos', 'deimos'],\n",
      "                  'neptune': ['triton'],\n",
      "                  'pluto': ['charon'],\n",
      "                  'saturn': ['titan'],\n",
      "                  'uranus': ['ariel',\n",
      "                             'umbriel',\n",
      "                             'titania',\n",
      "                             'oberon',\n",
      "                             'miranda'],\n",
      "                  'venus': []},\n",
      " 'moons_counts': {'earth': 1,\n",
      "                  'jupiter': 79,\n",
      "                  'mars': 2,\n",
      "                  'mercury': 0,\n",
      "                  'neptune': 14,\n",
      "                  'pluto': 5,\n",
      "                  'saturn': 82,\n",
      "                  'uranus': 27,\n",
      "                  'venus': 0},\n",
      " 'uranus': {'color': 'cyan',\n",
      "            'famous_moons': ['ariel',\n",
      "                             'umbriel',\n",
      "                             'titania',\n",
      "                             'oberon',\n",
      "                             'miranda'],\n",
      "            'moon_count': 27,\n",
      "            'name': 'uranus',\n",
      "            'rings': True}}\n"
     ]
    },
    {
     "data": {
      "text/plain": [
       "'cyan'"
      ]
     },
     "execution_count": 14,
     "metadata": {},
     "output_type": "execute_result"
    }
   ],
   "source": [
    "import pprint\n",
    "planets = {\n",
    "    \"uranus\" : uranus,\n",
    "    \"moons_counts\" : moon_counts,\n",
    "    \"famous_moons\" : famous_moons\n",
    "}\n",
    "pprint.pprint(planets)\n",
    "\n",
    "planets['uranus']['color']"
   ]
  },
  {
   "cell_type": "markdown",
   "metadata": {},
   "source": [
    "\n",
    "Dictionaries are used a lot in Python, even in how the language itself is built, so understanding them opens a lot of doors."
   ]
  },
  {
   "cell_type": "markdown",
   "metadata": {},
   "source": [
    "## Sets\n",
    "Now let's discuss another data structure: the set. Sets do not have named elements (as dictionaries do), nor are they ordered (as lists are), which also means they can't be indexed.\n",
    "\n",
    "**The defining characteristic of a set is that each element is unique.**\n",
    "\n",
    "In a list, we could have repeated elements:\n",
    "```python\n",
    "celestial = [\"star\", \"planet\", \"comet\", \"asteroid\", \"planet\"]\n",
    "```"
   ]
  },
  {
   "cell_type": "markdown",
   "metadata": {},
   "source": [
    "In this list, we can access the first instance of `\"planet\"` with `celestial[1]` and the second one with `celestial[4]`.\n",
    "\n",
    "In a set, however, because the elements don't have an order and can't be indexed, there would be no way to specify which instance of `\"planet\"` we wanted. This is why they don't allow duplicate values."
   ]
  },
  {
   "cell_type": "markdown",
   "metadata": {},
   "source": [
    "There are several ways to create a set. We can make an entirely new set using curly braces:\n",
    "```python\n",
    "constellations = { \"ursa_major\", \"cassiopeia\", \"orion\" }\n",
    "```\n",
    "<!--\n",
    "```python\n",
    "space_rocks = {\"meteor\", \"comet\", \"asteroid\"}\n",
    "```\n",
    "-->"
   ]
  },
  {
   "cell_type": "code",
   "execution_count": 20,
   "metadata": {},
   "outputs": [
    {
     "data": {
      "text/plain": [
       "{'asteroid', 'comet', 'meteor'}"
      ]
     },
     "execution_count": 20,
     "metadata": {},
     "output_type": "execute_result"
    }
   ],
   "source": [
    "# Create the space_rocks set, which contains: \"meteor\", \"comet\", \"asteroid\" strings\n",
    "\n",
    "space_rocks = {\"meteor\", \"comet\", \"asteroid\"}\n",
    "space_rocks"
   ]
  },
  {
   "cell_type": "markdown",
   "metadata": {},
   "source": [
    "Or we can make one from something like a list using the `set()` function:\n",
    "```python\n",
    "# there are actually three centauri stars\n",
    ">>> stars = [\"sol\", \"vega\", \"centauri\", \"sirius\", \"centauri\"]\n",
    ">>> star_set = set(stars)\n",
    ">>> star_set\n",
    "{\"sol\", \"vega\", \"centauri\", \"sirius\"}\n",
    "```\n",
    "<!--\n",
    "```python\n",
    "celestial = [\"star\", \"planet\", \"comet\", \"asteroid\", \"planet\"]\n",
    "celestial_set = set(celestial)\n",
    "```\n",
    "-->"
   ]
  },
  {
   "cell_type": "code",
   "execution_count": 16,
   "metadata": {},
   "outputs": [
    {
     "name": "stdout",
     "output_type": "stream",
     "text": [
      "{'star', 'asteroid', 'planet', 'comet'}\n"
     ]
    }
   ],
   "source": [
    "# First, create the celestial list: \"star\", \"planet\", \"comet\", \"asteroid\", \"planet\"\n",
    "# Then we will run set on it\n",
    "celestial = [\"star\", \"planet\", \"comet\", \"asteroid\", \"planet\"]\n",
    "celestial_set = set(celestial)\n",
    "print(celestial_set)"
   ]
  },
  {
   "cell_type": "markdown",
   "metadata": {},
   "source": [
    "Sets are nifty because we can do things called **set operations** on them:\n",
    "\n",
    "There are four set operators:\n",
    "\n",
    "| Symbol | Name |\n",
    "|:------:|:----:|\n",
    "| - | difference |\n",
    "| ^ | symmetric difference |\n",
    "| \\| | union |\n",
    "| & | intersection |"
   ]
  },
  {
   "cell_type": "markdown",
   "metadata": {},
   "source": [
    "Here's a visual representation of the operations:\n",
    "\n",
    "<img src=\"intro_python_images/set_operations_square.png\" width=\"75%\" />"
   ]
  },
  {
   "cell_type": "markdown",
   "metadata": {},
   "source": [
    "\n",
    "\n",
    "### Using the set operations\n",
    "\n",
    "Here's how we would use these in code:\n",
    "\n",
    "```python\n",
    "## difference -- a bit like subtraction\n",
    ">>> celestial_set - space_rocks\n",
    "{'star', 'planet'}\n",
    "\n",
    ">>> space_rocks - celestial_set\n",
    "{'meteor'}\n",
    "\n",
    "## symmetric difference - things that only exist in one of the sets\n",
    ">>> space_rocks ^ celestial_set\n",
    "{'star', 'meteor', 'planet'}\n",
    "\n",
    "## union -- kind of like addition; all elements from either set\n",
    ">>> space_rocks | celestial_set\n",
    "{'star', 'asteroid', 'meteor', 'planet', 'comet'}\n",
    "\n",
    "## intersection -- elements found in both sets\n",
    ">>> space_rocks & celestial_set\n",
    "{'asteroid', 'comet'}\n",
    "\n",
    "```"
   ]
  },
  {
   "cell_type": "markdown",
   "metadata": {},
   "source": [
    "### Order of arguments\n",
    "For some of these operators, the order of the two sets given as arguments matters.\n",
    "\n",
    "Experiment and see which ones give the same output both ways."
   ]
  },
  {
   "cell_type": "code",
   "execution_count": 24,
   "metadata": {},
   "outputs": [
    {
     "data": {
      "text/plain": [
       "{'asteroid', 'comet', 'meteor', 'planet', 'star'}"
      ]
     },
     "execution_count": 24,
     "metadata": {},
     "output_type": "execute_result"
    }
   ],
   "source": [
    "# Try the commands here\n",
    "celestial_set | space_rocks"
   ]
  },
  {
   "cell_type": "markdown",
   "metadata": {},
   "source": [
    "## Summary\n",
    "\n",
    "Dictionaries\n",
    "- Dictionaries are made up of key-value pairs.\n",
    "- Dictionary keys must be unique.\n",
    "- Dictionary values do not need to be unique.\n",
    "- Dictionary elements do not exist in a particular order.\n",
    "\n",
    "Sets\n",
    "- Sets contain only unique values.\n",
    "- A set may be made from another data structure, such as a list.\n",
    "- There are several operations that can be performed on two sets to look at differences, overlap, and combinations of the sets."
   ]
  },
  {
   "cell_type": "markdown",
   "metadata": {},
   "source": [
    "## Exercises\n",
    "\n",
    "### 1. Create a Martian dictionary\n",
    "Create a dictionary containing the following facts:\n",
    "- Mars has two moons, called Phobos and Deimos.\n",
    "- Mars is red.\n",
    "- Mars does not have rings.\n",
    "- Mars' nickname is \"The Red Planet\".\n",
    "- It taks Mars 687 days to orbit the sun.\n",
    "Choose appropriate names for the keys and data structures for the values."
   ]
  },
  {
   "cell_type": "code",
   "execution_count": null,
   "metadata": {},
   "outputs": [],
   "source": [
    "# Do Exercise 1 here\n"
   ]
  },
  {
   "cell_type": "markdown",
   "metadata": {},
   "source": [
    "### 2. Language, or Moon? (or perhaps both?)\n",
    "Several programming languages share names with the Uranian moons.\n",
    "\n",
    "Create the Uranian dictionary:\n",
    "```python\n",
    "uranus = {\n",
    "  \"name\"         : \"uranus\",\n",
    "  \"color\"        : \"cyan\",\n",
    "  \"rings\"        : True,\n",
    "  \"moon_count\"   : 27,\n",
    "  \"famous_moons\" : [\"ariel\", \"umbriel\", \"titania\", \"oberon\", \"miranda\"],\n",
    "}\n",
    "```\n",
    "and this set of programming language names:\n",
    "```python\n",
    "programming_languages = {\"hope\", \"oberon\", \"miranda\"}\n",
    "```\n",
    "Now, use what we've learned about accessing dictionary values and set operations to find the overlap between the languages and the moons."
   ]
  },
  {
   "cell_type": "code",
   "execution_count": null,
   "metadata": {},
   "outputs": [],
   "source": [
    "# Do Exercise 2 here\n"
   ]
  }
 ],
 "metadata": {
  "kernelspec": {
   "display_name": "Python 3",
   "language": "python",
   "name": "python3"
  },
  "language_info": {
   "codemirror_mode": {
    "name": "ipython",
    "version": 3
   },
   "file_extension": ".py",
   "mimetype": "text/x-python",
   "name": "python",
   "nbconvert_exporter": "python",
   "pygments_lexer": "ipython3",
   "version": "3.7.6"
  }
 },
 "nbformat": 4,
 "nbformat_minor": 4
}

