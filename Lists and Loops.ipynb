{
 "cells": [
  {
   "cell_type": "markdown",
   "metadata": {
    "slideshow": {
     "slide_type": "slide"
    }
   },
   "source": [
    "\n",
    " # <div align=\"center\"> Python\n",
    "<div align=\"center\"><img src=\"https://imgs.xkcd.com/comics/python.png\" />"
   ]
  },
  {
   "cell_type": "code",
   "execution_count": null,
   "metadata": {},
   "outputs": [],
   "source": [
    "import RISE"
   ]
  },
  {
   "cell_type": "markdown",
   "metadata": {
    "slideshow": {
     "slide_type": "slide"
    }
   },
   "source": [
    "# Overview\n",
    "***\n",
    "### Questions\n",
    "\n",
    "- How do I repeat operations?\n",
    "\n",
    "### Objectives\n",
    "\n",
    "- Understand that data structures are used to organise data and can have different properties.\n",
    "- In Python lists are ordered data structures, whose elements can be accessed via indices.\n",
    "- Whitespace in Python is used to identify code blocks.\n",
    "- Write scripts that use `for` loops to iterate over lists, character strings, and ranges.\n",
    "- Use `range`and `for` to iterate over a sequence of numbers.\n"
   ]
  },
  {
   "cell_type": "markdown",
   "metadata": {
    "slideshow": {
     "slide_type": "subslide"
    }
   },
   "source": [
    "In the previous section we learned about different data types (e.g., strings, floats, and integers) and how to assign them as values to variables. We will now learn about ways to organise data so that we can work on more than one item at a time."
   ]
  },
  {
   "cell_type": "markdown",
   "metadata": {
    "slideshow": {
     "slide_type": "slide"
    }
   },
   "source": [
    "## Our first data structure: the list\n",
    "\n",
    "A list is a type of collection that stores one or more values in an **ordered fashion**.\n",
    "\n",
    "Take the example list:\n",
    "\n",
    "> ```python\n",
    "> colours = ['red', 'blue', 'green']\n",
    "> ```\n",
    "\n",
    "This list contains three elements, in a particular order. We can refer to the list as a whole, by its name `colours`, but what if we want to see just the second value? Because lists are ordered, we can do this.\n",
    "\n"
   ]
  },
  {
   "cell_type": "markdown",
   "metadata": {
    "slideshow": {
     "slide_type": "subslide"
    }
   },
   "source": [
    "Every item in a list has an **index**, which can be thought of as its 'spot' in the list. In Python, these indices start at `0`, so if we want to get the first value in `colours`, `'red'` we would specify index `0`. To get the second value, `'blue'`, we need to specify index `1`.\n",
    "\n",
    "To access a list index, we use the list name and square brackets containing the desired index: \n",
    "\n",
    "> ```python\n",
    "> colours[1]\n",
    "> ```"
   ]
  },
  {
   "cell_type": "code",
   "execution_count": null,
   "metadata": {
    "slideshow": {
     "slide_type": "subslide"
    }
   },
   "outputs": [],
   "source": [
    "# Create a 'colours' variable\n",
    "colours = ['red', 'blue', 'green']\n",
    "\n",
    "# Print out colours\n",
    "print('The colours are:', colours)\n",
    "\n",
    "# Print the second element of colours\n",
    "print('The second colour is:', colours[1])"
   ]
  },
  {
   "cell_type": "markdown",
   "metadata": {
    "slideshow": {
     "slide_type": "subslide"
    }
   },
   "source": [
    "### Negative indices also work\n",
    "\n",
    "You can also use negative indices, which start at `-1` for the last element in the list, `-2` for the next-to-last, and so on."
   ]
  },
  {
   "cell_type": "code",
   "execution_count": null,
   "metadata": {
    "slideshow": {
     "slide_type": "fragment"
    }
   },
   "outputs": [],
   "source": [
    "colours[-1]"
   ]
  },
  {
   "cell_type": "markdown",
   "metadata": {
    "slideshow": {
     "slide_type": "slide"
    }
   },
   "source": [
    "## What can you put in a list?\n",
    "\n",
    "In Python, lists can contain just about anything. They could contain strings, integers, and floats; but they can also contain things that might surprise you, like functions or other lists. Moreover, the different elements of a list can be of different types. Take a look at this example:"
   ]
  },
  {
   "cell_type": "code",
   "execution_count": 19,
   "metadata": {
    "slideshow": {
     "slide_type": "subslide"
    }
   },
   "outputs": [
    {
     "data": {
      "text/plain": [
       "[7,\n",
       " 25,\n",
       " 9.51,\n",
       " 'Sheldon Cooper',\n",
       " <function print>,\n",
       " ['python', 'julia', 'java', 'haskell']]"
      ]
     },
     "execution_count": 19,
     "metadata": {},
     "output_type": "execute_result"
    }
   ],
   "source": [
    "# A list of programming languages\n",
    "languages = ['python', 'julia', 'java', 'haskell']\n",
    "\n",
    "# A list containing an integer, a mathematical expression, a float,\n",
    "# a string, a built-in function, and a list\n",
    "assorted_things = [7, 5*5, 9.51, 'Sheldon Cooper', print, languages]\n",
    "\n",
    "# Display the mixed list\n",
    "assorted_things"
   ]
  },
  {
   "cell_type": "markdown",
   "metadata": {
    "slideshow": {
     "slide_type": "fragment"
    }
   },
   "source": [
    "We see that the contents of `assorted_things` are displayed. Three of the items, the mathematical expression `5*5`, `print`, and `languages` do not appear in this output. This is because the items in the list are evaluated before being displayed, so we see their actual values, not what was typed."
   ]
  },
  {
   "cell_type": "markdown",
   "metadata": {
    "slideshow": {
     "slide_type": "slide"
    }
   },
   "source": [
    "## The ability to choose\n",
    "\n",
    "We can access portions of a list using a technique called list **slicing**. This is an extension of specifying a single element by its index, like `assorted_things[3]`. List slicing uses the colon `:` operator inside of the square brackets, and a start and end index `list[start:end]`. In Python, the start index is included in the result, but the end index is not. So to take the first three elements of `assorted_things` the Python code would be:\n",
    "\n",
    "```python\n",
    "assorted_things[0:3]\n",
    "```"
   ]
  },
  {
   "cell_type": "markdown",
   "metadata": {
    "slideshow": {
     "slide_type": "subslide"
    }
   },
   "source": [
    "If a start index is not specified, it will default to the beginning of the list, and if an end index is not specified, it will default to the end of the list. If both are not specified, the entire list is included in the result.\n",
    "\n",
    "```python\n",
    "# This will take the first three items\n",
    "first_three_items = assorted_things[:3]\n",
    "\n",
    "# This will take the last two items\n",
    "last_two_items = assorted_things[4:]\n",
    "\n",
    "# This will take all of the items\n",
    "all_items = assorted_things[:]\n",
    "```"
   ]
  },
  {
   "cell_type": "markdown",
   "metadata": {
    "slideshow": {
     "slide_type": "subslide"
    }
   },
   "source": [
    "### Skipping over values\n",
    "The slicing syntax can be optionally extended to take every second value, every third value, et cetera — `list[start:end:jump]`. The default jump is effectively `1`, which does not skip any items.\n",
    "\n",
    "```python\n",
    "even_indices = [0::2]\n",
    "\n",
    "odd_indices = [1::2]\n",
    "\n",
    "every_third = [:6:3]\n",
    "```"
   ]
  },
  {
   "cell_type": "markdown",
   "metadata": {
    "slideshow": {
     "slide_type": "subslide"
    }
   },
   "source": [
    "\n",
    "### Slicing in strings\n",
    "\n",
    "Slicing based on index values also works on strings."
   ]
  },
  {
   "cell_type": "code",
   "execution_count": null,
   "metadata": {
    "slideshow": {
     "slide_type": "fragment"
    }
   },
   "outputs": [],
   "source": [
    "city = 'Edinburgh'\n",
    "city[0::2]"
   ]
  },
  {
   "cell_type": "markdown",
   "metadata": {
    "slideshow": {
     "slide_type": "slide"
    }
   },
   "source": [
    "## Repeating actions over a list\n",
    "\n",
    "If we want to perform the same action on each element in a list, we could do so one-element-at-a-time:\n",
    "\n",
    "```python\n",
    "print(assorted_things[0])\n",
    "print(assorted_things[1])\n",
    "print(assorted_things[2])\n",
    "print(assorted_things[3])\n",
    "print(assorted_things[4])\n",
    "print(assorted_things[5])\n",
    "```"
   ]
  },
  {
   "cell_type": "markdown",
   "metadata": {
    "slideshow": {
     "slide_type": "fragment"
    }
   },
   "source": [
    "but for very long lists, this would mean a lot of typing. Ideally, we would like to write a small number of lines of code to run the desired set of actions on every item of the list. In order to accomplish this, we need to change the **control flow** of our script so that, instead of executing each line once, starting at the beginning and going all the way to the bottom, some of the lines may be run more than once. It's time to talk about..."
   ]
  },
  {
   "cell_type": "markdown",
   "metadata": {},
   "source": [
    "# `for` loops\n",
    "\n",
    "A `for` loop executes one or more commands on each member of a collection of inputs. They can be used to:\n",
    "\n",
    "- easily repeat actions on several items\n",
    "- increase consistency when repeating actions\n",
    "- reduce the total amount of code needed\n",
    "- make for more automated code\n",
    "\n",
    "All `for` loops share four different components:\n",
    "\n",
    "- a set of keywords (although these are language-dependent)\n",
    "- a collection of input values\n",
    "- an iteration variable which tracks the current input value being used\n",
    "- the command(s) in the body of the `for` loop\n",
    "\n",
    "Some languages will also require specific punctuation, or other language-dependent syntax.\n",
    "\n",
    "\n",
    "## The Python `for` loop\n",
    "\n",
    "The syntax of a Python `for` loop is:\n",
    "\n",
    "```python\n",
    "for item in collection:\n",
    "    body\n",
    "```\n",
    "\n",
    "where the different parts are:\n",
    "\n",
    "- the keywords `for` and `in`\n",
    "- `collection` is the collection of input values\n",
    "- `item` is the iteration variable\n",
    "- `body` body of the `for` loop, which contains one-or-more lines of code and **must be indented**\n",
    "\n",
    "Now we'll look at a `for` loop that will print out a list of items, one after another:"
   ]
  },
  {
   "cell_type": "code",
   "execution_count": null,
   "metadata": {},
   "outputs": [],
   "source": [
    "# Our first for loop\n",
    "\n",
    "for colour in ['cyan', 'magenta', 'yellow', 'black']:\n",
    "    print(colour)"
   ]
  },
  {
   "cell_type": "markdown",
   "metadata": {},
   "source": [
    "This loop takes a list containing the colours `cyan`, `magenta`, `yellow`, and `black` and prints out each element of it in turn. However, this version of a `for` loop uses an unnamed list that is hard-coded in. In order to print out the contents of a different list, we would need to write a new `for` loop.\n",
    "\n",
    "It turns out, there is a better way: first saving our list in a variable, and then passing that variable to the `for` loop as the collection of input values."
   ]
  },
  {
   "cell_type": "code",
   "execution_count": null,
   "metadata": {},
   "outputs": [],
   "source": [
    "# First, we save our list to a variable.\n",
    "colours = ['cyan', 'magenta', 'yellow', 'black']\n",
    "\n",
    "# Then we can write a for loop and use our variable as the collection of input values\n",
    "for colour in colours:\n",
    "    print(colour)"
   ]
  },
  {
   "cell_type": "markdown",
   "metadata": {},
   "source": [
    "We could also have specified our `for` loop in this way, which uses `x` to access the individual values in the list by their index:\n",
    "\n",
    "```python\n",
    "for x in 0, 1, 2, 3:\n",
    "    print(colours[x])\n",
    "```\n",
    "\n",
    "Why might this not be the best solution?\n",
    "\n",
    "Try running:\n",
    "\n",
    "```python\n",
    "colours = ['red', 'blue', 'green']\n",
    "\n",
    "for x in 0, 1, 2, 3:\n",
    "    print(colours[x])\n",
    "```"
   ]
  },
  {
   "cell_type": "code",
   "execution_count": null,
   "metadata": {
    "slideshow": {
     "slide_type": "subslide"
    }
   },
   "outputs": [],
   "source": [
    "colours = ['red', 'blue', 'green']\n",
    "\n",
    "for x in 0, 1, 2, 3:\n",
    "    print(colours[x])"
   ]
  },
  {
   "cell_type": "markdown",
   "metadata": {},
   "source": [
    "This gave us an `IndexError` because the print command has tried to access an index that does not exist in `colours`. The list index `3` is *out of the range of possible index values for colours* ."
   ]
  },
  {
   "cell_type": "markdown",
   "metadata": {},
   "source": [
    "## Python syntax and whitespace\n",
    "\n",
    "Here, we have a very simple `for` loop:\n",
    "\n",
    "```python\n",
    "for x in 1, 2, 3:\n",
    "    print(x)\n",
    "```\n",
    "    \n",
    "Using this `for` loop, we are going to remove some of its parts, to see which deletions break it and the kind of errors we get when that happens."
   ]
  },
  {
   "cell_type": "code",
   "execution_count": null,
   "metadata": {},
   "outputs": [],
   "source": [
    "# A simple for loop\n",
    "for x in 1, 2, 3:\n",
    "    print(x)\n"
   ]
  },
  {
   "cell_type": "markdown",
   "metadata": {},
   "source": [
    "Let's first try running the `for` loop without the colon `:` at the end of the first line:"
   ]
  },
  {
   "cell_type": "code",
   "execution_count": null,
   "metadata": {},
   "outputs": [],
   "source": [
    "# for loop without colon:\n",
    "for x in 1, 2, 3\n",
    "    print(x)"
   ]
  },
  {
   "cell_type": "markdown",
   "metadata": {},
   "source": [
    "Running the `for` loop without commas resulted in `SyntaxError`. These generally indicate a problem with punctuation: either there is too much, or not enough. Or possibly just the wrong punctuation.\n",
    "\n",
    "You may notice that the numbers in the simple `for` loop are separated by commas. Let's see what happens if we leave them out."
   ]
  },
  {
   "cell_type": "code",
   "execution_count": null,
   "metadata": {},
   "outputs": [],
   "source": [
    "# for loop without commas:\n",
    "\n",
    "for x in 1 2 3:\n",
    "    print(x)"
   ]
  },
  {
   "cell_type": "markdown",
   "metadata": {},
   "source": [
    "Another SyntaxError. We get this error because the commas are required in Python to indicate where one element ends and another begins.\n",
    "\n",
    "We'll add the commas back in, but this time remove the adjacent spaces:"
   ]
  },
  {
   "cell_type": "code",
   "execution_count": null,
   "metadata": {},
   "outputs": [],
   "source": [
    "# for loop without spaces:\n",
    "\n",
    "for x in 4,5,6:\n",
    "    print(x)"
   ]
  },
  {
   "cell_type": "markdown",
   "metadata": {},
   "source": [
    "This time the `for` loop runs with no errors. So we know the spaces are not required for the code to work; however, **code is read much more often than it is written**. One of the key principles of Python is that readability counts, and it is always preferred to use spaces when they can increase readability.\n",
    "\n",
    "If the spaces are syntactically-optional, but generally preferred, does the same apply to the indentation of the loop `for` body?"
   ]
  },
  {
   "cell_type": "code",
   "execution_count": null,
   "metadata": {},
   "outputs": [],
   "source": [
    "# for loop without indentation:\n",
    "\n",
    "for x in 7, 8, 9:\n",
    "print(x)"
   ]
  },
  {
   "cell_type": "markdown",
   "metadata": {},
   "source": [
    "No, it turns out the indentation is not optional. In the next section, we'll learn why.\n",
    "\n",
    "Depending on what is left out of our `for` loop, we get different types of errors, which can inform what needs to be fixed. We will look more at Python errors later on."
   ]
  },
  {
   "cell_type": "markdown",
   "metadata": {},
   "source": [
    "\n",
    "## A note about Python vs other languages like R or bash (also Java, any of the C, C++ languages)\n",
    "\n",
    "Many programming languages use punctuation to indicate the end of a line, blocks of code that belong together (e.g., a `for` loop), or other meaning. Python is not one of these.\n",
    "\n",
    "Python is what is known as a white-space delimited language. This means that the end of a line is indicated by a line break, different levels of indentation are used to identify blocks of code (with increasing levels of indentation indicating nested blocks), and **many of the errors you get will be related to things being incorrectly indented**."
   ]
  },
  {
   "cell_type": "markdown",
   "metadata": {},
   "source": [
    "## `for` loops in other languages\n",
    "\n",
    "`for` loops in other languages may use curly braces `{ }` or keywords like `do` and `done` to indicate the beginning and end of the `for` loop body.\n",
    "\n",
    "<table>\n",
    "<tr>\n",
    "    <th> An R for loop <em>without</em> indentation </th>\n",
    "    <th> An R for loop <em>with</em> indentation </th>\n",
    "    </tr>\n",
    "<tr>\n",
    "<td>\n",
    "    \n",
    "`for (item in collection) \n",
    "{                         \n",
    "body                      \n",
    "}`\n",
    "    </td>\n",
    "    <td>\n",
    "\n",
    "`for (item in collection)\n",
    "{                        \n",
    "    body                 \n",
    "}  `\n",
    "\n",
    "</td>\n",
    "</tr>\n",
    "</table>\n",
    "\n",
    "\n",
    "\n"
   ]
  },
  {
   "cell_type": "markdown",
   "metadata": {},
   "source": [
    "<table>\n",
    "<tr>\n",
    "    <th> A bash for loop <em>without</em> indentation </th>\n",
    "    <th> A bash for loop <em>with</em> indentation </th>\n",
    "    </tr>\n",
    "<tr>\n",
    "<td>\n",
    "    \n",
    "`for item in collection\n",
    "do                     \n",
    "body                   \n",
    "done`\n",
    "    </td>\n",
    "    <td>\n",
    "\n",
    "`for item in collection\n",
    "do                     \n",
    "    body               \n",
    "done`\n",
    "\n",
    "</td>\n",
    "</tr>\n",
    "</table>"
   ]
  },
  {
   "cell_type": "markdown",
   "metadata": {},
   "source": [
    "## The end of the Python `for` loop\n",
    "\n",
    "How does Python identify the end of a `for` loop without the use of punctuation or keywords?\n",
    "\n",
    "Python looks at continuous blocks of indented code. Once it reads a line with the form of `for item in collection:`, it takes all of the consecutively-indented lines after it as the body of the `for` loop.\n",
    "\n",
    "If there are no indented lines, we get an `IndentationError`, as we saw previously. This is because from Python's perspective, the `for` loop body is empty.\n",
    "\n",
    "We'll look at two more example `for` loops to see how this indentation works:"
   ]
  },
  {
   "cell_type": "code",
   "execution_count": null,
   "metadata": {},
   "outputs": [],
   "source": [
    "# A for loop followed by an unindented line of code\n",
    "\n",
    "for x in 1, 2, 3:\n",
    "    print('x is:', x)\n",
    "    print('x squared is:', x*x)\n",
    "print('Is this after the loop?')"
   ]
  },
  {
   "cell_type": "code",
   "execution_count": null,
   "metadata": {},
   "outputs": [],
   "source": [
    "# A for loop followed by a detached, indented line of code\n",
    "\n",
    "for x in 4, 5, 6:\n",
    "    print('x is:', x)\n",
    "    print('x squared is:', x*x)\n",
    "    \n",
    "    print('Is this after the loop?')"
   ]
  },
  {
   "cell_type": "markdown",
   "metadata": {},
   "source": [
    "### Exercise 1\n",
    "#### Identify the required parts of a `for` loop\n",
    "\n",
    "We'e just looked at several examples of `for` loops and what happens when some of them are left out.\n",
    "\n",
    "Which of the following elements are required to make a `for` loop function correctly? Answer the question on Socrative.\n",
    "\n",
    "- commas between the input values\n",
    "- spaces between the input values\n",
    "- lines within the `for` loop indented\n",
    "- a colon `:` at the end of the first line of the `for` loop"
   ]
  },
  {
   "cell_type": "markdown",
   "metadata": {},
   "source": [
    "### Exercise 2:\n",
    "#### Use a list in a `for` loop\n",
    "\n",
    "Write a `for` loop that loops over several animals. Do this with and without using the name of a list variable containing the animals."
   ]
  },
  {
   "cell_type": "code",
   "execution_count": null,
   "metadata": {},
   "outputs": [],
   "source": [
    "# Create a list\n",
    "# Write two versions of a for loop that iterates over your list\n",
    "# One, that does not use the list's name, and one that does\n"
   ]
  },
  {
   "cell_type": "markdown",
   "metadata": {},
   "source": [
    "## A 'collection' can be many things\n",
    "\n",
    "`for` loops can also loop over the characters in a string or values in a range. The latter can be achieved using the `range()` function, which takes two arguments, a beginning index (which is included in the range), and an ending index (which is not included). \n",
    "\n",
    "We'll look at some examples of `for` loops using these new types of collections. We'll also look at the `len()` function, which can be used to find the length of lists, strings, and ranges."
   ]
  },
  {
   "cell_type": "code",
   "execution_count": null,
   "metadata": {},
   "outputs": [],
   "source": [
    "len(colours)"
   ]
  },
  {
   "cell_type": "code",
   "execution_count": null,
   "metadata": {},
   "outputs": [],
   "source": [
    "for letter in 'abcdefg':\n",
    "    print(letter)\n",
    "    \n",
    "print('The length of abcdefg is:', len('abcdefg'))"
   ]
  },
  {
   "cell_type": "code",
   "execution_count": null,
   "metadata": {},
   "outputs": [],
   "source": [
    "for number in range(0, 5):\n",
    "    print(number)\n",
    "    \n",
    "print('The length of range(0, 5) is:', len(range(0, 5)))"
   ]
  },
  {
   "cell_type": "markdown",
   "metadata": {},
   "source": [
    "These last uses of the `print()` function have nested function calls as one of their arguments. In Python, functions can be passed as arguments to other functions, just like variables or raw data."
   ]
  },
  {
   "cell_type": "markdown",
   "metadata": {},
   "source": [
    "# Summary\n",
    "\n",
    "- Lists\n",
    "    - slicing\n",
    "\n",
    "- `for` loops\n",
    "\n",
    "- `len()``\n",
    "- `range(x, y)`"
   ]
  }
 ],
 "metadata": {
  "celltoolbar": "Slideshow",
  "kernelspec": {
   "display_name": "Python 3",
   "language": "python",
   "name": "python3"
  },
  "language_info": {
   "codemirror_mode": {
    "name": "ipython",
    "version": 3
   },
   "file_extension": ".py",
   "mimetype": "text/x-python",
   "name": "python",
   "nbconvert_exporter": "python",
   "pygments_lexer": "ipython3",
   "version": "3.7.6"
  }
 },
 "nbformat": 4,
 "nbformat_minor": 4
}
