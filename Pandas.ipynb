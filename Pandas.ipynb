{
 "cells": [
  {
   "cell_type": "markdown",
   "metadata": {},
   "source": [
    "# Pandas\n",
    "\n",
    "### Questions\n",
    "\n",
    "- How can I work with tabular data of different data types?\n",
    "\n",
    "### Objectives\n",
    "\n",
    "- Load tabular data with Pandas to create a DataFrame.\n",
    "- Learn how to select portions of data contained in a DataFrame.\n",
    "- Do statistical analyses on data stored in a DataFrame.\n",
    "- Plot data in a DataFrame using the Seaborn library."
   ]
  },
  {
   "cell_type": "markdown",
   "metadata": {},
   "source": [
    "### What is a DataFrame?\n",
    "\n",
    "A DataFrame is like a spreadsheet with rows and columns representing observations and data fields, respectively.\n",
    "\n",
    "Columns have labels, like the header row of a spreadsheet, and rows are indexed by number.\n",
    "\n",
    "DataFrames are very powerful and great for data exploration and analysis.\n",
    "\n",
    "A key difference between a NumPy array and a Pandas DataFrame is that a NumPy array contains values of only a single data type.\n",
    "\n",
    "A Pandas DataFrame can have different data types in each of its columns.\n",
    "\n",
    "Let's import the Pandas library using the customary alias:\n",
    "\n",
    "```python\n",
    "import pandas as pd\n",
    "```"
   ]
  },
  {
   "cell_type": "code",
   "execution_count": 1,
   "metadata": {},
   "outputs": [],
   "source": [
    "# Import pandas using an alias\n"
   ]
  },
  {
   "cell_type": "markdown",
   "metadata": {},
   "source": [
    "We'll load in our fmri data using `pd.csv()`:\n",
    "\n",
    "```python\n",
    "fmri_data = pd.read_csv(\"new_fmri.csv\")\n",
    "```\n",
    "\n",
    "We aren't using any of `pd.read_csv()`'s parameters now, but you will want to look into them for your own data."
   ]
  },
  {
   "cell_type": "code",
   "execution_count": 3,
   "metadata": {},
   "outputs": [],
   "source": [
    "# Load fmri data\n"
   ]
  },
  {
   "cell_type": "markdown",
   "metadata": {},
   "source": [
    "### Looking at the data\n",
    "\n",
    "We'll start by getting an idea of what our data looks like using some of the DataFrame's attributes and methods.\n",
    "\n",
    "<!---\n",
    "```python\n",
    "# shape is an Attributes\n",
    "# print out the dimensions\n",
    "print(\"The shape of our data frame\")\n",
    "print(fmri_data.shape)\n",
    "\n",
    "# head(), tail(), and describe() are methods\n",
    "# print the first five rows\n",
    "print(\"\\n The head of our data frame \\n\")\n",
    "print(fmri_data.head())\n",
    "\n",
    "# print the last five rows\n",
    "print(\"\\n The tail of our data frame \\n\")\n",
    "print(fmri_data.tail())\n",
    "\n",
    "# print out summary statistics\n",
    "print(\"\\n A quick description of our data frame\\n\")\n",
    "print(fmri_data.describe())\n",
    "\n",
    "# columns and index are attributes\n",
    "# get the column names\n",
    "print(\"\\nThe column names are \\n\")\n",
    "print(fmri_data.columns)\n",
    "\n",
    "# get the index values\n",
    "print(\"\\n The row indices are \\n\")\n",
    "print(fmri_data.index)\n",
    "# indices may or may not be as useful as column names, depending on the DataFrame\n",
    "```\n",
    "-->"
   ]
  },
  {
   "cell_type": "code",
   "execution_count": null,
   "metadata": {},
   "outputs": [],
   "source": [
    "# shape is an Attributes\n",
    "# print out the dimensions\n",
    "\n"
   ]
  },
  {
   "cell_type": "code",
   "execution_count": null,
   "metadata": {},
   "outputs": [],
   "source": [
    "# head(), tail(), and describe() are methods\n",
    "# print the first five rows\n"
   ]
  },
  {
   "cell_type": "code",
   "execution_count": null,
   "metadata": {},
   "outputs": [],
   "source": [
    "# print the last five rows\n"
   ]
  },
  {
   "cell_type": "code",
   "execution_count": null,
   "metadata": {},
   "outputs": [],
   "source": [
    "# print out summary statistics\n"
   ]
  },
  {
   "cell_type": "code",
   "execution_count": null,
   "metadata": {},
   "outputs": [],
   "source": [
    "# columns and index are attributes\n",
    "# get the column names\n"
   ]
  },
  {
   "cell_type": "code",
   "execution_count": null,
   "metadata": {},
   "outputs": [],
   "source": [
    "# get the index values\n",
    "# indices may or may not be as useful as column names\n",
    "# depending on the DataFrame\n"
   ]
  },
  {
   "cell_type": "markdown",
   "metadata": {},
   "source": [
    "### Referencing columns\n",
    "\n",
    "Pandas has two different ways to access data in a columns.\n",
    "\n",
    "```python\n",
    "fmri_data[\"subject\"]\n",
    "```\n",
    "\n",
    "```python\n",
    "fmri_data.subject\n",
    "```\n",
    "\n",
    "Both of these options are equivalent, but it is best to choose one and be consistent in your own code."
   ]
  },
  {
   "cell_type": "code",
   "execution_count": null,
   "metadata": {},
   "outputs": [],
   "source": [
    "# Pull a single column from the dataset\n"
   ]
  },
  {
   "cell_type": "markdown",
   "metadata": {},
   "source": [
    "Basic statistical operations can easily be done on a column:\n",
    "\n",
    "<!---\n",
    "print(\"Count:\", fmri_data[\"subject\"].count())  # number of values in the column\n",
    "print(\"Max:\", fmri_data[\"subject\"].max())\n",
    "print(\"Min:\", fmri_data[\"subject\"].min())\n",
    "print(\"Std dev:\", fmri_data[\"inc_signal\"].std())\n",
    "print(\"Mean:\", fmri_data[\"inc_signal\"].mean())\n",
    "print(\"Sum:\", fmri_data[\"inc_signal\"].sum())\n",
    "-->"
   ]
  },
  {
   "cell_type": "markdown",
   "metadata": {},
   "source": [
    "### Indexing and slicing in DataFrames\n",
    "\n",
    "We can use the indexing and slicing syntax we have seen with lists and NumPy arrays with our DataFrame, as well.\n",
    "\n",
    "We can take the first five subjects' worth of data:\n",
    "\n",
    "<!---\n",
    "fmri_data[ :5]\n",
    "-->"
   ]
  },
  {
   "cell_type": "code",
   "execution_count": null,
   "metadata": {},
   "outputs": [],
   "source": [
    "# Get the first five subjects\n"
   ]
  },
  {
   "cell_type": "markdown",
   "metadata": {},
   "source": [
    "Or the last five subjects' (remembering that negative indices start at the end, with `-1`):\n",
    "\n",
    "<!---\n",
    "fmri_data[-5: ]\n",
    "-->"
   ]
  },
  {
   "cell_type": "code",
   "execution_count": 4,
   "metadata": {},
   "outputs": [],
   "source": [
    "# Get the last five subjects\n"
   ]
  },
  {
   "cell_type": "markdown",
   "metadata": {},
   "source": [
    "Or a random selection from the middle:\n",
    "\n",
    "<!---\n",
    "fmri_data[34:58]\n",
    "-->"
   ]
  },
  {
   "cell_type": "code",
   "execution_count": 5,
   "metadata": {},
   "outputs": [],
   "source": [
    "# Take a random slice\n"
   ]
  },
  {
   "cell_type": "markdown",
   "metadata": {},
   "source": [
    "Or even a selection based on a condition:\n",
    "\n",
    "<!---\n",
    "fmri_data[fmri_data['subject'] == 's3']\n",
    "fmri_data[fmri_data['inc_signal'] > 5]\n",
    "-->"
   ]
  },
  {
   "cell_type": "code",
   "execution_count": 6,
   "metadata": {},
   "outputs": [],
   "source": [
    "# Use a conditional expression to select rows\n"
   ]
  },
  {
   "cell_type": "markdown",
   "metadata": {},
   "source": [
    "### Sorting data\n",
    "\n",
    "We can sort values in our data frame on one or more columns.\n",
    "\n",
    "<!---\n",
    "fmri_data_idx.sort_values(['subject_id', 'timepoint', 'event', 'region'])\n",
    "-->"
   ]
  },
  {
   "cell_type": "code",
   "execution_count": null,
   "metadata": {},
   "outputs": [],
   "source": [
    "# Sort the data\n"
   ]
  },
  {
   "cell_type": "markdown",
   "metadata": {},
   "source": [
    "### Resetting the index\n",
    "\n",
    "Let's reset our index using the method `set_index()` so that the indices correspond to the subjects of our data points.\n",
    "\n",
    "To do this, we'll use a smaller DataFrame, `frontal` and create a copy called `frontal_idx`.\n",
    "\n",
    "We could also reset the index in place, by setting the `set_index` parameter `inplace` to `True`.\n",
    "\n",
    "<!---\n",
    "frontal = pd.read_csv(\"frontal.csv\")\n",
    "frontal_idx = frontal.set_index(\"subject\")\n",
    "\n",
    "frontal_idx.index\n",
    "-->"
   ]
  },
  {
   "cell_type": "code",
   "execution_count": null,
   "metadata": {},
   "outputs": [],
   "source": [
    "# Read in the small frontal.csv data set\n",
    "# Reset the index and save the result in a copy of frontal\n"
   ]
  },
  {
   "cell_type": "markdown",
   "metadata": {},
   "source": [
    "### Methods for subsetting DataFrames\n",
    "\n",
    "Pandas has four methods for subsetting data in a DataFrame.\n",
    "\n",
    "Two of them use a label-based selector. These are: `.loc()` and `.at()`. `.loc()` is used to select a range of rows or columns. `.at()` is used to select and single cell based on its row and column.\n",
    "\n",
    "The other two methods use index numbers to select data. These are: `.iloc()` and `.iat()`. `.iloc()` selects a range of rows or columns. `.at()` selects a single cell based on its row and column.\n",
    "\n",
    "<!---\n",
    "frontal.loc[:5]\n",
    "# frontal_idx.loc[:5]   doesn't work\n",
    "frontal_idx.iloc[:5]\n",
    "# frontal_idx.loc[3:8, \"signal\"]   doesn't work\n",
    "# frontal_idx.iloc[3:8, \"signal\"]  doesn't work\n",
    "frontal_idx.iloc[3:8]\n",
    "frontal.at[0, 'subject']   # row label is an integer\n",
    "frontal_idx.at['s0', 'inc_signal']\n",
    "frontal.iat[2,3]\n",
    "frontal_idx.iat[0,3]\n",
    "-->"
   ]
  },
  {
   "cell_type": "code",
   "execution_count": null,
   "metadata": {},
   "outputs": [],
   "source": [
    "# Examples using .loc(), .at(), .iloc(), and .iat()\n"
   ]
  },
  {
   "cell_type": "markdown",
   "metadata": {},
   "source": [
    "### Plotting with Pandas and Seaborn\n",
    "\n",
    "We're now going to see how to create some plots with the Seaborn library, which is very well integrated with Pandas.\n",
    "\n",
    "We will start by importing the Seaborn library, which comes with some example datasets. We'll load one of these, look at it, then plot the example plot.\n",
    "\n",
    "<!---\n",
    "# This line will load the seaborn library.\n",
    "import seaborn as sns\n",
    "\n",
    "# This line will load the mpg example dataset\n",
    "mpg = sns.load_dataset(\"mpg\")\n",
    "\n",
    "# This fairly complicated line of code will produce\n",
    "# a plot based on the mpt dataset. We will be able \n",
    "# to see the plot inside this notebook.\n",
    "\n",
    "# Plot miles per gallon against horsepower with other semantics\n",
    "fig = sns.relplot(x=\"horsepower\", y=\"mpg\", hue=\"origin\", size=\"weight\",\n",
    "            sizes=(40, 400), alpha=.5, palette=\"rocket\",\n",
    "            height=5, data=mpg)\n",
    "-->"
   ]
  },
  {
   "cell_type": "code",
   "execution_count": 20,
   "metadata": {},
   "outputs": [
    {
     "data": {
      "image/png": "[encoded data removed]",
      "text/plain": [
       "<Figure size 430.75x360 with 1 Axes>"
      ]
     },
     "metadata": {
      "needs_background": "light"
     },
     "output_type": "display_data"
    }
   ],
   "source": [
    "# This line will load the seaborn library.\n",
    "import seaborn as sns\n",
    "\n",
    "# This line will load the mpg example dataset\n",
    "mpg = sns.load_dataset(\"mpg\")\n",
    "\n",
    "# This fairly complicated line of code will produce\n",
    "# a plot based on the mpt dataset. We will be able \n",
    "# to see the plot inside this notebook.\n",
    "\n",
    "# Plot miles per gallon against horsepower with other semantics\n",
    "fig = sns.relplot(x=\"horsepower\", y=\"mpg\", hue=\"origin\", size=\"weight\",\n",
    "            sizes=(40, 400), alpha=.5, palette=\"rocket\",\n",
    "            height=5, data=mpg)"
   ]
  },
  {
   "cell_type": "markdown",
   "metadata": {},
   "source": [
    "### Let's plot some stuff\n",
    "\n",
    "We will now use an FMRI dataset to make a few plots. We'll see how we can change what gets plotted by swapping arguments, and how to make different types of plots with the same data. This allows you to highlight different points.\n",
    "\n",
    "<!---\n",
    "import seaborn as sns\n",
    "import pandas as pd\n",
    "\n",
    "fmri_data = pd.read_csv(\"new_fmri.csv\")\n",
    "\n",
    "# Plot the responses for different events and regions\n",
    "sns.lineplot(x=\"timepoint\", y=\"signal\",\n",
    "             hue=\"region\", style=\"event\",\n",
    "             palette=\"rocket\", data=fmri_data)\n",
    "-->\n",
    "\n",
    "<!---\n",
    "import seaborn as sns\n",
    "sns.boxenplot(x=\"timepoint\", y=\"signal\",\n",
    "              color=\"b\", \n",
    "              scale=\"linear\", data=fmri_data)\n",
    "-->"
   ]
  },
  {
   "cell_type": "code",
   "execution_count": 22,
   "metadata": {},
   "outputs": [],
   "source": [
    "# Plot a line plot of the responses for different events and regions\n"
   ]
  },
  {
   "cell_type": "code",
   "execution_count": 21,
   "metadata": {},
   "outputs": [],
   "source": [
    "# Make a box plot of the variance between patients at each timepoint\n"
   ]
  },
  {
   "cell_type": "code",
   "execution_count": null,
   "metadata": {},
   "outputs": [],
   "source": []
  }
 ],
 "metadata": {
  "kernelspec": {
   "display_name": "Python 3",
   "language": "python",
   "name": "python3"
  },
  "language_info": {
   "codemirror_mode": {
    "name": "ipython",
    "version": 3
   },
   "file_extension": ".py",
   "mimetype": "text/x-python",
   "name": "python",
   "nbconvert_exporter": "python",
   "pygments_lexer": "ipython3",
   "version": "3.7.6"
  },
  "rise": {
   "enable_chalkboard": true
  }
 },
 "nbformat": 4,
 "nbformat_minor": 4
}
