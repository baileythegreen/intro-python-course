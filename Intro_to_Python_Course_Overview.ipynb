{
 "cells": [
  {
   "cell_type": "markdown",
   "metadata": {
    "slideshow": {
     "slide_type": "slide"
    }
   },
   "source": [
    "# <div align=\"center\"> Python\n",
    "<div align=\"center\"><img src=\"https://imgs.xkcd.com/comics/python.png\" />"
   ]
  },
  {
   "cell_type": "markdown",
   "metadata": {
    "slideshow": {
     "slide_type": "slide"
    }
   },
   "source": [
    "# What is Python?"
   ]
  },
  {
   "cell_type": "markdown",
   "metadata": {
    "slideshow": {
     "slide_type": "fragment"
    }
   },
   "source": [
    "- First introduced by its creator, Guido van Rossum, in 1991."
   ]
  },
  {
   "cell_type": "markdown",
   "metadata": {
    "slideshow": {
     "slide_type": "fragment"
    }
   },
   "source": [
    "- An open-source, high-level, object-oriented, programming language.\n",
    "    - Though it also supports other programming paradigms."
   ]
  },
  {
   "cell_type": "markdown",
   "metadata": {
    "slideshow": {
     "slide_type": "fragment"
    }
   },
   "source": [
    "- An interpreted language."
   ]
  },
  {
   "cell_type": "markdown",
   "metadata": {
    "slideshow": {
     "slide_type": "slide"
    }
   },
   "source": [
    "# Python pros\n",
    "\n",
    "- Readability\n",
    "- Easier to start learning\n",
    "- Widely-used in science (and many other fields)\n",
    "    - lots of libraries for a variety of applications\n",
    "- Allows different types of programming (not an exhaustive list)\n",
    "    - object-oriented\n",
    "    - functional\n",
    "    - scripting\n",
    "- Supportive community of programmers\n"
   ]
  },
  {
   "cell_type": "markdown",
   "metadata": {
    "slideshow": {
     "slide_type": "subslide"
    }
   },
   "source": [
    "# Python cons\n",
    "\n",
    "- Depending on the application, other languages (C, C++, Julia) may be faster\n",
    "    - though some of them will be harder to learn\n",
    "- Whitespace-based syntax may feel confusing (at first)\n",
    "    - but it really helps with making code more readable"
   ]
  },
  {
   "cell_type": "markdown",
   "metadata": {
    "slideshow": {
     "slide_type": "slide"
    }
   },
   "source": [
    "# Python 2 vs Python 3\n",
    "\n",
    "Python 3 introduced some fairly big changes into the Python language.\n",
    "\n",
    "We will not be going into them today, but it means that not all code is compatible with both versions.\n",
    "\n",
    "Use Python 2 ***if a program or library you need requires it***.\n",
    "\n",
    "Otherwise use Python 3. Python 2 is being officially deprecated at the end of this year."
   ]
  },
  {
   "cell_type": "markdown",
   "metadata": {
    "slideshow": {
     "slide_type": "slide"
    }
   },
   "source": [
    "# iPython vs Python\n",
    "\n",
    "This course is being taught inside of Jupyter Notebooks (like this one).\n",
    "\n",
    "Jupyter Notebooks use an *interactive* Python (iPython) kernel.\n",
    "\n",
    "Using a regular Python interpreter on the command line may look a bit different.\n",
    "   - the prompt will be different (or just present, really)\n",
    "   - plots won't show up in-line\n",
    "   - `help()` function output appears differently"
   ]
  },
  {
   "cell_type": "markdown",
   "metadata": {
    "slideshow": {
     "slide_type": "slide"
    }
   },
   "source": [
    "# Topics we will cover\n",
    "\n",
    "- Fundamentals\n",
    "- Lists and (`for`) loops\n",
    "- Errors and traceback and whitespace (oh my!)\n",
    "- Conditionals and truth\n",
    "- Functions and methods\n",
    "- Data structures"
   ]
  },
  {
   "cell_type": "markdown",
   "metadata": {
    "slideshow": {
     "slide_type": "subslide"
    }
   },
   "source": [
    "# Topics we won't cover\n",
    "### (which is not to say they aren't worthwhile)\n",
    "\n",
    "- Error handling and exceptions\n",
    "- Defensive programming\n",
    "- Extensive debugging\n",
    "- Writing command-line modules\n",
    "- Easter eggs in the language (though I **really** want to)"
   ]
  },
  {
   "cell_type": "code",
   "execution_count": null,
   "metadata": {},
   "outputs": [],
   "source": []
  }
 ],
 "metadata": {
  "celltoolbar": "Slideshow",
  "kernelspec": {
   "display_name": "Python 3",
   "language": "python",
   "name": "python3"
  },
  "language_info": {
   "codemirror_mode": {
    "name": "ipython",
    "version": 3
   },
   "file_extension": ".py",
   "mimetype": "text/x-python",
   "name": "python",
   "nbconvert_exporter": "python",
   "pygments_lexer": "ipython3",
   "version": "3.7.6"
  }
 },
 "nbformat": 4,
 "nbformat_minor": 4
}
