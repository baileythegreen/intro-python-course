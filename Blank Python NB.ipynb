{
 "cells": [
  {
   "cell_type": "code",
   "execution_count": 3,
   "metadata": {
    "slideshow": {
     "slide_type": "slide"
    }
   },
   "outputs": [],
   "source": [
    "import pandas as pd\n",
    "import numpy as np\n",
    "import matplotlib"
   ]
  },
  {
   "cell_type": "markdown",
   "metadata": {
    "slideshow": {
     "slide_type": "subslide"
    }
   },
   "source": [
    "| Stretch/Untouched | ProbDistribution | Accuracy |\n",
    "| :- | -: | :-: |\n",
    "| for item in collection | Gaussian | .843 |\n",
    "| do | Gaussian | .843 |\n",
    "| echo $item | Gaussian | .843 |\n",
    "| done | Gaussian | .843 |"
   ]
  },
  {
   "cell_type": "markdown",
   "metadata": {
    "slideshow": {
     "slide_type": "fragment"
    }
   },
   "source": [
    "```bash \n",
    "for item in collection\n",
    "do\n",
    "     echo $item\n",
    "done\n",
    "```\n"
   ]
  },
  {
   "cell_type": "markdown",
   "metadata": {},
   "source": [
    "\n",
    "<table>\n",
    "<tr>\n",
    "    <th> A bash for loop <em>without</em> indentation </th>\n",
    "    <th> A bash for loop <em>with</em> indentation </th>\n",
    "    </tr>\n",
    "<tr>\n",
    "<td>\n",
    "\n",
    "```bash\n",
    "for item in collection\n",
    "do\n",
    "body\n",
    "done\n",
    "```\n",
    "    \n",
    "</td>\n",
    "<td>\n",
    "\n",
    "```bash\n",
    "for item in collection\n",
    "do                     \n",
    "    body               \n",
    "done```\n",
    "\n",
    "</td>\n",
    "</tr>"
   ]
  },
  {
   "cell_type": "code",
   "execution_count": null,
   "metadata": {},
   "outputs": [],
   "source": [
    "Items can be added to and removed from lists. With some other data structures these actions are not possible. The list data structure has a set of **methods** that perform these and other actions. \n",
    "\n",
    "In our examples so far, we've looked at `for` loops where every item in the collection of input values was listed, with individual items separated by a comma. They can accept different types of inputs, though.\n",
    "\n",
    "One example is called a **list**. \n",
    "\n",
    "\n",
    "append\n",
    "clear\n",
    "copy\n",
    "count\n",
    "extend\n",
    "index\n",
    "insert\n",
    "pop\n",
    "remove\n",
    "reverse\n",
    "sort"
   ]
  },
  {
   "cell_type": "code",
   "execution_count": 2,
   "metadata": {},
   "outputs": [],
   "source": [
    "string = 'text'\n",
    "string = 's'"
   ]
  },
  {
   "cell_type": "code",
   "execution_count": null,
   "metadata": {},
   "outputs": [],
   "source": [
    "- Write scripts that use `if/elif/else` to perform conditional operations. *\n",
    "- Correctly write programs that use `if`and `else` statements and simple Boolean expressions (without logical operators). *\n",
    "- Trace the execution of unnested conditionals and conditionals inside loops. *\n",
    "- Call built-in functions. *\n",
    "- Call methods on strings and lists. *\n",
    "- Use online help to inspect functions' documenatation. *\n",
    "- How do I make decisions? *\n",
    "- How do I call built-in functions? *\n"
   ]
  }
 ],
 "metadata": {
  "kernelspec": {
   "display_name": "Python 3",
   "language": "python",
   "name": "python3"
  },
  "language_info": {
   "codemirror_mode": {
    "name": "ipython",
    "version": 3
   },
   "file_extension": ".py",
   "mimetype": "text/x-python",
   "name": "python",
   "nbconvert_exporter": "python",
   "pygments_lexer": "ipython3",
   "version": "3.7.6"
  }
 },
 "nbformat": 4,
 "nbformat_minor": 4
}
