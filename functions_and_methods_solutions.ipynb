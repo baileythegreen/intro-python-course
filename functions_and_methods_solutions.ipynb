{
 "cells": [
  {
   "cell_type": "markdown",
   "metadata": {},
   "source": [
    "## Exercises"
   ]
  },
  {
   "cell_type": "markdown",
   "metadata": {},
   "source": [
    "### 1. Combining Strings\n",
    "\n",
    "“Adding” two strings produces their concatenation: `'a' + 'b'` is `'ab'`. Write a function called `fence` that takes two parameters called `original` and `wrapper` and returns a new string that has the `wrapper` character at the beginning and end of `original`. A call to your function should look like this:\n",
    "\n",
    "```python\n",
    "print(fence('name', '*'))\n",
    "```\n",
    "Output:\n",
    "```python\n",
    "*name*\n",
    "```\n",
    "\n",
    "#### Solution\n",
    "\n",
    "```python\n",
    "def fence(original, wrapper):\n",
    "    return wrapper + original + wrapper\n",
    "```"
   ]
  },
  {
   "cell_type": "markdown",
   "metadata": {},
   "source": [
    "### 2. Return versus print\n",
    "\n",
    "Note that `return` and `print` are not interchangeable. `print` is a Python function that prints data to the screen. It enables us, users, see the data. The `return` statement, on the other hand, makes data visible to the program. Let’s have a look at the following function:\n",
    "\n",
    "```python\n",
    "def add(a, b):\n",
    "    print(a + b)\n",
    "```\n",
    "\n",
    "Question: What will we see if we execute the following commands?\n",
    "\n",
    "```python\n",
    "A = add(7, 3)\n",
    "print(A)\n",
    "```\n",
    "\n",
    "#### Solution\n",
    "\n",
    "Python will first execute the function add with `a = 7` and `b = 3`, and, therefore, print `10`. However, because the function `add` does not have a line that starts with `return` (no `return` “statement”), it will, by default, return nothing which, in the Python world, is called `None`. Therefore, `A` will be assigned to `None` and the last line, `print(A)`, will print `None`. As a result, we will see:\n",
    "\n",
    "```python\n",
    "10\n",
    "None\n",
    "```"
   ]
  },
  {
   "cell_type": "code",
   "execution_count": 4,
   "metadata": {},
   "outputs": [
    {
     "name": "stdout",
     "output_type": "stream",
     "text": [
      "None\n"
     ]
    }
   ],
   "source": [
    "def add(a, b):\n",
    "    print(a + b)\n",
    "    return None\n",
    "\n",
    "A = add(3, 7)\n",
    "print(A)"
   ]
  },
  {
   "cell_type": "markdown",
   "metadata": {},
   "source": [
    "### 3. Selecting Characters From Strings\n",
    "If the variable `s` refers to a string, then `s[0]` is the string’s first character and `s[-1]` is its last. Write a function called `outer` that returns a string made up of just the first and last characters of its input. A call to your function should look like this:\n",
    "\n",
    "```python\n",
    "print(outer('helium'))\n",
    "hm\n",
    "```\n",
    "\n",
    "#### Solution\n",
    "```python\n",
    "def outer(input_string):\n",
    "    return input_string[0] + input_string[-1]\n",
    "```"
   ]
  },
  {
   "cell_type": "markdown",
   "metadata": {},
   "source": [
    "### 4. Mixing Default and Non-Default Parameters\n",
    "\n",
    "Given the following code:\n",
    "\n",
    "```python\n",
    "def numbers(one, two=2, three, four=4):\n",
    "    n = str(one) + str(two) + str(three) + str(four)\n",
    "    return n\n",
    "\n",
    "print(numbers(1, three=3))\n",
    "```\n",
    "\n",
    "what do you expect will be printed? What is actually printed? What rule do you think Python is following?\n",
    "\n",
    "1. `1234`\n",
    "1. `one2three4`\n",
    "1. `1239`\n",
    "1. `SyntaxError`\n",
    "\n",
    "Given that, what does the following piece of code display when run?\n",
    "\n",
    "```python\n",
    "def func(a, b=3, c=6):\n",
    "    print('a: ', a, 'b: ', b, 'c:', c)\n",
    "\n",
    "func(-1, 2)\n",
    "```\n",
    "\n",
    "1. `a: b: 3 c: 6`\n",
    "1. `a: -1 b: 3 c: 6`\n",
    "1. `a: -1 b: 2 c: 6`\n",
    "1. `a: b: -1 c: 2`\n",
    "\n",
    "#### Solution\n",
    "\n",
    "Attempting to define the `numbers` function results in `4. SyntaxError`. The defined parameters `two` and `four` are given default values. Because `one` and `three` are not given default values, they are required to be included as arguments when the function is called and must be placed before any parameters that have default values in the function definition.\n",
    "\n",
    "The given call to `func` displays `a: -1 b: 2 c: 6`. `-1` is assigned to the first parameter `a`, `2` is assigned to the next parameter `b`, and `c` is not passed a value, so it uses its default value `6`.\n"
   ]
  },
  {
   "cell_type": "markdown",
   "metadata": {},
   "source": [
    "### 5. Variables Inside and Outside Functions\n",
    "What does the following piece of code display when run — and why?\n",
    "\n",
    "```python\n",
    "f = 0\n",
    "k = 0\n",
    "\n",
    "def f2k(f):\n",
    "    k = ((f-32)*(5.0/9.0)) + 273.15\n",
    "    return k\n",
    "\n",
    "print(f2k(8))\n",
    "print(f2k(41))\n",
    "print(f2k(32))\n",
    "\n",
    "print(k)\n",
    "```\n",
    "\n",
    "#### Solution\n",
    "\n",
    "```python\n",
    "259.81666666666666\n",
    "287.15\n",
    "273.15\n",
    "0\n",
    "```\n",
    "\n",
    "`k` is `0` because the `k` inside the function `f2k` doesn’t know about the `k` defined outside the function."
   ]
  },
  {
   "cell_type": "markdown",
   "metadata": {},
   "source": [
    "### 6. The Old Switcheroo\n",
    "Consider this code:\n",
    "\n",
    "```python\n",
    "a = 3\n",
    "b = 7\n",
    "\n",
    "def swap(a, b):\n",
    "    temp = a\n",
    "    a = b\n",
    "    b = temp\n",
    "\n",
    "swap(a, b)\n",
    "\n",
    "print(a, b)\n",
    "```\n",
    "\n",
    "Which of the following would be printed if you were to run this code? Why did you pick this answer?\n",
    "\n",
    "1. 7 3\n",
    "1. 3 7\n",
    "1. 3 3\n",
    "1. 7 7\n",
    "\n",
    "#### Solution\n",
    "\n",
    "`3 7` is the correct answer. Initially, `a` has a value of `3` and `b` has a value of `7`. When the `swap` function is called, it creates local variables (also called `a` and `b` in this case) and trades their values. The function does not return any values and does not alter `a` or `b` outside of its local copy. Therefore the original values of `a` and `b` remain unchanged."
   ]
  },
  {
   "cell_type": "markdown",
   "metadata": {},
   "source": [
    "#### 7. Readable Code\n",
    "\n",
    "Revise a function you wrote for one of the previous exercises to try to make the code more readable. Then, collaborate with one of your neighbors to critique each other’s functions and discuss how your function implementations could be further improved to make them more readable."
   ]
  },
  {
   "cell_type": "code",
   "execution_count": null,
   "metadata": {},
   "outputs": [],
   "source": []
  }
 ],
 "metadata": {
  "kernelspec": {
   "display_name": "Python 3",
   "language": "python",
   "name": "python3"
  },
  "language_info": {
   "codemirror_mode": {
    "name": "ipython",
    "version": 3
   },
   "file_extension": ".py",
   "mimetype": "text/x-python",
   "name": "python",
   "nbconvert_exporter": "python",
   "pygments_lexer": "ipython3",
   "version": "3.7.6"
  }
 },
 "nbformat": 4,
 "nbformat_minor": 4
}
