{
 "cells": [
  {
   "cell_type": "code",
   "execution_count": 1,
   "metadata": {
    "slideshow": {
     "slide_type": "skip"
    }
   },
   "outputs": [
    {
     "data": {
      "text/html": [
       "<style>\n",
       "img.seventy {\n",
       "  max-width:70%;\n",
       "  max-height:70%;\n",
       "}\n",
       "img.seventyfive {\n",
       "  max-width:75%;\n",
       "  max-height:75%;\n",
       "}\n",
       "img.eighty {\n",
       "  max-width:80%;\n",
       "  max-height:80%;\n",
       "}\n",
       "img.eightyfive {\n",
       "  max-width:85%;\n",
       "  max-height:85%;\n",
       "}\n",
       "img.ninety {\n",
       "  max-width:90%;\n",
       "  max-height:90%;\n",
       "}\n",
       "<style>\n"
      ],
      "text/plain": [
       "<IPython.core.display.HTML object>"
      ]
     },
     "metadata": {},
     "output_type": "display_data"
    }
   ],
   "source": [
    "%%html\n",
    "<style>\n",
    "img.seventy {\n",
    "  max-width:70%;\n",
    "  max-height:70%;\n",
    "}\n",
    "img.seventyfive {\n",
    "  max-width:75%;\n",
    "  max-height:75%;\n",
    "}\n",
    "img.eighty {\n",
    "  max-width:80%;\n",
    "  max-height:80%;\n",
    "}\n",
    "img.eightyfive {\n",
    "  max-width:85%;\n",
    "  max-height:85%;\n",
    "}\n",
    "img.ninety {\n",
    "  max-width:90%;\n",
    "  max-height:90%;\n",
    "}\n",
    "<style>"
   ]
  },
  {
   "cell_type": "markdown",
   "metadata": {
    "slideshow": {
     "slide_type": "slide"
    }
   },
   "source": [
    "# NumPy\n",
    "\n",
    "### Questions:\n",
    "\n",
    "- How can I process tabular data files in Python?"
   ]
  },
  {
   "cell_type": "markdown",
   "metadata": {
    "slideshow": {
     "slide_type": "subslide"
    }
   },
   "source": [
    "### Objectives\n",
    "\n",
    "- Explain what a library is and what libraries are used for.\n",
    "- Import a Python library and use the functions it contains.\n",
    "- Read tabular data from a file into a program.\n",
    "- Select individual values and subsections from data.\n",
    "- Perform operations on arrays of data."
   ]
  },
  {
   "cell_type": "markdown",
   "metadata": {
    "slideshow": {
     "slide_type": "subslide"
    }
   },
   "source": [
    "We can do a lot with Python's built-in functions, data types and structures, and their methods, however, some tasks require the use of more specialised tools.\n",
    "\n",
    "We can find these tools inside of Python libraries."
   ]
  },
  {
   "cell_type": "markdown",
   "metadata": {
    "slideshow": {
     "slide_type": "subslide"
    }
   },
   "source": [
    "\n",
    "We will first learn how to add libraries to our programs, and use functions from within libraries by using the NumPy library to look at some inflammation data."
   ]
  },
  {
   "cell_type": "markdown",
   "metadata": {
    "slideshow": {
     "slide_type": "subslide"
    }
   },
   "source": [
    "First we must import the library using the `import` statement:\n",
    "\n",
    "```python\n",
    "import numpy\n",
    "```\n",
    "\n",
    "This adds the library to our program."
   ]
  },
  {
   "cell_type": "code",
   "execution_count": 1,
   "metadata": {
    "slideshow": {
     "slide_type": "fragment"
    }
   },
   "outputs": [],
   "source": [
    "# Import numpy\n"
   ]
  },
  {
   "cell_type": "markdown",
   "metadata": {
    "slideshow": {
     "slide_type": "subslide"
    }
   },
   "source": [
    "Now we will read in our data file, `inflammation-01.csv`, using NumPy's `loadtxt()` function.\n",
    "\n",
    "Because the `loadtxxt()` function is part of the library, we must use the **dot notation** to access it.\n",
    "\n",
    "<!---\n",
    "numpy.loadtxt(fname='swc-python/data/inflammation-01.csv', delimiter=',')\n",
    "-->"
   ]
  },
  {
   "cell_type": "code",
   "execution_count": null,
   "metadata": {
    "slideshow": {
     "slide_type": "fragment"
    }
   },
   "outputs": [],
   "source": [
    "# Load the dataset\n"
   ]
  },
  {
   "cell_type": "markdown",
   "metadata": {
    "slideshow": {
     "slide_type": "notes"
    }
   },
   "source": [
    "```python\n",
    "numpy.loadtxt(fname='swc-python/data/inflammation-01.csv', delimiter=',')\n",
    "```"
   ]
  },
  {
   "cell_type": "markdown",
   "metadata": {
    "slideshow": {
     "slide_type": "subslide"
    }
   },
   "source": [
    "This function call has two parameters, `fname`, and `delimiter`, which take the arguments of the filename and the character used to separate values in different columns, respectively.\n",
    "\n",
    "This will display the file's contents. You may notice that it does not display all of its contents. This is because they are very large."
   ]
  },
  {
   "cell_type": "markdown",
   "metadata": {
    "slideshow": {
     "slide_type": "subslide"
    }
   },
   "source": [
    "We need to save the data to a variable name, so now we'll run:\n",
    "\n",
    "<!---\n",
    "data = numpy.loadtxt(fname='swc-python/data/inflammation-01.csv', delimiter=',')\n",
    "\n",
    "print(data)\n",
    "\n",
    "type(data)\n",
    "-->"
   ]
  },
  {
   "cell_type": "code",
   "execution_count": 2,
   "metadata": {
    "slideshow": {
     "slide_type": "fragment"
    }
   },
   "outputs": [],
   "source": [
    "# Ssave the data and view it \n"
   ]
  },
  {
   "cell_type": "markdown",
   "metadata": {
    "slideshow": {
     "slide_type": "notes"
    }
   },
   "source": [
    "```python\n",
    "data = numpy.loadtxt(fname='swc-python/data/inflammation-01.csv', delimiter=',')\n",
    "\n",
    "print(data)\n",
    "\n",
    "type(data)\n",
    "```"
   ]
  },
  {
   "cell_type": "markdown",
   "metadata": {
    "slideshow": {
     "slide_type": "subslide"
    }
   },
   "source": [
    "The output of `type()` tells us that data is `<class 'numpy.ndarray'>`.\n",
    "\n",
    "This is a data structure that is specific to the NumPy library, called an **N-dimensional array**."
   ]
  },
  {
   "cell_type": "markdown",
   "metadata": {
    "slideshow": {
     "slide_type": "subslide"
    }
   },
   "source": [
    "Each row in this data type corresponds to an individual observation, in this case a patient.\n",
    "\n",
    "Each column is a different data field, in this case an inflammation measurement for a different day."
   ]
  },
  {
   "cell_type": "markdown",
   "metadata": {
    "slideshow": {
     "slide_type": "subslide"
    }
   },
   "source": [
    "NumPy arrays contain one or more elements of the same type.\n",
    "\n",
    "`numpy.ndarray` is the type of `data` itself. To see the type of the information inside of `data`, we can check one of its **attributes**.\n"
   ]
  },
  {
   "cell_type": "markdown",
   "metadata": {
    "slideshow": {
     "slide_type": "subslide"
    }
   },
   "source": [
    "Attributes are basic information about an object, like descriptors. They are accessed in the same way as an object's methods, but do not require parentheses.\n",
    "\n",
    "<!---\n",
    "print(data.dtype)\n",
    "\n",
    "print(data.shape)\n",
    "-->"
   ]
  },
  {
   "cell_type": "code",
   "execution_count": null,
   "metadata": {
    "slideshow": {
     "slide_type": "fragment"
    }
   },
   "outputs": [],
   "source": [
    "# View the dtype and shape attributes\n"
   ]
  },
  {
   "cell_type": "markdown",
   "metadata": {
    "slideshow": {
     "slide_type": "notes"
    }
   },
   "source": [
    "```python\n",
    "print(data.dtype)\n",
    "\n",
    "print(data.shape)\n",
    "```\n"
   ]
  },
  {
   "cell_type": "markdown",
   "metadata": {
    "slideshow": {
     "slide_type": "fragment"
    }
   },
   "source": [
    "So we can see that our `data` contains 60 rows and 40 columns of `float64`, which are floating-point numbers, or ones with decimal values."
   ]
  },
  {
   "cell_type": "markdown",
   "metadata": {
    "slideshow": {
     "slide_type": "slide"
    }
   },
   "source": [
    "### Indexing in arrays\n",
    "\n",
    "In order to access a single value inside of an array, we use an indexing syntax similar to that used with lists.\n",
    "\n",
    "Now, because our data is 2-dimensional, the index will have two parts: one for the rows, and the other for the columns.\n",
    "\n",
    "If our data had more dimensions, the indexing could have more parts.\n",
    "\n",
    "<!---\n",
    "# Access the value in row 1, column 1\n",
    "print('first value in data:', data[0, 0])\n",
    "\n",
    "# Access the value in row 31, column 21\n",
    "print('middle value in data:', data[30, 20])\n",
    "-->"
   ]
  },
  {
   "cell_type": "markdown",
   "metadata": {
    "slideshow": {
     "slide_type": "subslide"
    }
   },
   "source": [
    "<img src=\"intro_python_images/numpy_array_indices.png\" />"
   ]
  },
  {
   "cell_type": "code",
   "execution_count": null,
   "metadata": {
    "slideshow": {
     "slide_type": "subslide"
    }
   },
   "outputs": [],
   "source": [
    "# Accessing individual cells in data\n"
   ]
  },
  {
   "cell_type": "markdown",
   "metadata": {
    "slideshow": {
     "slide_type": "notes"
    }
   },
   "source": [
    "```python\n",
    "# Access the value in row 1, column 1\n",
    "print('first value in data:', data[0, 0])\n",
    "\n",
    "# Access the value in row 31, column 21\n",
    "print('middle value in data:', data[30, 20])\n",
    "```"
   ]
  },
  {
   "cell_type": "markdown",
   "metadata": {
    "slideshow": {
     "slide_type": "fragment"
    }
   },
   "source": [
    "Remember that Python indices start with `0`."
   ]
  },
  {
   "cell_type": "markdown",
   "metadata": {
    "slideshow": {
     "slide_type": "subslide"
    }
   },
   "source": [
    "`data[0, 0]` is the value found in the upper-left corner of the array, because in Python, array rows are numbered from top-to-bottom, and array columns are numbered from left-to-right."
   ]
  },
  {
   "cell_type": "markdown",
   "metadata": {
    "slideshow": {
     "slide_type": "subslide"
    }
   },
   "source": [
    "We can also select sections of data, like a subset of rows and columns:\n",
    "\n",
    "<!---\n",
    "print(data[2:7, 0:10])\n",
    "-->\n"
   ]
  },
  {
   "cell_type": "code",
   "execution_count": null,
   "metadata": {
    "slideshow": {
     "slide_type": "fragment"
    }
   },
   "outputs": [],
   "source": [
    "# Select sections of data\n"
   ]
  },
  {
   "cell_type": "markdown",
   "metadata": {
    "slideshow": {
     "slide_type": "notes"
    }
   },
   "source": [
    "```python\n",
    "print(data[2:7, 0:10])\n",
    "```"
   ]
  },
  {
   "cell_type": "markdown",
   "metadata": {
    "slideshow": {
     "slide_type": "subslide"
    }
   },
   "source": [
    "If you remember the list slicing that we did, this works the same way.\n",
    "\n",
    "We can specify a start index and an end index (which is not included in the selection) like: `start:end`, only now we can do it once for rows, and a second time for columns."
   ]
  },
  {
   "cell_type": "markdown",
   "metadata": {
    "slideshow": {
     "slide_type": "subslide"
    }
   },
   "source": [
    "We can also omit one or both of the start/end indices.\n",
    "\n",
    "Omitting the start will mean the selection starts at the first row or column.\n",
    "\n",
    "Omitting the end will mean the selection goes through the last row or column.\n",
    "\n",
    "Omitting both means the selection will include all of the rows or columns."
   ]
  },
  {
   "cell_type": "markdown",
   "metadata": {
    "slideshow": {
     "slide_type": "subslide"
    }
   },
   "source": [
    "You can also access attributes of a subsection of an array.\n",
    "\n",
    "<!---\n",
    "small = data[ :3, 36: ]\n",
    "print('small is:')\n",
    "print(small)\n",
    "\n",
    "print(data[ : , : ].shape)\n",
    "-->"
   ]
  },
  {
   "cell_type": "code",
   "execution_count": 4,
   "metadata": {
    "slideshow": {
     "slide_type": "fragment"
    }
   },
   "outputs": [],
   "source": [
    "# Accessing attributes of an array subsection\n"
   ]
  },
  {
   "cell_type": "markdown",
   "metadata": {
    "slideshow": {
     "slide_type": "notes"
    }
   },
   "source": [
    "```python\n",
    "small = data[ :3, 36: ]\n",
    "print('small is:')\n",
    "print(small)\n",
    "\n",
    "print(data[ : , : ].shape)\n",
    "```"
   ]
  },
  {
   "cell_type": "markdown",
   "metadata": {
    "slideshow": {
     "slide_type": "slide"
    }
   },
   "source": [
    "### Analysing data\n",
    "\n",
    "Now that we can access different portions of the array, let's do something with the data it contains.\n",
    "\n",
    "We'll start by taking the mean (average) inflammation over all patients and all days:\n",
    "\n",
    "<!---\n",
    "print(numpy.mean(data))\n",
    "-->\n"
   ]
  },
  {
   "cell_type": "code",
   "execution_count": 5,
   "metadata": {
    "slideshow": {
     "slide_type": "fragment"
    }
   },
   "outputs": [],
   "source": [
    "# Take the mean inflammation for all patients over all days\n"
   ]
  },
  {
   "cell_type": "markdown",
   "metadata": {
    "slideshow": {
     "slide_type": "notes"
    }
   },
   "source": [
    "```python\n",
    "print(numpy.mean(data))\n",
    "```"
   ]
  },
  {
   "cell_type": "markdown",
   "metadata": {
    "slideshow": {
     "slide_type": "subslide"
    }
   },
   "source": [
    "This function, `numpy.mean()` takes an array as its argument.\n",
    "\n",
    "We can get some other descriptive information about our dataset.\n",
    "\n",
    "<!---\n",
    "maxval = numpy.max(data)\n",
    "minval = numpy.min(data)\n",
    "stdval = numpy.std(data)\n",
    "-->"
   ]
  },
  {
   "cell_type": "code",
   "execution_count": null,
   "metadata": {
    "slideshow": {
     "slide_type": "fragment"
    }
   },
   "outputs": [],
   "source": [
    "# Other descriptive statistics can also be calculated\n"
   ]
  },
  {
   "cell_type": "markdown",
   "metadata": {
    "slideshow": {
     "slide_type": "notes"
    }
   },
   "source": [
    "```python\n",
    "maxval = numpy.max(data)\n",
    "minval = numpy.min(data)\n",
    "stdval = numpy.std(data)\n",
    "```"
   ]
  },
  {
   "cell_type": "markdown",
   "metadata": {
    "slideshow": {
     "slide_type": "slide"
    }
   },
   "source": [
    "### Calculating values for a single row or column\n",
    "\n",
    "In our data, if we want to look at average inflammation for a single patient, or the average inflammation on day 7, we can create a temporary array of just the data of interest.\n",
    "\n",
    "<!---\n",
    "patient_0 = data[0, :]   # all rows, but only the first column\n",
    "print('maximum inflammation for patient 0:', numpy.max(patient_0))\n",
    "-->"
   ]
  },
  {
   "cell_type": "code",
   "execution_count": null,
   "metadata": {
    "slideshow": {
     "slide_type": "fragment"
    }
   },
   "outputs": [],
   "source": [
    "# Calculate maximum inflammation for patient_0\n"
   ]
  },
  {
   "cell_type": "markdown",
   "metadata": {
    "slideshow": {
     "slide_type": "notes"
    }
   },
   "source": [
    "```python\n",
    "patient_0 = data[0, :]   # all rows, but only the first column\n",
    "print('maximum inflammation for patient 0:', numpy.max(patient_0))\n",
    "```"
   ]
  },
  {
   "cell_type": "markdown",
   "metadata": {
    "slideshow": {
     "slide_type": "subslide"
    }
   },
   "source": [
    "Here, we have stored the information for patient_0 in its own variable before calculating the information we want, but we don't have to do this.\n",
    "\n",
    "<!---\n",
    "print('maximum inflammation for patient 2:', numpy.max(data[2, :]))\n",
    "-->"
   ]
  },
  {
   "cell_type": "code",
   "execution_count": null,
   "metadata": {
    "slideshow": {
     "slide_type": "fragment"
    }
   },
   "outputs": [],
   "source": [
    "# Calculate maximum inflammation for patient_0 without creating a temp array\n"
   ]
  },
  {
   "cell_type": "markdown",
   "metadata": {
    "slideshow": {
     "slide_type": "notes"
    }
   },
   "source": [
    "```python\n",
    "print('maximum inflammation for patient 2:', numpy.max(data[2, :]))\n",
    "```\n"
   ]
  },
  {
   "cell_type": "markdown",
   "metadata": {
    "slideshow": {
     "slide_type": "slide"
    }
   },
   "source": [
    "### Calculating a value for every row or column\n",
    "\n",
    "If we want the maximum inflammation for each patient over all days, or the average over all patients for each day, we can perform the operation across an **axis**.\n",
    "\n",
    "An axis refers to either the horizontal (rows) or vertical (columns) axis.\n",
    "\n",
    "The descriptive array functions we have been using have a keyword parameter that can be used to specify an axis on which to operate."
   ]
  },
  {
   "cell_type": "markdown",
   "metadata": {
    "slideshow": {
     "slide_type": "subslide"
    }
   },
   "source": [
    "To get the average inflammation for all patients for each day and check its shape, we can run:\n",
    "\n",
    "<!---\n",
    "print(numpy.mean(data, axis=0))\n",
    "print(numpy.mean(data, axis=0).shape)\n",
    "-->\n"
   ]
  },
  {
   "cell_type": "code",
   "execution_count": 6,
   "metadata": {
    "slideshow": {
     "slide_type": "fragment"
    }
   },
   "outputs": [],
   "source": [
    "# Calculate average inflammation for all patients for each day\n",
    "# And check its shape\n"
   ]
  },
  {
   "cell_type": "markdown",
   "metadata": {
    "slideshow": {
     "slide_type": "notes"
    }
   },
   "source": [
    "```python\n",
    "print(numpy.mean(data, axis=0))\n",
    "print(numpy.mean(data, axis=0).shape)\n",
    "```"
   ]
  },
  {
   "cell_type": "markdown",
   "metadata": {
    "slideshow": {
     "slide_type": "fragment"
    }
   },
   "source": [
    "The shape is `(40, )`, which means it is a vector containing 40 elements (you may remember there were 40 columns in `data`)."
   ]
  },
  {
   "cell_type": "markdown",
   "metadata": {
    "slideshow": {
     "slide_type": "subslide"
    }
   },
   "source": [
    "<img class=\"eighty\" src=\"intro_python_images/numpy_avg_infl_day.png\" />"
   ]
  },
  {
   "cell_type": "markdown",
   "metadata": {
    "slideshow": {
     "slide_type": "subslide"
    }
   },
   "source": [
    "We can change the `axis` to get the average inflammation per patient across all days.\n",
    "\n",
    "<!---\n",
    "print(numpy.mean(data, axis=1))\n",
    "print(numpy.mean(data, axis=1).shape)\n",
    "-->"
   ]
  },
  {
   "cell_type": "code",
   "execution_count": null,
   "metadata": {
    "slideshow": {
     "slide_type": "fragment"
    }
   },
   "outputs": [],
   "source": [
    "# Calculate average inflammation per patient across all days\n",
    "# And view its shape\n"
   ]
  },
  {
   "cell_type": "code",
   "execution_count": null,
   "metadata": {
    "slideshow": {
     "slide_type": "notes"
    }
   },
   "outputs": [],
   "source": [
    "```python\n",
    "print(numpy.mean(data, axis=1))\n",
    "print(numpy.mean(data, axis=1).shape)\n",
    "```"
   ]
  },
  {
   "cell_type": "markdown",
   "metadata": {
    "slideshow": {
     "slide_type": "fragment"
    }
   },
   "source": [
    "The shape is `(60,)`, which means it is a vector containing 60 elements (you may remember there were 60 rows in `data`)."
   ]
  },
  {
   "cell_type": "markdown",
   "metadata": {
    "slideshow": {
     "slide_type": "subslide"
    }
   },
   "source": [
    "<img src=\"intro_python_images/numpy_avg_infl_patient.png\" />"
   ]
  },
  {
   "cell_type": "markdown",
   "metadata": {
    "slideshow": {
     "slide_type": "slide"
    }
   },
   "source": [
    "## Summary\n",
    "\n",
    "- Libraries allow you to do specialised things in Python.\n",
    "- To import a library, use the `import` statement.\n",
    "- NumPy provides the n-dimensional array data structure."
   ]
  },
  {
   "cell_type": "markdown",
   "metadata": {
    "slideshow": {
     "slide_type": "subslide"
    }
   },
   "source": [
    "### NumPy arrays\n",
    "- NumPy arrays hold tabular data that is all of the same type.\n",
    "- There are many ways to select portions of a NumPy array.\n",
    "- NumPy also provides many methods to go along with the NumPy array data structure."
   ]
  },
  {
   "cell_type": "markdown",
   "metadata": {
    "slideshow": {
     "slide_type": "skip"
    }
   },
   "source": [
    "## Exercises\n",
    "\n",
    "### 1. Thin Slices\n",
    "\n",
    "The expression `element[3:3]` produces an empty string, i.e., a string that contains no characters. If data holds our array of patient data, what does `data[3:3, 4:4]` produce? What about `data[3:3, :]`?"
   ]
  },
  {
   "cell_type": "code",
   "execution_count": null,
   "metadata": {
    "slideshow": {
     "slide_type": "skip"
    }
   },
   "outputs": [],
   "source": [
    "# Do Exercise 1 here\n"
   ]
  },
  {
   "cell_type": "markdown",
   "metadata": {
    "slideshow": {
     "slide_type": "skip"
    }
   },
   "source": [
    "### 2. Stacking Arrays\n",
    "Arrays can be concatenated and stacked on top of one another, using NumPy’s `vstack()` and `hstack()` functions for vertical and horizontal stacking, respectively.\n",
    "\n",
    "```python\n",
    "import numpy\n",
    "\n",
    "A = numpy.array([[1,2,3], [4,5,6], [7, 8, 9]])\n",
    "print('A = ')\n",
    "print(A)\n",
    "\n",
    "B = numpy.hstack([A, A])\n",
    "print('B = ')\n",
    "print(B)\n",
    "\n",
    "C = numpy.vstack([A, A])\n",
    "print('C = ')\n",
    "print(C)\n",
    "A =\n",
    "[[1 2 3]\n",
    " [4 5 6]\n",
    " [7 8 9]]\n",
    "\n",
    "B =\n",
    "[[1 2 3 1 2 3]\n",
    " [4 5 6 4 5 6]\n",
    " [7 8 9 7 8 9]]\n",
    "\n",
    "C =\n",
    "[[1 2 3]\n",
    " [4 5 6]\n",
    " [7 8 9]\n",
    " [1 2 3]\n",
    " [4 5 6]\n",
    " [7 8 9]]\n",
    "```\n",
    "\n",
    "Write some additional code that slices the first and last columns of `A`, and stacks them into a 3x2 array. Make sure to print the results to verify your solution."
   ]
  },
  {
   "cell_type": "code",
   "execution_count": null,
   "metadata": {
    "slideshow": {
     "slide_type": "skip"
    }
   },
   "outputs": [],
   "source": [
    "# Do Exercise 2 here\n"
   ]
  },
  {
   "cell_type": "markdown",
   "metadata": {
    "slideshow": {
     "slide_type": "skip"
    }
   },
   "source": [
    "### 3. Change In Inflammation\n",
    "\n",
    "#### Part 1\n",
    "\n",
    "The patient data is longitudinal in the sense that each row represents a series of observations relating to one individual. This means that the change in inflammation over time is a meaningful concept. Let’s find out how to calculate changes in the data contained in an array with NumPy.\n",
    "\n",
    "The `numpy.diff()` function takes an array and returns the differences between two successive values. Let’s use it to examine the changes each day across the first week of patient 3 from our inflammation dataset.\n",
    "\n",
    "```python\n",
    "patient3_week1 = data[3, :7]\n",
    "print(patient3_week1)\n",
    "```\n",
    "```python\n",
    " [0. 0. 2. 0. 4. 2. 2.]\n",
    "```\n",
    "\n",
    "Calling `numpy.diff(patient3_week1)` would do the following calculations\n",
    "\n",
    "```python\n",
    "[ 0 - 0, 2 - 0, 0 - 2, 4 - 0, 2 - 4, 2 - 2 ]\n",
    "```\n",
    "\n",
    "and return the 6 difference values in a new array.\n",
    "\n",
    "```python\n",
    "numpy.diff(patient3_week1)\n",
    "array([ 0.,  2., -2.,  4., -2.,  0.])\n",
    "```\n",
    "\n",
    "Note that the array of differences is shorter by one element (length 6).\n",
    "\n",
    "\n",
    "When calling `numpy.diff()` with a multi-dimensional array, an `axis` argument may be passed to the function to specify which axis to process. When applying `numpy.diff()` to our 2D inflammation array `data`, which axis would we specify?"
   ]
  },
  {
   "cell_type": "code",
   "execution_count": null,
   "metadata": {
    "slideshow": {
     "slide_type": "skip"
    }
   },
   "outputs": [],
   "source": [
    "# Do Exercise 3.1 here\n"
   ]
  },
  {
   "cell_type": "markdown",
   "metadata": {
    "slideshow": {
     "slide_type": "skip"
    }
   },
   "source": [
    "### Exercise 3\n",
    "#### Part 2\n",
    "\n",
    "If the shape of an individual data file is `(60, 40)` (60 rows and 40 columns), what would the shape of the array be after you run the `numpy.diff()` function and why?"
   ]
  },
  {
   "cell_type": "code",
   "execution_count": null,
   "metadata": {
    "slideshow": {
     "slide_type": "skip"
    }
   },
   "outputs": [],
   "source": [
    "# Do Exercise 3.2 here\n"
   ]
  },
  {
   "cell_type": "markdown",
   "metadata": {
    "slideshow": {
     "slide_type": "skip"
    }
   },
   "source": [
    "### Exercise 3\n",
    "#### Part 3\n",
    "\n",
    "How would you find the largest change in inflammation for each patient? Does it matter if the change in inflammation is an increase or a decrease?"
   ]
  },
  {
   "cell_type": "code",
   "execution_count": null,
   "metadata": {
    "slideshow": {
     "slide_type": "skip"
    }
   },
   "outputs": [],
   "source": [
    "# Do Exercise 3.3 here\n"
   ]
  },
  {
   "cell_type": "markdown",
   "metadata": {
    "slideshow": {
     "slide_type": "skip"
    }
   },
   "source": [
    "### 4. Rescaling an Array\n",
    "\n",
    "Write a function `rescale()` that takes an array as input and returns a corresponding array of values scaled to lie in the range `0.0` to `1.0`. (Hint: If `L` and `H` are the lowest and highest values in the original array, then the replacement for a value `v` should be `(v-L) / (H-L)`.)"
   ]
  },
  {
   "cell_type": "code",
   "execution_count": null,
   "metadata": {
    "slideshow": {
     "slide_type": "skip"
    }
   },
   "outputs": [],
   "source": [
    "# Do Exercise 4 here\n"
   ]
  },
  {
   "cell_type": "markdown",
   "metadata": {
    "slideshow": {
     "slide_type": "skip"
    }
   },
   "source": [
    "### 5. Testing and Documenting Your Function\n",
    "\n",
    "Run the commands `help(numpy.arange)` and `help(numpy.linspace)` to see how to use these functions to generate regularly-spaced values, then use those values to test your `rescale()` function. Once you’ve successfully tested your function, add a doc_string that explains what it does."
   ]
  },
  {
   "cell_type": "code",
   "execution_count": null,
   "metadata": {
    "slideshow": {
     "slide_type": "skip"
    }
   },
   "outputs": [],
   "source": [
    "# Do Exercise 5 here\n"
   ]
  },
  {
   "cell_type": "markdown",
   "metadata": {
    "slideshow": {
     "slide_type": "skip"
    }
   },
   "source": [
    "### 6. Defining Defaults\n",
    "\n",
    "Rewrite the `rescale()` function so that it scales data to lie between `0.0` and `1.0` by default, but will allow the caller to specify lower and upper bounds if they want. Compare your implementation to your neighbor’s: do the two functions always behave the same way?"
   ]
  },
  {
   "cell_type": "code",
   "execution_count": null,
   "metadata": {
    "slideshow": {
     "slide_type": "skip"
    }
   },
   "outputs": [],
   "source": [
    "# Do Exercise 6 here\n"
   ]
  }
 ],
 "metadata": {
  "celltoolbar": "Slideshow",
  "kernelspec": {
   "display_name": "Python 3",
   "language": "python",
   "name": "python3"
  },
  "language_info": {
   "codemirror_mode": {
    "name": "ipython",
    "version": 3
   },
   "file_extension": ".py",
   "mimetype": "text/x-python",
   "name": "python",
   "nbconvert_exporter": "python",
   "pygments_lexer": "ipython3",
   "version": "3.7.6"
  },
  "rise": {
   "enable_chalkboard": true
  }
 },
 "nbformat": 4,
 "nbformat_minor": 4
}
