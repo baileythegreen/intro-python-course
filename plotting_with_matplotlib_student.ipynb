{
 "cells": [
  {
   "cell_type": "markdown",
   "metadata": {},
   "source": [
    "# Plotting array data with matplotlib\n",
    "\n",
    "### Questions\n",
    "\n",
    "- How can I make simple plots of my data to visualise it?\n",
    "\n",
    "### Objectives\n",
    "\n",
    "- To introduce `matplotlib`.\n",
    "- Learn some of the basic plotting that can be done with `matplotlib`.\n",
    "- Learn how multiple subplots can be combined inside one figure.\n",
    "- Learn how to save and display figures."
   ]
  },
  {
   "cell_type": "markdown",
   "metadata": {},
   "source": [
    "We will begin by importing `matplotlib.pyplot` and `NumPy`.\n",
    "\n",
    "We are going to do this creating aliases for the libraries.\n",
    "\n",
    "This will save typing later on.\n",
    "\n",
    "The syntax for this is:\n",
    "\n",
    "```python\n",
    "import library as alias\n",
    "```\n",
    "\n",
    "<!---\n",
    "import matplotlib.pyplot as plt\n",
    "import numpy as np\n",
    "-->"
   ]
  },
  {
   "cell_type": "code",
   "execution_count": 3,
   "metadata": {},
   "outputs": [],
   "source": [
    "# The aliases we are creating are the customary ones for these packages\n"
   ]
  },
  {
   "cell_type": "markdown",
   "metadata": {},
   "source": [
    "Now we will load the data and create a simple visualisation.\n",
    "\n",
    "<!---\n",
    "data = np.loadtxt(fname='swc-python/data/inflammation-01.csv', delimiter=',')\n",
    "image = plt.imshow(data)\n",
    "-->"
   ]
  },
  {
   "cell_type": "code",
   "execution_count": 1,
   "metadata": {},
   "outputs": [],
   "source": [
    "# Now we will read in our data\n"
   ]
  },
  {
   "cell_type": "markdown",
   "metadata": {},
   "source": [
    "In this plot, days are along the x-axis, patients are along the y-axis, and the colour of the cells indicates intensity of the signal.\n",
    "\n",
    "Yellow indicates high values; blue indicates low values.\n",
    "\n",
    "There is a yellow band in the centre, which indicates inflammation rises and falls over the 40 day period, with the high point in inflammation generally occurring in the middle of the date range."
   ]
  },
  {
   "cell_type": "markdown",
   "metadata": {},
   "source": [
    "We can also create a line plot of the average inflammation each day.\n",
    "\n",
    "We'll start by taking the average of each column. Then we'll plot it using `matplotlib.pyplot.plot()` which we will call `plt.plot()`.\n",
    "\n",
    "<!---\n",
    "ave_inflammation = np.mean(data, axis=0)\n",
    "ave_plot = plt.plot(ave_inflammation)\n",
    "plt.show()\n",
    "-->"
   ]
  },
  {
   "cell_type": "code",
   "execution_count": 2,
   "metadata": {},
   "outputs": [],
   "source": [
    "# Plot the mean for each day\n"
   ]
  },
  {
   "cell_type": "markdown",
   "metadata": {},
   "source": [
    "Here, we have put the average inflammation per day across all patients in the variable `ave_inflammation`, then asked `matplotlib.pyplot()` (`plt.plot()`) to create and display a line graph of those values.\n",
    "\n",
    "The result is a roughly linear rise and fall, which is suspicious: we might instead expect a sharper rise and slower fall. Let’s have a look at two the `max()` and `min()`:\n",
    "\n",
    "<!---\n",
    "max_plot = plt.plot(np.max(data, axis=0))\n",
    "plt.show()\n",
    "\n",
    "min_plot = plt.plot(np.min(data, axis=0))\n",
    "plt.show()\n",
    "-->"
   ]
  },
  {
   "cell_type": "code",
   "execution_count": 26,
   "metadata": {},
   "outputs": [
    {
     "data": {
      "image/png": "[encoded data removed]",
      "text/plain": [
       "<Figure size 432x288 with 1 Axes>"
      ]
     },
     "metadata": {
      "needs_background": "light"
     },
     "output_type": "display_data"
    }
   ],
   "source": [
    "# Plot the max for each day\n"
   ]
  },
  {
   "cell_type": "code",
   "execution_count": 21,
   "metadata": {},
   "outputs": [
    {
     "data": {
      "image/png": "[encoded data removed]",
      "text/plain": [
       "<Figure size 432x288 with 1 Axes>"
      ]
     },
     "metadata": {
      "needs_background": "light"
     },
     "output_type": "display_data"
    }
   ],
   "source": [
    "# Plot the min for each day\n"
   ]
  },
  {
   "cell_type": "markdown",
   "metadata": {},
   "source": [
    "The maximum value rises and falls smoothly, while the minimum seems to be a step function.\n",
    "\n",
    "Neither trend seems particularly likely, so either there’s a mistake in our calculations or something is wrong with our data.\n",
    "\n",
    "This insight would have been difficult to reach by examining the numbers themselves without visualization tools."
   ]
  },
  {
   "cell_type": "markdown",
   "metadata": {},
   "source": [
    "We can also group several plots together as subplots in one figure.\n",
    "\n",
    "We will now assemble a script that will take the `mean()`, `max()`, and `min()` plots and group them together.\n",
    "\n",
    "`plt.figure()` makes a space into which we will place our plots.\n",
    "\n",
    "`figsize` is a parameter that tells Python how big to make the figure. The first value relates to the width of the figure, the second to the height.\n",
    "\n",
    "`add_subplot` is a method that takes three parameters.\n",
    "   - The first is the number of rows of subplots we want.\n",
    "   - The second is the number of columns.\n",
    "   - The third is the number of the subplot being added (left-to-right, top-to-bottom).\n",
    "   \n",
    "Each subplot is saved to its own variable. After a subplot is made, its axes can be titled using `set_xlabel()` and `set_ylabel()`.\n",
    "\n",
    "`fig.tight_layout()` alters the spacing between the subplots. You can try running the script without it to see what happens.\n",
    "\n",
    "`plt.savefig()` saves the figure as a file called `inflammation.png`. We could specify a different image type, such as: SVG, PDF, or JPEG.\n",
    "\n",
    "`plt.show()` displays the figure.\n",
    "\n",
    "<!---\n",
    "import numpy as np\n",
    "import matplotlib.pyplot as plt\n",
    "\n",
    "# Read in the data\n",
    "data = np.loadtxt(fname='swc-python/data/inflammation-01.csv', delimiter=',')\n",
    "\n",
    "# Create a figure which will display the subplots\n",
    "fig = plt.figure(figsize=(10.0, 3.0))\n",
    "\n",
    "# Now we assign names to each subplot we will make\n",
    "# specifying the number of subplots and their layout\n",
    "# using add_subplot(nrows, ncols, index, **kwargs)\n",
    "axis1 = fig.add_subplot(1, 3, 1)\n",
    "axis2 = fig.add_subplot(1, 3, 2)\n",
    "axis3 = fig.add_subplot(1, 3, 3)\n",
    "\n",
    "# Assign labels to and plot the first subplot, 'average'\n",
    "axis1.set_ylabel('average')\n",
    "axis1.plot(np.mean(data, axis=0))\n",
    "\n",
    "# Assign labels to and plot the second subplot, 'max'\n",
    "axis2.set_ylabel('max')\n",
    "axis2.plot(np.max(data, axis=0))\n",
    "\n",
    "# Assign labels to and plot the third subplot, 'min'\n",
    "axis3.set_ylabel('min')\n",
    "axis3.plot(np.min(data, axis=0))\n",
    "\n",
    "# This modifies the spacing to keep plots from overlapping\n",
    "fig.tight_layout()\n",
    "\n",
    "# Save our figure and display it\n",
    "plt.savefig('inflammation.png')\n",
    "plt.show()\n",
    "-->"
   ]
  },
  {
   "cell_type": "code",
   "execution_count": 19,
   "metadata": {},
   "outputs": [
    {
     "data": {
      "image/png": "[encoded data removed]",
      "text/plain": [
       "<Figure size 720x216 with 3 Axes>"
      ]
     },
     "metadata": {
      "needs_background": "light"
     },
     "output_type": "display_data"
    }
   ],
   "source": [
    "import numpy as np\n",
    "import matplotlib.pyplot as plt\n",
    "\n",
    "# Read in the data\n",
    "data = np.loadtxt(fname='swc-python/data/inflammation-01.csv', delimiter=',')\n",
    "\n",
    "# Create a figure which will display the subplots\n",
    "\n",
    "\n",
    "# Now we assign names to each subplot we will make\n",
    "# specifying the number of subplots and their layout\n",
    "# using add_subplot(nrows, ncols, index, **kwargs)\n",
    "axis1 = fig.add_subplot(1, 3, 1)\n",
    "\n",
    "\n",
    "# Assign labels to and plot the first subplot, 'average'\n",
    "axis1.set_ylabel('average')\n",
    "axis1.plot(np.mean(data, axis=0))\n",
    "\n",
    "# Assign labels to and plot the second subplot, 'max'\n",
    "\n",
    "\n",
    "# Assign labels to and plot the third subplot, 'min'\n",
    "\n",
    "\n",
    "# This modifies the spacing to keep plots from overlapping\n",
    "fig.tight_layout()\n",
    "\n",
    "# Save our figure and display it\n",
    "plt.savefig('inflammation.png')\n",
    "plt.show()"
   ]
  },
  {
   "cell_type": "markdown",
   "metadata": {},
   "source": [
    "## Exercises\n",
    "\n",
    "### 1. Plot Scaling\n",
    "\n",
    "Why do all of our plots stop just after the upper end of our graph?\n",
    "\n",
    "If we want to change this, we can use the `set_ylim(min, max)` method of each ixis, for example:\n",
    "\n",
    "```python\n",
    "axis3.set_ylim(0,6)\n",
    "```\n",
    "\n",
    "Update your plotting code to automatically set a more appropriate scale. (Hint: you can make use of the max and min methods to help.)"
   ]
  },
  {
   "cell_type": "code",
   "execution_count": 22,
   "metadata": {},
   "outputs": [],
   "source": [
    "# Do Exercise 1 here\n"
   ]
  },
  {
   "cell_type": "markdown",
   "metadata": {},
   "source": [
    "### 2. Drawing Straight Lines\n",
    "\n",
    "In the center and right subplots above, we expect all lines to look like step functions because non-integer value are not realistic for the minimum and maximum values. However, you can see that the lines are not always vertical or horizontal, and in particular the step function in the subplot on the right looks slanted. Why is this?"
   ]
  },
  {
   "cell_type": "code",
   "execution_count": 23,
   "metadata": {},
   "outputs": [],
   "source": [
    "# Do Exercise 2 here\n"
   ]
  },
  {
   "cell_type": "markdown",
   "metadata": {},
   "source": [
    "### 3. Make Your Own Plot\n",
    "\n",
    "Create a plot showing the standard deviation `np.std()` of the inflammation data for each day across all patients."
   ]
  },
  {
   "cell_type": "code",
   "execution_count": 24,
   "metadata": {},
   "outputs": [],
   "source": [
    "# Do Exercise 3 here\n"
   ]
  },
  {
   "cell_type": "markdown",
   "metadata": {},
   "source": [
    "### 4. Moving Plots Around\n",
    "\n",
    "Modify the program to display the three plots on top of one another instead of side by side."
   ]
  },
  {
   "cell_type": "code",
   "execution_count": 25,
   "metadata": {},
   "outputs": [],
   "source": [
    "# Do Exercise 4 here\n"
   ]
  }
 ],
 "metadata": {
  "kernelspec": {
   "display_name": "Python 3",
   "language": "python",
   "name": "python3"
  },
  "language_info": {
   "codemirror_mode": {
    "name": "ipython",
    "version": 3
   },
   "file_extension": ".py",
   "mimetype": "text/x-python",
   "name": "python",
   "nbconvert_exporter": "python",
   "pygments_lexer": "ipython3",
   "version": "3.7.6"
  }
 },
 "nbformat": 4,
 "nbformat_minor": 4
}
