{
 "cells": [
  {
   "cell_type": "code",
   "execution_count": 1,
   "metadata": {
    "slideshow": {
     "slide_type": "skip"
    }
   },
   "outputs": [
    {
     "data": {
      "text/html": [
       "<style>\n",
       "img.seventy {\n",
       "  max-width:70%;\n",
       "  max-height:70%;\n",
       "}\n",
       "img.seventyfive {\n",
       "  max-width:75%;\n",
       "  max-height:75%;\n",
       "}\n",
       "img.eighty {\n",
       "  max-width:80%;\n",
       "  max-height:80%;\n",
       "}\n",
       "img.eightyfive {\n",
       "  max-width:85%;\n",
       "  max-height:85%;\n",
       "}\n",
       "img.ninety {\n",
       "  max-width:90%;\n",
       "  max-height:90%;\n",
       "}\n",
       "<style>\n"
      ],
      "text/plain": [
       "<IPython.core.display.HTML object>"
      ]
     },
     "metadata": {},
     "output_type": "display_data"
    }
   ],
   "source": [
    "%%html\n",
    "<style>\n",
    "img.seventy {\n",
    "  max-width:70%;\n",
    "  max-height:70%;\n",
    "}\n",
    "img.seventyfive {\n",
    "  max-width:75%;\n",
    "  max-height:75%;\n",
    "}\n",
    "img.eighty {\n",
    "  max-width:80%;\n",
    "  max-height:80%;\n",
    "}\n",
    "img.eightyfive {\n",
    "  max-width:85%;\n",
    "  max-height:85%;\n",
    "}\n",
    "img.ninety {\n",
    "  max-width:90%;\n",
    "  max-height:90%;\n",
    "}\n",
    "<style>"
   ]
  },
  {
   "cell_type": "markdown",
   "metadata": {
    "slideshow": {
     "slide_type": "slide"
    }
   },
   "source": [
    "# Overview\n",
    "***\n",
    "### Questions\n",
    "\n",
    "- How can I have code that only runs when certain conditions are met?\n"
   ]
  },
  {
   "cell_type": "markdown",
   "metadata": {
    "slideshow": {
     "slide_type": "subslide"
    }
   },
   "source": [
    "### Objectives\n",
    "\n",
    "- Use truth values to determine whether a block of code runs.\n",
    "- Understand the use of mathematical comparison operators.\n",
    "- Know the difference between `==` and `is`, and which one to use.\n",
    "- Construct `if/elif/else` statements to test different situations.\n",
    "- Construct `while` loops that eventually evaluate to `False`.\n",
    "- Combine conditional expressions with `and` and `or`.\n",
    "- Negate conditional expressions with `not`."
   ]
  },
  {
   "cell_type": "markdown",
   "metadata": {
    "slideshow": {
     "slide_type": "slide"
    }
   },
   "source": [
    "### A new basic data type\n",
    "\n",
    "Python has one more basic data type: the `boolean`, which may also be known as a **logical value**.\n",
    "\n",
    "The only two `boolean` values are `True` and `False`."
   ]
  },
  {
   "cell_type": "markdown",
   "metadata": {
    "slideshow": {
     "slide_type": "slide"
    }
   },
   "source": [
    "### Mathematical comparisons return boolean values\n",
    "\n",
    "There are six mathematical comparison operators.\n",
    "\n",
    "These can be used to evaluate simple mathematical expressions.\n",
    "\n",
    "A value of `True` or `False` will be returned."
   ]
  },
  {
   "cell_type": "markdown",
   "metadata": {
    "slideshow": {
     "slide_type": "subslide"
    }
   },
   "source": [
    "\n",
    "| Operator ||| Meaning |\n",
    "| :-: ||| - |\n",
    "| == ||| equal to |\n",
    "| != ||| not equal to |\n",
    "| < ||| less than |\n",
    "| <= ||| less than or equal to |\n",
    "| > ||| greater than |\n",
    "| >= ||| greater than or equal to |\n",
    "\n",
    "<!---\n",
    "4 < 5\n",
    "5 != 8\n",
    "5 == 5.0\n",
    "-->"
   ]
  },
  {
   "cell_type": "code",
   "execution_count": 6,
   "metadata": {
    "slideshow": {
     "slide_type": "fragment"
    }
   },
   "outputs": [
    {
     "data": {
      "text/plain": [
       "True"
      ]
     },
     "execution_count": 6,
     "metadata": {},
     "output_type": "execute_result"
    }
   ],
   "source": [
    "# Examples of mathematical comparisons\n",
    "5 == 5.0"
   ]
  },
  {
   "cell_type": "markdown",
   "metadata": {
    "slideshow": {
     "slide_type": "notes"
    }
   },
   "source": [
    "```python\n",
    "4 < 5\n",
    "5 != 8\n",
    "5 == 5.0\n",
    "```"
   ]
  },
  {
   "cell_type": "markdown",
   "metadata": {
    "slideshow": {
     "slide_type": "slide"
    }
   },
   "source": [
    "### So do other comparisons\n",
    "\n",
    "We can also use these operators to compare different data types.\n",
    "\n",
    "Each data type will have its own rules for how such comparisons are resolved.\n",
    "\n",
    "For strings, this is done alphabetically.\n",
    "\n",
    "<!---\n",
    "'ant' == 'aunt'\n",
    "'a' < 'b'\n",
    "'b' < 'a'\n",
    "'z' > 'a'\n",
    "5 == 5.0\n",
    "-->"
   ]
  },
  {
   "cell_type": "code",
   "execution_count": 10,
   "metadata": {
    "slideshow": {
     "slide_type": "fragment"
    }
   },
   "outputs": [
    {
     "data": {
      "text/plain": [
       "True"
      ]
     },
     "execution_count": 10,
     "metadata": {},
     "output_type": "execute_result"
    }
   ],
   "source": [
    "# Examples of mathematical comparitors with strings\n",
    "'z' > 'a'"
   ]
  },
  {
   "cell_type": "markdown",
   "metadata": {
    "slideshow": {
     "slide_type": "notes"
    }
   },
   "source": [
    "```python\n",
    "'ant' == 'aunt'\n",
    "'a' < 'b'\n",
    "'b' < 'a'\n",
    "'z' > 'a'\n",
    "5 == 5.0\n",
    "```"
   ]
  },
  {
   "cell_type": "markdown",
   "metadata": {
    "slideshow": {
     "slide_type": "slide"
    }
   },
   "source": [
    "#### *Equality* vs *Sameness*: A digression\n",
    "\n",
    "Python has two comparison operators, `==` and `is`, whose use is often confused.\n",
    "\n",
    "To test whether two things are **equal** (identical, having the same value), you should use `==` (or `!=` for *inequality*).\n",
    "\n",
    "To test whether two things are **the same** (same identity), you should use `is` (or `is not` for *differentness*).\n",
    "\n",
    "\n",
    "<!---\n",
    "a = [4, 5, 6]\n",
    "b = [4, 5, 6]\n",
    "c = a\n",
    "print(\"a is the list:\", a)\n",
    "print(\"b is the list:\", b)\n",
    "print(\"c is the list:\", c)\n",
    "a == b  (True)\n",
    "a is b  (False)\n",
    "a == c  (True)\n",
    "a is c  (True)  # Careful, this can get you into trouble\n",
    "c[1] = 9\n",
    "a\n",
    "[4, 9, 6]\n",
    "# can prove they are the same value with id()\n",
    "-->"
   ]
  },
  {
   "cell_type": "code",
   "execution_count": 18,
   "metadata": {
    "slideshow": {
     "slide_type": "fragment"
    }
   },
   "outputs": [
    {
     "name": "stdout",
     "output_type": "stream",
     "text": [
      "[4, 9, 6]\n"
     ]
    }
   ],
   "source": [
    "# Examples of how `==` and `is` are different\n",
    "c[1] = 9\n",
    "print(a)"
   ]
  },
  {
   "cell_type": "markdown",
   "metadata": {
    "slideshow": {
     "slide_type": "notes"
    }
   },
   "source": [
    "```python\n",
    "a = [4, 5, 6]\n",
    "b = [4, 5, 6]\n",
    "c = a\n",
    "print(\"a is the list:\", a)\n",
    "print(\"b is the list:\", b)\n",
    "print(\"c is the list:\", c)\n",
    "a == b  (True)\n",
    "a is b  (False)\n",
    "a == c  (True)\n",
    "a is c  (True)  # Careful, this can get you into trouble\n",
    "c[1] = 9\n",
    "a\n",
    "[4, 9, 6]\n",
    "#can prove they are the same value with id()\n",
    "```"
   ]
  },
  {
   "cell_type": "markdown",
   "metadata": {
    "slideshow": {
     "slide_type": "slide"
    }
   },
   "source": [
    "### Evaluating the 'truth' of an argument\n",
    "\n",
    "Python has a built-in function `bool()`, which will evaluate the 'truth' of its argument.\n",
    "\n",
    "<!---\n",
    "bool(True)\n",
    "bool(False)\n",
    "bool(4 < 5)\n",
    "bool(6 != 7)\n",
    "bool(8 == 8.0)\n",
    "-->"
   ]
  },
  {
   "cell_type": "code",
   "execution_count": 23,
   "metadata": {
    "slideshow": {
     "slide_type": "fragment"
    }
   },
   "outputs": [
    {
     "data": {
      "text/plain": [
       "False"
      ]
     },
     "execution_count": 23,
     "metadata": {},
     "output_type": "execute_result"
    }
   ],
   "source": [
    "# Examples of the bool() function\n",
    "bool(6 == 7)"
   ]
  },
  {
   "cell_type": "markdown",
   "metadata": {
    "slideshow": {
     "slide_type": "notes"
    }
   },
   "source": [
    "```python\n",
    "bool(True)\n",
    "bool(False)\n",
    "bool(4 < 5)\n",
    "bool(6 != 7)\n",
    "bool(8 == 8.0)\n",
    "```"
   ]
  },
  {
   "cell_type": "markdown",
   "metadata": {
    "slideshow": {
     "slide_type": "subslide"
    }
   },
   "source": [
    "When the argument is not a comparison or a `boolean`, the output may seem surprising.\n",
    "\n",
    "The number zero `0`, the empty string `''`, and the empty list `[ ]` all evaluate to `False`. Essentially everything else will evaluate to `True`."
   ]
  },
  {
   "cell_type": "markdown",
   "metadata": {
    "slideshow": {
     "slide_type": "subslide"
    }
   },
   "source": [
    "In this case it is perhaps easier to think about the `bool()` function evaluating the *existence* of its argument.\n",
    "\n",
    "<!---\n",
    "bool(True)\n",
    "bool(False)\n",
    "bool(0)\n",
    "bool(1)\n",
    "bool()\n",
    "-->"
   ]
  },
  {
   "cell_type": "code",
   "execution_count": 30,
   "metadata": {
    "slideshow": {
     "slide_type": "fragment"
    }
   },
   "outputs": [
    {
     "data": {
      "text/plain": [
       "True"
      ]
     },
     "execution_count": 30,
     "metadata": {},
     "output_type": "execute_result"
    }
   ],
   "source": [
    "# Examples of bool() with potentially confusing results\n",
    "bool(7)"
   ]
  },
  {
   "cell_type": "markdown",
   "metadata": {
    "slideshow": {
     "slide_type": "notes"
    }
   },
   "source": [
    "```python\n",
    "bool(True)\n",
    "bool(False)\n",
    "bool(0)\n",
    "bool(1)\n",
    "bool()\n",
    "```"
   ]
  },
  {
   "cell_type": "markdown",
   "metadata": {
    "slideshow": {
     "slide_type": "fragment"
    }
   },
   "source": [
    "We'll now look at a few ways `boolean`s can be used in programs."
   ]
  },
  {
   "cell_type": "markdown",
   "metadata": {
    "slideshow": {
     "slide_type": "slide"
    }
   },
   "source": [
    "### Booleans can be assigned to variables\n",
    "\n",
    "We can set a variable to one of the `boolean` values.\n",
    "\n",
    "This is useful for setting a *status* variable that may be checked to determine whether a section of code is run.\n",
    "\n",
    "<!---\n",
    "status = True\n",
    "-->\n",
    "\n"
   ]
  },
  {
   "cell_type": "code",
   "execution_count": 31,
   "metadata": {
    "slideshow": {
     "slide_type": "fragment"
    }
   },
   "outputs": [],
   "source": [
    "# Example of a boolean assignment\n",
    "status = True"
   ]
  },
  {
   "cell_type": "markdown",
   "metadata": {
    "slideshow": {
     "slide_type": "notes"
    }
   },
   "source": [
    "```python\n",
    "status = True\n",
    "```"
   ]
  },
  {
   "cell_type": "markdown",
   "metadata": {
    "slideshow": {
     "slide_type": "slide"
    }
   },
   "source": [
    "### Executing code *conditionally*\n",
    "\n",
    "`Boolean` variables and comparison operators can also be used to create conditions that determine whether code is run.\n",
    "\n",
    "We will look at two ways of doing this:\n",
    "- `if/elif/else` statements\n",
    "- `while` loops\n"
   ]
  },
  {
   "cell_type": "markdown",
   "metadata": {
    "slideshow": {
     "slide_type": "slide"
    }
   },
   "source": [
    "### `if` statements\n",
    "\n",
    "`if` statements have similar formatting to `for` loops. They use the following syntax:\n",
    "\n",
    "```python\n",
    "if condition:         # (if condition is true)\n",
    "    do things\n",
    "else:                 # (if condition is false)\n",
    "    do other things\n",
    "```"
   ]
  },
  {
   "cell_type": "markdown",
   "metadata": {
    "slideshow": {
     "slide_type": "subslide"
    }
   },
   "source": [
    "<img src=\"intro_python_images/if_else_statement_diagram.png\" />"
   ]
  },
  {
   "cell_type": "markdown",
   "metadata": {
    "slideshow": {
     "slide_type": "subslide"
    }
   },
   "source": [
    "If *condition* evaluates to `True`, then the indented code block, *`do things`* is run.\n",
    "\n",
    "If *condition* evaluates to `False`, then the indented code block, *`do other things`* is run.\n",
    "\n",
    "<!---\n",
    "x = 4\n",
    "if x < 5:\n",
    "    print(\"x is less than 5!\")\n",
    "else:\n",
    "    print(\"x is not less than 5.\")\n",
    "-->"
   ]
  },
  {
   "cell_type": "code",
   "execution_count": 34,
   "metadata": {
    "slideshow": {
     "slide_type": "fragment"
    }
   },
   "outputs": [
    {
     "name": "stdout",
     "output_type": "stream",
     "text": [
      "x is not less than 5.\n"
     ]
    }
   ],
   "source": [
    "# Example of an if/else statement\n",
    "x = 5\n",
    "if x < 5:\n",
    "    print(\"x is less than 5!\")\n",
    "else:\n",
    "    print(\"x is not less than 5.\")"
   ]
  },
  {
   "cell_type": "markdown",
   "metadata": {
    "slideshow": {
     "slide_type": "notes"
    }
   },
   "source": [
    "```python\n",
    "x = 4\n",
    "if x < 5:\n",
    "    print(\"x is less than 5!\")\n",
    "else:\n",
    "    print(\"x is not less than 5.\")\n",
    "```"
   ]
  },
  {
   "cell_type": "markdown",
   "metadata": {
    "slideshow": {
     "slide_type": "slide"
    }
   },
   "source": [
    "### `else` blocks\n",
    "\n",
    "The `else` block can be thought of as defining the default behaviour.\n",
    "\n",
    "In Python, the `else` block is optional.\n",
    "\n",
    "In this case, if the first part of the `if` statement evaluates to `False`, Python does nothing.\n",
    "\n",
    "\n",
    "```python\n",
    "if condition:\n",
    "    do things\n",
    "```\n",
    "\n",
    "<!---\n",
    "x = 7\n",
    "if x < 5:\n",
    "    print(\"x is less than 5!\")\n",
    "-->"
   ]
  },
  {
   "cell_type": "markdown",
   "metadata": {
    "slideshow": {
     "slide_type": "subslide"
    }
   },
   "source": [
    "<img src=\"intro_python_images/if_only_statement_diagram.png\" />"
   ]
  },
  {
   "cell_type": "code",
   "execution_count": 36,
   "metadata": {
    "slideshow": {
     "slide_type": "subslide"
    }
   },
   "outputs": [
    {
     "name": "stdout",
     "output_type": "stream",
     "text": [
      "x is less thank 5!\n"
     ]
    }
   ],
   "source": [
    "# Example if without the else\n",
    "x = 4\n",
    "if x < 5:\n",
    "    print(\"x is less thank 5!\")"
   ]
  },
  {
   "cell_type": "markdown",
   "metadata": {
    "slideshow": {
     "slide_type": "notes"
    }
   },
   "source": [
    "```python\n",
    "x = 7\n",
    "if x < 5:\n",
    "    print(\"x is less than 5!\")\n",
    "```"
   ]
  },
  {
   "cell_type": "markdown",
   "metadata": {
    "slideshow": {
     "slide_type": "subslide"
    }
   },
   "source": [
    "This can also be made explicit by placing `pass` in the body of the `else` block.\n",
    "\n",
    "```python\n",
    "if condition:\n",
    "    do things\n",
    "else:\n",
    "    pass\n",
    "```\n",
    "\n",
    "<!---\n",
    "x = 7\n",
    "if x < 5:\n",
    "    print(\"x is less than 5!\")\n",
    "else:\n",
    "    pass\n",
    "-->"
   ]
  },
  {
   "cell_type": "markdown",
   "metadata": {
    "slideshow": {
     "slide_type": "subslide"
    }
   },
   "source": [
    "<img src=\"intro_python_images/if_else_pass_statement_diagram.png\" />"
   ]
  },
  {
   "cell_type": "code",
   "execution_count": 38,
   "metadata": {
    "slideshow": {
     "slide_type": "subslide"
    }
   },
   "outputs": [
    {
     "name": "stdout",
     "output_type": "stream",
     "text": [
      "x is less than 5!\n"
     ]
    }
   ],
   "source": [
    "# Example if/else with else passing\n",
    "x = 4\n",
    "if x < 5:\n",
    "    print(\"x is less than 5!\")\n",
    "else:\n",
    "    pass"
   ]
  },
  {
   "cell_type": "markdown",
   "metadata": {
    "slideshow": {
     "slide_type": "notes"
    }
   },
   "source": [
    "```python\n",
    "x = 7\n",
    "if x < 5:\n",
    "    print(\"x is less than 5!\")\n",
    "else:\n",
    "    pass\n",
    "```"
   ]
  },
  {
   "cell_type": "markdown",
   "metadata": {
    "slideshow": {
     "slide_type": "slide"
    }
   },
   "source": [
    "### More than two options\n",
    "\n",
    "Sometimes there may be more than two options that need to be considered.\n",
    "\n",
    "The addition of *one or more* `elif` statements to the `if/else` construct addresses this."
   ]
  },
  {
   "cell_type": "markdown",
   "metadata": {
    "slideshow": {
     "slide_type": "subslide"
    }
   },
   "source": [
    "```python\n",
    "if condition_1:\n",
    "    do things\n",
    "elif condition_2:\n",
    "    do other things\n",
    "else:\n",
    "    do a default thing\n",
    "```\n",
    "\n",
    "<!---\n",
    "if x < 5:\n",
    "    print(\"x is less than 5!\")\n",
    "elif x > 5:\n",
    "    print(\"x is greater than 5!\")\n",
    "else:\n",
    "    pass\n",
    "-->"
   ]
  },
  {
   "cell_type": "markdown",
   "metadata": {
    "slideshow": {
     "slide_type": "subslide"
    }
   },
   "source": [
    "<img class = \"eightyfive\" src=\"intro_python_images/if_elif_else_statement_diagram.png\" />"
   ]
  },
  {
   "cell_type": "code",
   "execution_count": 40,
   "metadata": {
    "slideshow": {
     "slide_type": "subslide"
    }
   },
   "outputs": [],
   "source": [
    "# Example if/elif/else statement\n",
    "x = 5\n",
    "if x < 5:\n",
    "    print(\"x is less than 5!\")\n",
    "elif x > 5:\n",
    "    print(\"x is greater than 5!\")\n",
    "else:\n",
    "    pass"
   ]
  },
  {
   "cell_type": "markdown",
   "metadata": {
    "slideshow": {
     "slide_type": "notes"
    }
   },
   "source": [
    "```python\n",
    "if x < 5:\n",
    "    print(\"x is less than 5!\")\n",
    "elif x > 5:\n",
    "    print(\"x is greater than 5!\")\n",
    "else:\n",
    "    pass\n",
    "```"
   ]
  },
  {
   "cell_type": "markdown",
   "metadata": {
    "slideshow": {
     "slide_type": "slide"
    }
   },
   "source": [
    "### `while` loops\n",
    "\n",
    "A `while` loop combines the `for` loop's easy code repetition with the `if/elif/else` statement's use of conditionals.\n",
    "\n",
    "```python\n",
    "while condition:\n",
    "    do things\n",
    "```"
   ]
  },
  {
   "cell_type": "markdown",
   "metadata": {
    "slideshow": {
     "slide_type": "subslide"
    }
   },
   "source": [
    "The body of the `while` loop will continue to execute for as long as the condition evaluates to `True`.\n",
    "\n",
    "It is also possible to have `else` blocks in a `while` loop, which would be executed once the `while` loop's condition evaluates to `False`."
   ]
  },
  {
   "cell_type": "markdown",
   "metadata": {
    "slideshow": {
     "slide_type": "subslide"
    }
   },
   "source": [
    "\n",
    "```python\n",
    "while condition:\n",
    "    do things\n",
    "else:\n",
    "    do final things\n",
    "```\n",
    "\n",
    "The `else` block would only ever be run once, and only ever at the end of the loop's execution."
   ]
  },
  {
   "cell_type": "markdown",
   "metadata": {
    "slideshow": {
     "slide_type": "subslide"
    }
   },
   "source": [
    "One way to use `while` loops is with a `counter` variable.\n",
    "\n",
    "```python\n",
    "while counter < maximum:\n",
    "    do things\n",
    "    increase counter\n",
    "```\n",
    "This `while` loop compares the current value of `counter` to the maximum and only runs if it hasn't reached the maximum value.\n",
    "\n",
    "The last line in the body of the `while` loop increases `counter`.\n"
   ]
  },
  {
   "cell_type": "markdown",
   "metadata": {
    "slideshow": {
     "slide_type": "subslide"
    }
   },
   "source": [
    "Without this line, what you have is an `infinite` loop, or one whose condition will never evaluate to `False`.\n",
    "\n",
    "\n",
    "```python\n",
    "while counter < maximum:\n",
    "    do things\n",
    "```\n",
    "\n",
    "`infinite` loops are almost never what you want to create because they can cause your program to crash.\n",
    "\n",
    "<!---\n",
    "x = 4\n",
    "while x < 7:\n",
    "    print('This is true!')\n",
    "\n",
    "while x < 7:\n",
    "    print ('This is true!')\n",
    "    x = x + 1\n",
    "-->"
   ]
  },
  {
   "cell_type": "markdown",
   "metadata": {
    "slideshow": {
     "slide_type": "subslide"
    }
   },
   "source": [
    "<img class=\"eighty\" src=\"intro_python_images/while_loop_diagram.png\" />"
   ]
  },
  {
   "cell_type": "code",
   "execution_count": 42,
   "metadata": {
    "slideshow": {
     "slide_type": "fragment"
    }
   },
   "outputs": [
    {
     "name": "stdout",
     "output_type": "stream",
     "text": [
      "This is true\n",
      "This is true\n",
      "This is true\n"
     ]
    }
   ],
   "source": [
    "# Example while loops\n",
    "x = 4\n",
    "while x < 7:\n",
    "    print('This is true')\n",
    "    x = x + 1"
   ]
  },
  {
   "cell_type": "markdown",
   "metadata": {
    "slideshow": {
     "slide_type": "notes"
    }
   },
   "source": [
    "```python\n",
    "x = 4\n",
    "while x < 7:\n",
    "    print('This is true!'')\n",
    "    \n",
    "while x < 7:\n",
    "    print('This is true!'')\n",
    "    x = x + 1\n",
    "```"
   ]
  },
  {
   "cell_type": "markdown",
   "metadata": {
    "slideshow": {
     "slide_type": "slide"
    }
   },
   "source": [
    "### Combining conditionals\n",
    "\n",
    "Sometimes you need code to execute if and only if (**iff**) two conditions are met, when at least one of two conditions is met, or only when a condition is not `True`.\n",
    "\n",
    "This is where the keywords `and`, `or`, and `not` come in.\n",
    "\n",
    "We'll consider these in the context of an `if/else` statement.\n",
    "\n",
    "When a block of code should be executed **iff** two conditions both evaluate to `True`, then the `and` keyword should be used."
   ]
  },
  {
   "cell_type": "markdown",
   "metadata": {
    "slideshow": {
     "slide_type": "subslide"
    }
   },
   "source": [
    "```python\n",
    "if (condition_1) and (condition_2):\n",
    "   do things\n",
    "else:\n",
    "   do other things\n",
    "```\n",
    "\n",
    "It is not required to use parentheses around individual conditions in this case, but it may improve readability."
   ]
  },
  {
   "cell_type": "markdown",
   "metadata": {
    "slideshow": {
     "slide_type": "subslide"
    }
   },
   "source": [
    "```python\n",
    "if (cond_1) or (cond_2):\n",
    "   do things\n",
    "else:\n",
    "   do other things\n",
    "```\n",
    "\n",
    "In this example, the `do things` code block will execute if:\n",
    "- `cond_1 == True` and `cond_2 == False`\n",
    "- `cond_1 == False` and `cond_2 == True` or\n",
    "- `cond_1 == True` and `cond_2 == True`\n",
    "\n",
    "otherwise (if both conditions evaluate to `False`), the `do other things` code block will execute."
   ]
  },
  {
   "cell_type": "markdown",
   "metadata": {
    "slideshow": {
     "slide_type": "subslide"
    }
   },
   "source": [
    "The `not` keyword is used to **negate** an expression.\n",
    "\n",
    "There are times when it is appropriate to use, but statements using it can become difficult to understand."
   ]
  },
  {
   "cell_type": "markdown",
   "metadata": {
    "slideshow": {
     "slide_type": "subslide"
    }
   },
   "source": [
    "```python\n",
    "if not item in collection:\n",
    "    print('Item not found in collection.')\n",
    "```\n",
    "\n",
    "```python\n",
    "if item not in collection:\n",
    "    print('Item not found in collection.')\n",
    "```\n",
    "\n",
    "<!---\n",
    "colours = ['purple', 'magenta', 'blue']\n",
    "if 'green' not in colours:\n",
    "    print('That is not one of the colours.')\n",
    "\n",
    "vowels = 'aeiou'\n",
    "for letter in 'abcdefghijklmnopqrstuvwxyz':\n",
    "    if letter not in vowels:\n",
    "        print(letter)\n",
    "-->"
   ]
  },
  {
   "cell_type": "code",
   "execution_count": 48,
   "metadata": {
    "slideshow": {
     "slide_type": "fragment"
    }
   },
   "outputs": [
    {
     "name": "stdout",
     "output_type": "stream",
     "text": [
      "a\n",
      "b\n",
      "c\n",
      "d\n",
      "e\n",
      "f\n",
      "g\n",
      "h\n",
      "i\n",
      "j\n",
      "k\n",
      "l\n",
      "m\n",
      "n\n",
      "o\n",
      "p\n",
      "q\n",
      "r\n",
      "s\n",
      "t\n",
      "u\n",
      "v\n",
      "w\n",
      "x\n",
      "y\n",
      "z\n"
     ]
    }
   ],
   "source": [
    "# Examples of the 'not' keyword\n",
    "vowels = 'aeiou'\n",
    "for letter in 'abcdefghijklmnopqrstuvwxyz':\n",
    "    if letter not in vowels:\n",
    "      pass\n",
    "    print(letter)"
   ]
  },
  {
   "cell_type": "markdown",
   "metadata": {
    "slideshow": {
     "slide_type": "notes"
    }
   },
   "source": [
    "```python\n",
    "colours = ['purple', 'magenta', 'blue']\n",
    "if 'green' not in colours:\n",
    "    print('That is not one of the colours.')\n",
    "\n",
    "vowels = 'aeiou'\n",
    "for letter in 'abcdefghijklmnopqrstuvwxyz':\n",
    "    if letter not in vowels:\n",
    "        print(letter)\n",
    "```"
   ]
  },
  {
   "cell_type": "markdown",
   "metadata": {
    "slideshow": {
     "slide_type": "slide"
    }
   },
   "source": [
    "### Summary\n",
    "\n",
    "- The `boolean` data type are logical or truth values: `True` and `False`.\n",
    "- Comparisons return `boolean` values.\n",
    "- Comparisons may be used to determine whether blocks of code run by altering control flow.\n",
    "- `==` and `is` have different, but often-confused meanings in Python.\n",
    "    - `==` tests for **equality**.\n",
    "    - `is` tests for **sameness**."
   ]
  },
  {
   "cell_type": "markdown",
   "metadata": {
    "slideshow": {
     "slide_type": "subslide"
    }
   },
   "source": [
    "### `if/elif/else`\n",
    "- `if/elif/else` statements may be used to evaluate several conditions and run different blocks of code based upon the outcome.\n",
    "- `else` blocks are optional in Python.\n",
    "- An omitted `else` block is equivalent to saying `pass` inside the `else` block.\n"
   ]
  },
  {
   "cell_type": "markdown",
   "metadata": {
    "slideshow": {
     "slide_type": "subslide"
    }
   },
   "source": [
    "### `while` loops\n",
    "- `while` loops are used to repeat a block of code until a condition evaluates as `False`.\n",
    "- It is easy to accidentally create `infinite` loops (that never finish) when writing `while` loops."
   ]
  },
  {
   "cell_type": "markdown",
   "metadata": {
    "slideshow": {
     "slide_type": "subslide"
    }
   },
   "source": [
    "### `and`, `or`, and `not`\n",
    "- `and` and `or` can be used to combined conditional statements.\n",
    "    - `and` requires that both conditionals evaluate to `True`.\n",
    "    - `or` requires that at least one conditional evaluates to `True`.\n",
    "- `not` negates statements."
   ]
  },
  {
   "cell_type": "markdown",
   "metadata": {
    "slideshow": {
     "slide_type": "skip"
    }
   },
   "source": [
    "## Exercises\n",
    "\n",
    "### 1. How many paths?\n",
    "\n",
    "Consider this code:\n",
    "\n",
    "```python\n",
    "if 4 > 5:\n",
    "    print('A')\n",
    "elif 4 == 5:\n",
    "    print('B')\n",
    "elif 4 < 5:\n",
    "    print('C')\n",
    "```\n",
    "\n",
    "Which of the following would be printed if you were to run this code? Why did you pick this answer?\n",
    "\n",
    "1.    A\n",
    "1.    B\n",
    "1.    C\n",
    "1.    B and C\n"
   ]
  },
  {
   "cell_type": "code",
   "execution_count": null,
   "metadata": {
    "slideshow": {
     "slide_type": "skip"
    }
   },
   "outputs": [],
   "source": [
    "# Do Exercise 1 here\n"
   ]
  },
  {
   "cell_type": "markdown",
   "metadata": {
    "slideshow": {
     "slide_type": "skip"
    }
   },
   "source": [
    "### 2. In-place operators\n",
    "\n",
    "Python (and most other languages in the C family) provides in-place operators that work like this:\n",
    "\n",
    "```python\n",
    "x = 1          # original value\n",
    "x += 1         # add one to x, assigning result back to x\n",
    "x *= 3         # multiply x by 3\n",
    "print(x)\n",
    "\n",
    "6\n",
    "```\n",
    "\n",
    "Write some code that sums the positive and negative numbers in a list separately, using in-place operators. Do you think the result is more or less readable than writing the same without in-place operators?"
   ]
  },
  {
   "cell_type": "code",
   "execution_count": null,
   "metadata": {
    "slideshow": {
     "slide_type": "skip"
    }
   },
   "outputs": [],
   "source": [
    "# Do Exercise 2 here\n"
   ]
  },
  {
   "cell_type": "markdown",
   "metadata": {
    "slideshow": {
     "slide_type": "skip"
    }
   },
   "source": [
    "### 3. Counting Vowels\n",
    "\n",
    "Write a loop that counts the number of vowels in a character string.\n",
    "Test it on a few individual words and full sentences."
   ]
  },
  {
   "cell_type": "code",
   "execution_count": null,
   "metadata": {
    "slideshow": {
     "slide_type": "skip"
    }
   },
   "outputs": [],
   "source": [
    "# Do Exercise 3 here\n"
   ]
  }
 ],
 "metadata": {
  "celltoolbar": "Slideshow",
  "kernelspec": {
   "display_name": "Python 3",
   "language": "python",
   "name": "python3"
  },
  "language_info": {
   "codemirror_mode": {
    "name": "ipython",
    "version": 3
   },
   "file_extension": ".py",
   "mimetype": "text/x-python",
   "name": "python",
   "nbconvert_exporter": "python",
   "pygments_lexer": "ipython3",
   "version": "3.7.6"
  },
  "rise": {
   "enable_chalkboard": true
  }
 },
 "nbformat": 4,
 "nbformat_minor": 4
}
