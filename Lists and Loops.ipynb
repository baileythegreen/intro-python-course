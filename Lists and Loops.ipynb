{
 "cells": [
  {
   "cell_type": "markdown",
   "metadata": {},
   "source": [
    "\n",
    " # <div align=\"center\"> Python\n",
    "<img src=\"https://imgs.xkcd.com/comics/python.png\" />\n",
    "\n",
    "# Overview\n",
    "\n",
    "### Questions\n",
    "\n",
    "- How do I repeat operations?\n",
    "- How do I make decisions?\n",
    "- How do I call built-in functions?\n",
    "\n",
    "### Objectives\n",
    "\n",
    "- Understand that a list in Python is an ordered data structure, whose elements can be accessed via indexes.\n",
    "- Understand the importance of whitespace in Python.\n",
    "- Write scripts that use `for` loops to iterate over lists and character strings.\n",
    "- Write scripts that use `if/elif/else` to perform conditional operations.\n",
    "- Call built-in functions.\n",
    "- Call methods on strings and lists.\n",
    "- Use online help to inspect functions' documenatation.\n",
    "- Use `range`and `for` to iterate over a sequence of numbers.\n",
    "- Correctly write programs that use `if`and `else` statements and simple Boolean expressions (without logical operators).\n",
    "- Trace the execution of unnested conditionals and conditionals inside loops.\n",
    "\n",
    "\n"
   ]
  },
  {
   "cell_type": "markdown",
   "metadata": {},
   "source": [
    "## Our first data structure: the list\n",
    "\n",
    "In our examples so far, we've looked at `for` loops where every item in the collection of input values was listed, with individual items separated by a comma. They can accept different types of inputs, though.\n",
    "\n",
    "One example is called a **list**. Lists in Python are a more complex data type than we have seen so far. A list is a type of collection that stores one or more values in an **ordered fashion**.\n",
    "\n",
    "Take the example list:\n",
    "\n",
    "`colours = ['red', 'blue', 'green']`\n",
    "\n",
    "This list contains three elements, in a particular order. We can refer to the list as a whole, by its name `colours`, but what if we want to see just the second value? Because lists are ordered, we can do this.\n",
    "\n",
    "Every item in a list has an **index**, or a number. In Python, these indices start at `0`, so if we want to get the first value in `colours`, `'red'` we would specify index `0`. To get the second value, `'blue'`, we need to specify index `1`.\n",
    "\n",
    "To access a list index, we use the list name and square brackets containing the desired index: `colours[1]`."
   ]
  },
  {
   "cell_type": "code",
   "execution_count": null,
   "metadata": {},
   "outputs": [],
   "source": [
    "colours = ['red', 'blue', 'green']\n",
    "print('The colours are:', colours)\n",
    "print('The second colour is:', colours[1])"
   ]
  },
  {
   "cell_type": "markdown",
   "metadata": {},
   "source": [
    "## A note about Python vs other languages like R or bash (also Java, any of the C_ languages)\n",
    "\n",
    "Many programming languages use punctuation to indicate the end of a line, blocks of code that belong together, or other meaning. Python is not one of these.\n",
    "\n",
    "Python is what is known as a white-space delimited language. This means that the end of a line is indicated by a line break, different levels of indentation are used to identify blocks of code (with increasing levels of indentation indicating nested blocks), and **many of the errors you get will be related to things being incorrectly indented**.\n",
    "\n",
    "We will look at some practical examples in the context of different kinds of `for`and `while` loops, and `if/elif/else` statements.\n",
    "\n",
    "# `for` loops\n",
    "\n",
    "A `for` loop executes one or more commands on each member of a collection of inputs. They can be used to:\n",
    "\n",
    "- easily repeat actions on several items\n",
    "- increase consistency when repeating actions\n",
    "- reduce the total amount of code needed\n",
    "- make for more automated code\n",
    "\n",
    "All `for` loops share four different components:\n",
    "\n",
    "- a set of keywords (though these are language-dependent)\n",
    "- a collection of input values\n",
    "- an index variable which tracks the current input being used\n",
    "- the command(s) in the body of the `for` loop\n",
    "\n",
    "Some languages will also require specific punctuation, or other language-dependent syntax.\n",
    "\n",
    "## The Python `for` loop\n",
    "\n",
    "The syntax of a Python `for` loop is:\n",
    "\n",
    "`for item in collection:\n",
    "    body`\n",
    "\n",
    "where the different parts are:\n",
    "\n",
    "- the keywords `for` and `in`\n",
    "- `collection` is the collection of input values\n",
    "- `item` is the index variable\n",
    "- `body` body of the `for` loop, which contains one-or-more lines of code and **must be indented**\n",
    "\n",
    "Now we'll look at a `for` loop that will print out several numbers, one after another:"
   ]
  },
  {
   "cell_type": "code",
   "execution_count": 22,
   "metadata": {},
   "outputs": [
    {
     "name": "stdout",
     "output_type": "stream",
     "text": [
      "1\n",
      "2\n",
      "3\n"
     ]
    }
   ],
   "source": [
    "# A simple for loop\n",
    "\n",
    "for x in 1, 2, 3:\n",
    "    print(x)"
   ]
  },
  {
   "cell_type": "markdown",
   "metadata": {},
   "source": [
    "You may notice that the numbers in this `for` loop are separated by commas. This punctuation is required in Python to indicate where one element ends and another begins.\n",
    "\n",
    "Let's look at what happens if we leave out some of the spacing, or punctuation."
   ]
  },
  {
   "cell_type": "code",
   "execution_count": 25,
   "metadata": {},
   "outputs": [
    {
     "ename": "SyntaxError",
     "evalue": "invalid syntax (<ipython-input-25-230a609acd72>, line 3)",
     "output_type": "error",
     "traceback": [
      "\u001b[0;36m  File \u001b[0;32m\"<ipython-input-25-230a609acd72>\"\u001b[0;36m, line \u001b[0;32m3\u001b[0m\n\u001b[0;31m    for x in 1 2 3:\u001b[0m\n\u001b[0m               ^\u001b[0m\n\u001b[0;31mSyntaxError\u001b[0m\u001b[0;31m:\u001b[0m invalid syntax\n"
     ]
    }
   ],
   "source": [
    "# for loop without commas:\n",
    "\n",
    "for x in 1 2 3:\n",
    "    print(x)"
   ]
  },
  {
   "cell_type": "code",
   "execution_count": 26,
   "metadata": {},
   "outputs": [
    {
     "name": "stdout",
     "output_type": "stream",
     "text": [
      "4\n",
      "5\n",
      "6\n"
     ]
    }
   ],
   "source": [
    "# for loop without spaces:\n",
    "\n",
    "for x in 4,5,6:\n",
    "    print(x)"
   ]
  },
  {
   "cell_type": "code",
   "execution_count": 27,
   "metadata": {},
   "outputs": [
    {
     "ename": "IndentationError",
     "evalue": "expected an indented block (<ipython-input-27-5c0f6c040449>, line 4)",
     "output_type": "error",
     "traceback": [
      "\u001b[0;36m  File \u001b[0;32m\"<ipython-input-27-5c0f6c040449>\"\u001b[0;36m, line \u001b[0;32m4\u001b[0m\n\u001b[0;31m    print(x)\u001b[0m\n\u001b[0m        ^\u001b[0m\n\u001b[0;31mIndentationError\u001b[0m\u001b[0;31m:\u001b[0m expected an indented block\n"
     ]
    }
   ],
   "source": [
    "# for loop without indentation:\n",
    "\n",
    "for x in 7, 8, 9:\n",
    "print(x)"
   ]
  },
  {
   "cell_type": "code",
   "execution_count": 28,
   "metadata": {},
   "outputs": [
    {
     "ename": "SyntaxError",
     "evalue": "invalid syntax (<ipython-input-28-75607d54210d>, line 2)",
     "output_type": "error",
     "traceback": [
      "\u001b[0;36m  File \u001b[0;32m\"<ipython-input-28-75607d54210d>\"\u001b[0;36m, line \u001b[0;32m2\u001b[0m\n\u001b[0;31m    for x in 1, 2, 3\u001b[0m\n\u001b[0m                    ^\u001b[0m\n\u001b[0;31mSyntaxError\u001b[0m\u001b[0;31m:\u001b[0m invalid syntax\n"
     ]
    }
   ],
   "source": [
    "# for loop without colon:\n",
    "for x in 1, 2, 3\n",
    "    print(x)"
   ]
  },
  {
   "cell_type": "markdown",
   "metadata": {},
   "source": [
    "Depending on what is left out of our `for` loop, we get different types of error messages. We will look more at Python errors later on."
   ]
  },
  {
   "cell_type": "markdown",
   "metadata": {},
   "source": [
    "### Exercise 1\n",
    "#### Identify the required parts of a `for` loop\n",
    "\n",
    "We'e just looked at several examples of `for` loops and what happens when some of them are left out.\n",
    "\n",
    "Which of the following elements are required to make a `for` loop function correctly? Answer the question on Socrative.\n",
    "\n",
    "- commas between the input values\n",
    "- spaces between the input values\n",
    "- lines within the `for` loop indented\n",
    "- a colon `:` at the end of the first line of the `for` loop"
   ]
  },
  {
   "cell_type": "markdown",
   "metadata": {},
   "source": [
    "## `for` loops in other languages\n",
    "\n",
    "`for` loops in other languages use curly braces `{ }` or keywords like `do` and `done` to indicate the beginning and end of the `for` loop body.\n",
    "\n",
    "<table>\n",
    "<tr>\n",
    "    <th> An R for loop <em>without</em> indentation </th>\n",
    "    <th> An R for loop <em>with</em> indentation </th>\n",
    "    </tr>\n",
    "<tr>\n",
    "<td>\n",
    "    \n",
    "`for (item in collection) \n",
    "{                         \n",
    "body                      \n",
    "}`\n",
    "    </td>\n",
    "    <td>\n",
    "\n",
    "`for (item in collection)\n",
    "{                        \n",
    "    body                 \n",
    "}  `\n",
    "\n",
    "</td>\n",
    "</tr>\n",
    "</table>\n",
    "\n",
    "\n",
    "\n"
   ]
  },
  {
   "cell_type": "markdown",
   "metadata": {},
   "source": [
    "<table>\n",
    "<tr>\n",
    "    <th> A bash for loop <em>without</em> indentation </th>\n",
    "    <th> A bash for loop <em>with</em> indentation </th>\n",
    "    </tr>\n",
    "<tr>\n",
    "<td>\n",
    "    \n",
    "`for item in collection\n",
    "do                     \n",
    "body                   \n",
    "done`\n",
    "    </td>\n",
    "    <td>\n",
    "\n",
    "`for item in collection\n",
    "do                     \n",
    "    body               \n",
    "done`\n",
    "\n",
    "</td>\n",
    "</tr>\n",
    "</table>"
   ]
  },
  {
   "cell_type": "markdown",
   "metadata": {},
   "source": [
    "## The end of the Python `for` loop\n",
    "\n",
    "How does Python identify the end of a `for` loop without the use of punctuation or keywords?\n",
    "\n",
    "Python looks at continuous blocks of indented code. Once it reads a line with the form of `for item in collection:`, it takes all of the consecutively-indented lines after it as the body of the `for` loop.\n",
    "\n",
    "To see this in action, we'll look at two more example `for` loops:"
   ]
  },
  {
   "cell_type": "code",
   "execution_count": null,
   "metadata": {},
   "outputs": [],
   "source": [
    "# A for loop followed by an unindented line of code\n",
    "\n",
    "for x in 1, 2, 3:\n",
    "    print('x is:', x)\n",
    "    print('x squared is:', x*x)\n",
    "print('Is this after the loop?')"
   ]
  },
  {
   "cell_type": "code",
   "execution_count": null,
   "metadata": {},
   "outputs": [],
   "source": [
    "# A for loop followed by a detached, indented line of code\n",
    "for x in 4, 5, 6:\n",
    "    print('x is:', x)\n",
    "    print('x squared is:', x*x)\n",
    "    \n",
    "    print('Is this after the loop?')"
   ]
  },
  {
   "cell_type": "markdown",
   "metadata": {},
   "source": [
    "Our previous `for` loop:\n",
    "\n",
    "`for x in 1, 2, 3:\n",
    "    print(x)`\n",
    "\n",
    "can also have a list as the collection:\n",
    "\n",
    "`for x in [1, 2, 3]:\n",
    "    print(x)`\n",
    "    \n",
    "### Exercise 2:\n",
    "#### Use `colours` in a `for` loop\n",
    "\n",
    "Write a `for` loop that loops over our list of colours. Do this with and without using the variable name."
   ]
  },
  {
   "cell_type": "code",
   "execution_count": null,
   "metadata": {},
   "outputs": [],
   "source": [
    "# Write two versions of a for loop that iterates over\n",
    "# colours = ['red', 'blue', 'green']\n"
   ]
  },
  {
   "cell_type": "markdown",
   "metadata": {},
   "source": [
    "`for` loops can also loop over the characters in a string or values in a range. The latter can be achieved using the `range()` function, which takes two arguments, a beginning index, and a length (the length of the range will be one higher than the last value in the range)."
   ]
  },
  {
   "cell_type": "code",
   "execution_count": null,
   "metadata": {},
   "outputs": [],
   "source": [
    "for letter in 'abcdefg':\n",
    "    print(letter)"
   ]
  },
  {
   "cell_type": "code",
   "execution_count": null,
   "metadata": {},
   "outputs": [],
   "source": [
    "for number in range(0, 5):\n",
    "    print(number)\n",
    "    \n",
    "print('The length of range(0, 5) is:', len(range(0,5)))"
   ]
  },
  {
   "cell_type": "markdown",
   "metadata": {},
   "source": [
    "This last use of the `print()` function has a nested function call as one of its arguments. In Python, functions can be passed as arguments just like variables."
   ]
  }
 ],
 "metadata": {
  "kernelspec": {
   "display_name": "Python 3",
   "language": "python",
   "name": "python3"
  },
  "language_info": {
   "codemirror_mode": {
    "name": "ipython",
    "version": 3
   },
   "file_extension": ".py",
   "mimetype": "text/x-python",
   "name": "python",
   "nbconvert_exporter": "python",
   "pygments_lexer": "ipython3",
   "version": "3.7.6"
  }
 },
 "nbformat": 4,
 "nbformat_minor": 4
}
