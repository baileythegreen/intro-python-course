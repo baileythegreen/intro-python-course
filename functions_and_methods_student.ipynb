{
 "cells": [
  {
   "cell_type": "markdown",
   "metadata": {
    "slideshow": {
     "slide_type": "slide"
    }
   },
   "source": [
    "# Overview\n",
    "\n",
    "***\n",
    "\n",
    "### Questions\n",
    "\n",
    "- How can I reuse useful code without needing to write it each time?\n",
    "- How can I access functions that do more specific actions?\n",
    "- How can I define my own functions?"
   ]
  },
  {
   "cell_type": "markdown",
   "metadata": {
    "slideshow": {
     "slide_type": "subslide"
    }
   },
   "source": [
    "### Objectives\n",
    "\n",
    "- Know the difference between built-in, user-defined, and imported functions.\n",
    "- Know how to use built-in, user-defined, and imported functions.\n",
    "- Be able to define a custom function.\n",
    "- Know the difference between a function and a method.\n",
    "- Know how to use an object's methods."
   ]
  },
  {
   "cell_type": "markdown",
   "metadata": {
    "slideshow": {
     "slide_type": "subslide"
    }
   },
   "source": [
    "Variables store data under a name so that it can be easily referenced in code later on.\n",
    "\n",
    "Functions do the same thing, except instead of data, they store one or more actions.\n",
    "\n",
    "Once a function has been defined, it can be used at will."
   ]
  },
  {
   "cell_type": "markdown",
   "metadata": {
    "slideshow": {
     "slide_type": "slide"
    }
   },
   "source": [
    "### Built-in functions\n",
    "\n",
    "So far, we have encountered some of Python's built-in functions, like `type()`, `print()`, and `bool()`.\n",
    "\n",
    "The built-in functions perform basic operations that are useful in a wide variety of contexts."
   ]
  },
  {
   "cell_type": "markdown",
   "metadata": {
    "slideshow": {
     "slide_type": "subslide"
    }
   },
   "source": [
    "**Don't reinvent the wheel.** If a built-in function exists that does the thing you need, use it. It will be computationally faster."
   ]
  },
  {
   "cell_type": "markdown",
   "metadata": {
    "slideshow": {
     "slide_type": "slide"
    }
   },
   "source": [
    "### Other types of functions\n",
    "\n",
    "There are two ways to get functions for more specific uses:\n",
    "- import functions from an existing Python **library** or **module**\n",
    "- define your own custom functions"
   ]
  },
  {
   "cell_type": "markdown",
   "metadata": {
    "slideshow": {
     "slide_type": "slide"
    }
   },
   "source": [
    "### The function definition\n",
    "\n",
    "A function definition in Python has three parts:\n",
    "- the `def` statement\n",
    "- the function body\n",
    "- the (optional) `return` statement"
   ]
  },
  {
   "cell_type": "markdown",
   "metadata": {
    "slideshow": {
     "slide_type": "subslide"
    }
   },
   "source": [
    "It looks like this:\n",
    "\n",
    "```python\n",
    "def my_function():\n",
    "    body\n",
    "    return value_to_be_returned\n",
    "```\n",
    "Both the body and the `return` statement are indented.\n"
   ]
  },
  {
   "cell_type": "markdown",
   "metadata": {
    "slideshow": {
     "slide_type": "subslide"
    }
   },
   "source": [
    "This form should hopefully be starting to feel familiar – it is very similar to that of the `for` and `while` loops, as well as the `if/elif/else` statements."
   ]
  },
  {
   "cell_type": "markdown",
   "metadata": {
    "slideshow": {
     "slide_type": "slide"
    }
   },
   "source": [
    "### Functions are reusable bits of code\n",
    "\n",
    "Functions contain a series of actions that may need to be performed:\n",
    "- many times\n",
    "- in different parts of the code\n",
    "- on different inputs\n"
   ]
  },
  {
   "cell_type": "markdown",
   "metadata": {
    "slideshow": {
     "slide_type": "subslide"
    }
   },
   "source": [
    "When writing a script, often the definitions of any custom functions will be grouped near the beginning, so that they are easy to find.\n",
    "\n",
    "The actual code that uses them would come later on in the script.\n",
    "\n",
    "This is in contrast to loops which, can not be executed in a different place to where they are written."
   ]
  },
  {
   "cell_type": "markdown",
   "metadata": {
    "slideshow": {
     "slide_type": "subslide"
    }
   },
   "source": [
    "Another big difference is that functions can have **parameters** that affect their output.\n",
    "\n",
    "**Parameters** are variables in a function definition. **Arguments** are the specific values given for a function's parameters when that function is called.\n",
    "\n",
    "```python\n",
    "def my_function(parameter):\n",
    "    body\n",
    "    return value_to_be_returned\n",
    "```\n",
    "\n",
    "<!---\n",
    "# define the function\n",
    "def double(x):          # x is a parameter\n",
    "    return x * 2\n",
    "\n",
    "# call the function\n",
    "double(5)               # 5 is an argument\n",
    "-->"
   ]
  },
  {
   "cell_type": "markdown",
   "metadata": {
    "slideshow": {
     "slide_type": "subslide"
    }
   },
   "source": [
    "```python\n",
    "# define the function\n",
    "def double(x):          # x is a parameter\n",
    "    return x * 2\n",
    "\n",
    "# call the function\n",
    "double(5)               # 5 is an argument\n",
    "```"
   ]
  },
  {
   "cell_type": "code",
   "execution_count": null,
   "metadata": {
    "slideshow": {
     "slide_type": "skip"
    }
   },
   "outputs": [],
   "source": [
    "# Example defining a function with a parameter\n",
    "# Then calling it with an argument\n"
   ]
  },
  {
   "cell_type": "markdown",
   "metadata": {
    "slideshow": {
     "slide_type": "slide"
    }
   },
   "source": [
    "### Positional vs keyword parameters\n",
    "\n",
    "Functions can have two different types of parameters: positional and keyword (named) parameters.\n",
    "\n",
    "We'll see why this is important by creating a small function that will take a list of numbers and a function to be called on them.\n",
    "\n",
    "(Remember, in Python a function can be passed as an argument to another function.)\n",
    "\n",
    "<!---\n",
    "# Function with only positional parameters\n",
    "numbers = [3, 4, 5]\n",
    "# define the function\n",
    "def math(x, y):\n",
    "    print(\"Running\", y, \"on\", x)\n",
    "    return y(x)\n",
    "\n",
    "# call the function\n",
    "math(numbers, sum)\n",
    "math(numbers, min)\n",
    "math(numbers, max)\n",
    "\n",
    "# however...\n",
    "math(max, numbers)\n",
    "# Throws a TypeError because numbers is not callable\n",
    "-->"
   ]
  },
  {
   "cell_type": "code",
   "execution_count": null,
   "metadata": {
    "slideshow": {
     "slide_type": "subslide"
    }
   },
   "outputs": [],
   "source": [
    "# Example of a function with only positional parameters\n"
   ]
  },
  {
   "cell_type": "markdown",
   "metadata": {
    "slideshow": {
     "slide_type": "subslide"
    }
   },
   "source": [
    "When a function only has positional parameters in its definition, the arguments must be specified in the correct order for the function to work as expected.\n",
    "\n",
    "Keyword, or named, parameters can change this."
   ]
  },
  {
   "cell_type": "markdown",
   "metadata": {
    "slideshow": {
     "slide_type": "subslide"
    }
   },
   "source": [
    "Naming parameters also allows you to assign default values for them.\n",
    "\n",
    "Because they do not have a default value, positional arguments are required in function calls. Named ones are optional.\n",
    "\n",
    "<!---\n",
    "# Function with named parameters\n",
    "\n",
    "numbers = [3, 4, 5]\n",
    "# define the function\n",
    "def new_math(input=None, operation=None):\n",
    "    print(\"Running\", operation, \"on\", input)\n",
    "    return operation(input)\n",
    "\n",
    "# call the function\n",
    "new_math(numbers, sum)\n",
    "\n",
    "# and now...\n",
    "new_math(operation=max, input=numbers)\n",
    "-->"
   ]
  },
  {
   "cell_type": "code",
   "execution_count": 2,
   "metadata": {
    "slideshow": {
     "slide_type": "subslide"
    }
   },
   "outputs": [],
   "source": [
    "# Example of a function with named parameters\n"
   ]
  },
  {
   "cell_type": "markdown",
   "metadata": {
    "slideshow": {
     "slide_type": "subslide"
    }
   },
   "source": [
    "In this last example, the default values have been set to `None`, which is sort of like not setting them.\n",
    "\n",
    "Because defaults have not been supplied, both arguments must be specified in the function call.\n",
    "\n",
    "<!---\n",
    "new_math(operation=max)\n",
    "# Throws a TypeError: NoneType object is not iterable\n",
    "-->"
   ]
  },
  {
   "cell_type": "code",
   "execution_count": null,
   "metadata": {
    "slideshow": {
     "slide_type": "fragment"
    }
   },
   "outputs": [],
   "source": [
    "# Example calling the function new_math() and only specifying one parameter\n"
   ]
  },
  {
   "cell_type": "markdown",
   "metadata": {
    "slideshow": {
     "slide_type": "subslide"
    }
   },
   "source": [
    "We'll define defaults for both parameters.\n",
    "\n",
    "<!---\n",
    "# Function with default parameters\n",
    "\n",
    "numbers = [3, 4, 5]\n",
    "# define the function\n",
    "def newer_math(input=[7, 8, 9], operation=min):\n",
    "    print(\"Running\", operation, \"on\", input)\n",
    "    return operation(input)\n",
    "\n",
    "# call the function\n",
    "newer_math(operation=sum)\n",
    "newer_math()\n",
    "-->"
   ]
  },
  {
   "cell_type": "code",
   "execution_count": null,
   "metadata": {
    "slideshow": {
     "slide_type": "fragment"
    }
   },
   "outputs": [],
   "source": [
    "# Define defaults for both parameters\n"
   ]
  },
  {
   "cell_type": "markdown",
   "metadata": {
    "slideshow": {
     "slide_type": "subslide"
    }
   },
   "source": [
    "Now we can use our function even if we forget the order of the parameters.\n",
    "\n",
    "Naming the parameters has also made the function easier to understand."
   ]
  },
  {
   "cell_type": "markdown",
   "metadata": {
    "slideshow": {
     "slide_type": "subslide"
    }
   },
   "source": [
    "We can also mix the use of positional and named arguments and parameters, but positional arguments must come first.\n",
    "\n",
    "Once a named argument is specified in a functional call, the rest must also be specified by name.\n",
    "\n",
    "<!---\n",
    "the_newest_math(operation=max, numbers)\n",
    "-->"
   ]
  },
  {
   "cell_type": "code",
   "execution_count": 4,
   "metadata": {
    "slideshow": {
     "slide_type": "fragment"
    }
   },
   "outputs": [],
   "source": [
    "# Example trying to use a positional argument after a keyword argument\n"
   ]
  },
  {
   "cell_type": "markdown",
   "metadata": {
    "slideshow": {
     "slide_type": "slide"
    }
   },
   "source": [
    "### doc_strings\n",
    "\n",
    "We can also add some documentation to our function in the form of a **doc_string** (documentation string).\n",
    "\n",
    "Doc_strings are part of the help information for a function. Good ones will state what the function does and explain what the inputs should be.\n",
    "\n",
    "\n",
    "<!---\n",
    "# Function with doc_string\n",
    "# define the function\n",
    "def the_newest_math(input=[7, 8, 9], operation=min):\n",
    "    # add a doc_string\n",
    "    \"\"\"\n",
    "    Runs a mathematical operation on a list of numbers.\n",
    "    Prints out an explanation. Returns the result.\n",
    "    Takes two arguments: a list of numbers, input, and the\n",
    "    name of a mathematical operation, operation.\"\"\"\n",
    "    print(\"Running\", operation, \"on\", input)\n",
    "    return operation(input)\n",
    "-->"
   ]
  },
  {
   "cell_type": "code",
   "execution_count": 5,
   "metadata": {
    "slideshow": {
     "slide_type": "subslide"
    }
   },
   "outputs": [],
   "source": [
    "# Example of a function with a doc_string\n"
   ]
  },
  {
   "cell_type": "markdown",
   "metadata": {
    "slideshow": {
     "slide_type": "subslide"
    }
   },
   "source": [
    "To see a function's `doc_string`, we can open its `help` page using the `help()` function.\n",
    "\n",
    "```python\n",
    "help(the_newest_math)\n",
    "```"
   ]
  },
  {
   "cell_type": "code",
   "execution_count": 6,
   "metadata": {
    "slideshow": {
     "slide_type": "fragment"
    }
   },
   "outputs": [],
   "source": [
    "# View the doc_string for the_newest_math() by using help()\n"
   ]
  },
  {
   "cell_type": "markdown",
   "metadata": {
    "slideshow": {
     "slide_type": "slide"
    }
   },
   "source": [
    "### Returning vs producing output\n",
    "\n",
    "Our functions have been printing something out when they run, but this is often not the most important result of running a function.\n",
    "\n",
    "What we will often care more about is the value a function **returns**."
   ]
  },
  {
   "cell_type": "markdown",
   "metadata": {
    "slideshow": {
     "slide_type": "subslide"
    }
   },
   "source": [
    "This is whatever follows the `return` statement at the end of the function, and is the actual result of evaluating a function with the arguments with which it was called.\n",
    "\n",
    "If we assign the result of a function call to a variable, the variable will be set to whatever the function returned."
   ]
  },
  {
   "cell_type": "markdown",
   "metadata": {
    "slideshow": {
     "slide_type": "subslide"
    }
   },
   "source": [
    "Compare what you see when these lines are run.\n",
    "\n",
    "```python\n",
    "# Running a function without saving the result\n",
    "the_newest_math()\n",
    "```\n",
    "```python\n",
    "# Saving the result in a variable\n",
    "saved = the_newest_math()\n",
    "print(saved)\n",
    "```"
   ]
  },
  {
   "cell_type": "code",
   "execution_count": null,
   "metadata": {
    "slideshow": {
     "slide_type": "fragment"
    }
   },
   "outputs": [],
   "source": [
    "# Run the lines shown above\n"
   ]
  },
  {
   "cell_type": "markdown",
   "metadata": {
    "slideshow": {
     "slide_type": "slide"
    }
   },
   "source": [
    "### Variable scope\n",
    "\n",
    "If a variable is defined inside of a function, it only exists inside of that function.\n",
    "\n",
    "Python will look for a variable's assigned value first inside the function, then outside of the function."
   ]
  },
  {
   "cell_type": "markdown",
   "metadata": {
    "slideshow": {
     "slide_type": "subslide"
    }
   },
   "source": [
    "If it is assigned a value both inside and outside of the function, the value inside of the function 'masks' the value assigned outside of it.\n",
    "\n",
    "The same applies if a variable is passed as an argument, then assigned a different value inside the function.\n",
    "\n",
    "<!---\n",
    "x = 10\n",
    "y = 7\n",
    "def func(x):\n",
    "    x = 2\n",
    "    z = 3\n",
    "    return x, y, z\n",
    "\n",
    "func(5)    \n",
    "print(x)\n",
    "print(y)\n",
    "print(z)\n",
    "# Throws NameError: name 'y' is not defined\n",
    "-->\n"
   ]
  },
  {
   "cell_type": "markdown",
   "metadata": {
    "slideshow": {
     "slide_type": "subslide"
    }
   },
   "source": [
    "<img src=\"intro_python_images/scope_diagram.png\" />"
   ]
  },
  {
   "cell_type": "code",
   "execution_count": null,
   "metadata": {
    "slideshow": {
     "slide_type": "fragment"
    }
   },
   "outputs": [],
   "source": [
    "# Example of how variable scope works\n"
   ]
  },
  {
   "cell_type": "markdown",
   "metadata": {
    "slideshow": {
     "slide_type": "slide"
    }
   },
   "source": [
    "### Methods: like functions, but different\n",
    "\n",
    "In Python there is a special type of function, called a **method**.\n",
    "\n",
    "Methods typically perform a small, commonly-used manipulation of an object, e.g., capitalising a lowercase string, or adding an item to a list.\n",
    "\n",
    "There are sets of methods for all of the different data types and structures."
   ]
  },
  {
   "cell_type": "markdown",
   "metadata": {
    "slideshow": {
     "slide_type": "subslide"
    }
   },
   "source": [
    "In a Jupyter Notebeook, you can see the available methods for an **object** by typing the name of the object (or the object itself), then a `.`, and hitting `Tab`.\n",
    "\n",
    "This uses Python's **'dot notation'**.\n",
    "\n",
    "<!---\n",
    "# Look at the available methods for this object\n",
    "numbers.\n",
    "\n",
    "# Try calling some methods on one.\n",
    "print(numbers)\n",
    "numbers.pop()\n",
    "print(numbers)\n",
    "numbers.pop()\n",
    "print(numbers)\n",
    "numbers.append(6)\n",
    "print(numbers)\n",
    "-->"
   ]
  },
  {
   "cell_type": "code",
   "execution_count": 7,
   "metadata": {
    "slideshow": {
     "slide_type": "fragment"
    }
   },
   "outputs": [],
   "source": [
    "# View the methods available for numbers and try some out\n"
   ]
  },
  {
   "cell_type": "markdown",
   "metadata": {
    "slideshow": {
     "slide_type": "subslide"
    }
   },
   "source": [
    "The available methods depend upon the type of object in question.\n",
    "\n",
    "E.g., the methods for lists are not the same as those for strings.\n",
    "\n",
    "<!---\n",
    "'abcdefg'.pop()\n",
    "# Throws AttributeError: 'str' object has no attribute 'pop'\n",
    "\n",
    "'abcdefg'.\n",
    "-->"
   ]
  },
  {
   "cell_type": "code",
   "execution_count": null,
   "metadata": {
    "slideshow": {
     "slide_type": "fragment"
    }
   },
   "outputs": [],
   "source": [
    "# Try running pop() on a string\n"
   ]
  },
  {
   "cell_type": "markdown",
   "metadata": {
    "slideshow": {
     "slide_type": "subslide"
    }
   },
   "source": [
    "To learn how to use an object's method, run:\n",
    "\n",
    "```python\n",
    "help(object.method)\n",
    "```\n",
    "\n",
    "<!---\n",
    "help('abcdefg'.upper)\n",
    "help('abcdefg'.split)\n",
    "\n",
    "# Don't include the parentheses\n",
    "help('abcdefg'.upper())\n",
    "-->\n"
   ]
  },
  {
   "cell_type": "code",
   "execution_count": 9,
   "metadata": {
    "slideshow": {
     "slide_type": "fragment"
    }
   },
   "outputs": [],
   "source": [
    "# Get help with some string methods\n"
   ]
  },
  {
   "cell_type": "markdown",
   "metadata": {
    "slideshow": {
     "slide_type": "slide"
    }
   },
   "source": [
    "## Summary\n",
    "\n",
    "### Functions\n",
    "- Functions are reusable bits of code that can be called:\n",
    "    - many times\n",
    "    - from anywhere\n",
    "    - with different parameters\n",
    "- Functions can be built-in, imported from libraries, or user-defined.\n",
    "- Functions are defined using the `def` keyword and end with a `return` statement.\n",
    "\n",
    "### Function Parameters\n",
    "- Functions may be defined with parameters.\n",
    "- When a function is called, arguments are passed to fill its parameters.\n",
    "- Parameters may be positional or keyword (named).\n",
    "    - Positional arguments must be specified, and specified in the correct order.\n",
    "    - Keyword arguments have default values.\n",
    "    - Keyword arguments must always be specified after positional arguments.\n",
    "    \n",
    "### doc_strings\n",
    "- A doc_string (documentation string) may be added to a function definition to specify:\n",
    "    - what it does\n",
    "    - the inputs it needs\n",
    "    - other useful information\n",
    "    \n",
    "### Variable Scope\n",
    "- Variables have scope.\n",
    "- Variables that are created in the global scope can be accessed inside functions.\n",
    "- Variables that are created inside functions can not be accessed outside of them.\n",
    "\n",
    "### Methods and Attributes\n",
    "- Objects have methods and attributes.\n",
    "- The methods and attributes available to an object depend upon its type.\n",
    "- Access an object's methods and attributes using 'dot' notation.\n",
    "\n",
    "### Getting Help\n",
    "- There are different ways to find help with Python functions and methods."
   ]
  },
  {
   "cell_type": "markdown",
   "metadata": {
    "slideshow": {
     "slide_type": "skip"
    }
   },
   "source": [
    "## Exercises\n",
    "\n",
    "### 1. Combining Strings\n",
    "\n",
    "“Adding” two strings produces their concatenation: `'a' + 'b'` is `'ab'`. Write a function called `fence` that takes two parameters called `original` and `wrapper` and returns a new string that has the `wrapper` character at the beginning and end of `original`. A call to your function should look like this:\n",
    "\n",
    "```python\n",
    "print(fence('name', '*'))\n",
    "```\n",
    "Output:\n",
    "```python\n",
    "*name*\n",
    "```"
   ]
  },
  {
   "cell_type": "code",
   "execution_count": null,
   "metadata": {
    "slideshow": {
     "slide_type": "skip"
    }
   },
   "outputs": [],
   "source": [
    "# Do Exercise 1 here\n"
   ]
  },
  {
   "cell_type": "markdown",
   "metadata": {
    "slideshow": {
     "slide_type": "skip"
    }
   },
   "source": [
    "### 2. Return versus print\n",
    "\n",
    "Note that `return` and `print` are not interchangeable. `print` is a Python function that prints data to the screen. It enables us, users, see the data. The `return` statement, on the other hand, makes data visible to the program. Let’s have a look at the following function:\n",
    "\n",
    "```python\n",
    "def add(a, b):\n",
    "    print(a + b)\n",
    "```\n",
    "\n",
    "Question: What will we see if we execute the following commands?\n",
    "\n",
    "```python\n",
    "A = add(7, 3)\n",
    "print(A)\n",
    "```"
   ]
  },
  {
   "cell_type": "code",
   "execution_count": 16,
   "metadata": {
    "slideshow": {
     "slide_type": "skip"
    }
   },
   "outputs": [],
   "source": [
    "# Do Exercise 2 here\n"
   ]
  },
  {
   "cell_type": "markdown",
   "metadata": {
    "slideshow": {
     "slide_type": "skip"
    }
   },
   "source": [
    "### 3. Selecting Characters From Strings\n",
    "If the variable `s` refers to a string, then `s[0]` is the string’s first character and `s[-1]` is its last. Write a function called `outer` that returns a string made up of just the first and last characters of its input. A call to your function should look like this:\n",
    "\n",
    "```python\n",
    "print(outer('helium'))\n",
    "hm\n",
    "```"
   ]
  },
  {
   "cell_type": "code",
   "execution_count": 15,
   "metadata": {
    "slideshow": {
     "slide_type": "skip"
    }
   },
   "outputs": [],
   "source": [
    "# Do Exercise 3 here\n"
   ]
  },
  {
   "cell_type": "markdown",
   "metadata": {
    "slideshow": {
     "slide_type": "skip"
    }
   },
   "source": [
    "### 4. Mixing Default and Non-Default Parameters\n",
    "\n",
    "Given the following code:\n",
    "\n",
    "```python\n",
    "def numbers(one, two=2, three, four=4):\n",
    "    n = str(one) + str(two) + str(three) + str(four)\n",
    "    return n\n",
    "\n",
    "print(numbers(1, three=3))\n",
    "```\n",
    "\n",
    "what do you expect will be printed? What is actually printed? What rule do you think Python is following?\n",
    "\n",
    "1. `1234`\n",
    "1. `one2three4`\n",
    "1. `1239`\n",
    "1. `SyntaxError`\n",
    "\n",
    "Given that, what does the following piece of code display when run?\n",
    "\n",
    "```python\n",
    "def func(a, b=3, c=6):\n",
    "    print('a: ', a, 'b: ', b, 'c:', c)\n",
    "\n",
    "func(-1, 2)\n",
    "```\n",
    "\n",
    "1. `a: b: 3 c: 6`\n",
    "1. `a: -1 b: 3 c: 6`\n",
    "1. `a: -1 b: 2 c: 6`\n",
    "1. `a: b: -1 c: 2`"
   ]
  },
  {
   "cell_type": "code",
   "execution_count": 10,
   "metadata": {
    "slideshow": {
     "slide_type": "skip"
    }
   },
   "outputs": [],
   "source": [
    "# Do Exercise 4 here\n"
   ]
  },
  {
   "cell_type": "markdown",
   "metadata": {
    "slideshow": {
     "slide_type": "skip"
    }
   },
   "source": [
    "\n",
    "### 5. Variables Inside and Outside Functions\n",
    "What does the following piece of code display when run — and why?\n",
    "\n",
    "```python\n",
    "f = 0\n",
    "k = 0\n",
    "\n",
    "def f2k(f):\n",
    "    k = ((f-32)*(5.0/9.0)) + 273.15\n",
    "    return k\n",
    "\n",
    "print(f2k(8))\n",
    "print(f2k(41))\n",
    "print(f2k(32))\n",
    "\n",
    "print(k)\n",
    "```"
   ]
  },
  {
   "cell_type": "code",
   "execution_count": 12,
   "metadata": {
    "slideshow": {
     "slide_type": "skip"
    }
   },
   "outputs": [],
   "source": [
    "# Do Exercise 5 here\n"
   ]
  },
  {
   "cell_type": "markdown",
   "metadata": {
    "slideshow": {
     "slide_type": "skip"
    }
   },
   "source": [
    "### 6. The Old Switcheroo\n",
    "Consider this code:\n",
    "\n",
    "```python\n",
    "a = 3\n",
    "b = 7\n",
    "\n",
    "def swap(a, b):\n",
    "    temp = a\n",
    "    a = b\n",
    "    b = temp\n",
    "\n",
    "swap(a, b)\n",
    "\n",
    "print(a, b)\n",
    "```\n",
    "\n",
    "Which of the following would be printed if you were to run this code? Why did you pick this answer?\n",
    "\n",
    "1. 7 3\n",
    "1. 3 7\n",
    "1. 3 3\n",
    "1. 7 7"
   ]
  },
  {
   "cell_type": "code",
   "execution_count": 13,
   "metadata": {
    "slideshow": {
     "slide_type": "skip"
    }
   },
   "outputs": [],
   "source": [
    "# Do Exercise 6 here\n"
   ]
  },
  {
   "cell_type": "markdown",
   "metadata": {
    "slideshow": {
     "slide_type": "skip"
    }
   },
   "source": [
    "#### 7. Readable Code\n",
    "\n",
    "Revise a function you wrote for one of the previous exercises to try to make the code more readable. Then, collaborate with one of your neighbors to critique each other’s functions and discuss how your function implementations could be further improved to make them more readable."
   ]
  },
  {
   "cell_type": "code",
   "execution_count": 14,
   "metadata": {
    "slideshow": {
     "slide_type": "skip"
    }
   },
   "outputs": [],
   "source": [
    "# Do Exercise 7 here\n"
   ]
  }
 ],
 "metadata": {
  "kernelspec": {
   "display_name": "Python 3",
   "language": "python",
   "name": "python3"
  },
  "language_info": {
   "codemirror_mode": {
    "name": "ipython",
    "version": 3
   },
   "file_extension": ".py",
   "mimetype": "text/x-python",
   "name": "python",
   "nbconvert_exporter": "python",
   "pygments_lexer": "ipython3",
   "version": "3.7.6"
  },
  "rise": {
   "enable_chalkboard": true
  }
 },
 "nbformat": 4,
 "nbformat_minor": 4
}
