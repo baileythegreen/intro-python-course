{
 "cells": [
  {
   "cell_type": "markdown",
   "metadata": {
    "slideshow": {
     "slide_type": "slide"
    }
   },
   "source": [
    "\n",
    "# Lists and Loops\n",
    "\n",
    "<!div align=\"center\"><!img src=\"https://imgs.xkcd.com/comics/python.png\" />\n",
    "    \n",
    "<script>\n",
    "    document.querySelector('head').innerHTML += '<style>.slides { zoom: .75 !important; }</style>';\n",
    "</script>"
   ]
  },
  {
   "cell_type": "markdown",
   "metadata": {
    "slideshow": {
     "slide_type": "slide"
    }
   },
   "source": [
    "# Overview\n",
    "***\n",
    "### Questions\n",
    "\n",
    "- How can I organise data?\n",
    "- How do I repeat operations?\n",
    "- How can I understand why code fails?\n"
   ]
  },
  {
   "cell_type": "markdown",
   "metadata": {
    "slideshow": {
     "slide_type": "subslide"
    }
   },
   "source": [
    "### Objectives\n",
    "\n",
    "- Data structures are used to organise data and can have different properties.\n",
    "- In Python lists are ordered data structures, whose elements can be accessed via indices.\n",
    "- Whitespace in Python is used to identify code blocks.\n",
    "- Python has different error types to aid with debugging code.\n",
    "- Use `for` loops to iterate over lists, character strings, and ranges.\n",
    "- Use `range()` and `for` to iterate over a sequence of numbers.\n"
   ]
  },
  {
   "cell_type": "markdown",
   "metadata": {
    "slideshow": {
     "slide_type": "subslide"
    }
   },
   "source": [
    " We've seen:\n",
    "\n",
    "| basic data types ||| variable ||| functions |\n",
    "| :- ||| :- ||| :- |\n",
    "| integers ||| assignment ||| with arguments |\n",
    "| floats ||| reassignment ||| |\n",
    "| strings ||| referencing ||| |\n",
    "\n",
    "Let's see how we can organise data so we can work with multiple pieces at one time."
   ]
  },
  {
   "cell_type": "markdown",
   "metadata": {
    "slideshow": {
     "slide_type": "slide"
    }
   },
   "source": [
    "## Our first data structure: the list\n",
    "\n",
    "A list is a type of collection that stores one or more values in an **ordered fashion**.\n",
    "\n",
    "<!---\n",
    "# Create a list, colours\n",
    "colours = ['blue', 'red', 'yellow']\n",
    "print(colours)\n",
    "-->"
   ]
  },
  {
   "cell_type": "markdown",
   "metadata": {
    "slideshow": {
     "slide_type": "notes"
    }
   },
   "source": [
    "```python\n",
    "#Create a list, colours\n",
    "colours = ['blue', 'red', 'yellow']\n",
    "print(colours)\n",
    "```"
   ]
  },
  {
   "cell_type": "code",
   "execution_count": 5,
   "metadata": {
    "slideshow": {
     "slide_type": "fragment"
    }
   },
   "outputs": [
    {
     "name": "stdout",
     "output_type": "stream",
     "text": [
      "['blue', 'red', 'yellow']\n"
     ]
    }
   ],
   "source": [
    "# Create a list, colours\n",
    "colours = ['blue', 'red', 'yellow']\n",
    "print(colours)"
   ]
  },
  {
   "cell_type": "markdown",
   "metadata": {
    "slideshow": {
     "slide_type": "fragment"
    }
   },
   "source": [
    "This list contains three elements, in a particular order. We can refer to the list as a whole, by its name `colours`, but what if we want to see just the second value? Because lists are ordered, we can do this."
   ]
  },
  {
   "cell_type": "markdown",
   "metadata": {
    "slideshow": {
     "slide_type": "subslide"
    }
   },
   "source": [
    "#### Accessing list elements with indices\n",
    "- Every item in a list has an **index**, which can be thought of as its 'spot' in the list.\n",
    "\n",
    "- In Python, these indices start at `0`, so to get the first value in `colours`, we specify index `0`.\n",
    "\n",
    "- To get the second value, we need to specify index `1`.\n",
    "\n",
    "- To access a list index, we use the list name and square brackets containing the desired index: \n",
    "\n",
    "<!---\n",
    "> ```python\n",
    "> colours[1]\n",
    "> ```\n",
    "\n",
    "# Print out colours\n",
    "print('The colours are:', colours)\n",
    "\n",
    "# Print the second element of colours\n",
    "print('The second colour is:', colours[1])\n",
    "-->"
   ]
  },
  {
   "cell_type": "markdown",
   "metadata": {
    "slideshow": {
     "slide_type": "notes"
    }
   },
   "source": [
    "```python\n",
    "colours[1]\n",
    "\n",
    "#Print out colours\n",
    "print('The colours are:', colours)\n",
    "\n",
    "#Print the second element of colours\n",
    "print('The second colour is:', colours[1])\n",
    "```"
   ]
  },
  {
   "cell_type": "code",
   "execution_count": null,
   "metadata": {
    "slideshow": {
     "slide_type": "fragment"
    }
   },
   "outputs": [],
   "source": [
    "# Print out colours\n",
    "# Print the second element of colours\n"
   ]
  },
  {
   "cell_type": "markdown",
   "metadata": {
    "slideshow": {
     "slide_type": "subslide"
    }
   },
   "source": [
    "#### Negative indices also work\n",
    "\n",
    "You can also use negative indices:\n",
    "- `-1` for the last element in the list\n",
    "- `-2` for the next-to-last\n",
    "- and so on\n",
    "\n",
    "<!---\n",
    "# Example of using negative indices\n",
    "colours[-1]\n",
    "-->"
   ]
  },
  {
   "cell_type": "code",
   "execution_count": null,
   "metadata": {
    "slideshow": {
     "slide_type": "fragment"
    }
   },
   "outputs": [],
   "source": [
    "# Example of using negative indices\n"
   ]
  },
  {
   "cell_type": "markdown",
   "metadata": {
    "slideshow": {
     "slide_type": "notes"
    }
   },
   "source": [
    "```python\n",
    "colours[-1]\n",
    "```"
   ]
  },
  {
   "cell_type": "markdown",
   "metadata": {
    "slideshow": {
     "slide_type": "slide"
    }
   },
   "source": [
    "#### List elements can be reassigned\n",
    "\n",
    "List elements can be reassigned using the indexing syntax and the equals sign, `=`.\n",
    "\n",
    "<!---\n",
    "# Example reassigning the first element of colours\n",
    "\n",
    "colours[0] = 'purple'\n",
    "print(colours)\n",
    "-->"
   ]
  },
  {
   "cell_type": "code",
   "execution_count": 97,
   "metadata": {
    "slideshow": {
     "slide_type": "fragment"
    }
   },
   "outputs": [],
   "source": [
    "# Example reassigning the first element of colours\n"
   ]
  },
  {
   "cell_type": "markdown",
   "metadata": {
    "slideshow": {
     "slide_type": "skip"
    }
   },
   "source": [
    "### Other ways to modify lists\n",
    "\n",
    "**Methods** are s\n",
    "\n",
    "There are other ways to modify lists using the **methods** available for the `list` data structure.\n",
    "\n",
    "These include `pop()`, which will remove an element (defaults to the first element), and `append()`, which will add an element to the end of the list.\n",
    "\n"
   ]
  },
  {
   "cell_type": "markdown",
   "metadata": {
    "slideshow": {
     "slide_type": "slide"
    }
   },
   "source": [
    "## What can you put in a list?\n",
    "\n",
    "In Python, lists can contain just about anything.\n",
    "\n",
    "They could contain strings, integers, and floats; but they can also contain things that might surprise you, like functions or other lists.\n",
    "\n",
    "Moreover, the different elements of a list can be of different types.\n",
    "\n",
    "Take a look at this example:\n",
    "\n",
    "<!---\n",
    "# 1. A list of programming languages\n",
    "# 2. A list containing an integer, a mathematical expression, a float,\n",
    "# a string, a built-in function, and a list\n",
    "# 3. Display the mixed list\n",
    " \n",
    "languages = ['python', 'java', 'haskell']\n",
    "\n",
    "assorted_things = [9, 5 * 5, 7.98, 'Bailey', print, languages]\n",
    "\n",
    "print(assorted_things)\n",
    "-->"
   ]
  },
  {
   "cell_type": "code",
   "execution_count": null,
   "metadata": {
    "slideshow": {
     "slide_type": "subslide"
    }
   },
   "outputs": [],
   "source": [
    "# 1. A list of programming languages\n",
    "# 2. A list containing an integer, a mathematical expression, a float,\n",
    "# a string, a built-in function, and a list\n",
    "# 3. Display the mixed list\n"
   ]
  },
  {
   "cell_type": "markdown",
   "metadata": {
    "slideshow": {
     "slide_type": "fragment"
    }
   },
   "source": [
    "We see that the contents of `assorted_things` are displayed.\n",
    "\n",
    "Three of the items, the mathematical expression `5*5`, `print`, and `languages` do not appear in this output.\n",
    "\n",
    "The items in the list are evaluated before being displayed, so we see their actual values, not what was typed."
   ]
  },
  {
   "cell_type": "markdown",
   "metadata": {
    "slideshow": {
     "slide_type": "slide"
    }
   },
   "source": [
    "## The ability to choose\n",
    "\n",
    "We can access portions of a list using a technique called list **slicing**.\n",
    "\n",
    "This is an extension of specifying a single element by its index, like `assorted_things[3]`.\n",
    "\n",
    "List slicing uses the colon `:` operator inside of the square brackets, and a start and end index `list[start:end]`.\n",
    "\n",
    "<!---\n",
    "# Example of list slicing\n",
    "assorted_things[1:5]\n",
    "-->"
   ]
  },
  {
   "cell_type": "code",
   "execution_count": null,
   "metadata": {
    "slideshow": {
     "slide_type": "fragment"
    }
   },
   "outputs": [],
   "source": [
    "# Example of list slicing\n"
   ]
  },
  {
   "cell_type": "markdown",
   "metadata": {
    "slideshow": {
     "slide_type": "subslide"
    }
   },
   "source": [
    "In Python, the start index is included in the result, but the end index is not. So to take the first three elements of `assorted_things` the Python code would be:\n",
    "\n",
    "<!---\n",
    "```python\n",
    "assorted_things[0:3]\n",
    "```\n",
    "-->"
   ]
  },
  {
   "cell_type": "code",
   "execution_count": null,
   "metadata": {
    "slideshow": {
     "slide_type": "fragment"
    }
   },
   "outputs": [],
   "source": [
    "# Taking the first three elements\n"
   ]
  },
  {
   "cell_type": "markdown",
   "metadata": {
    "slideshow": {
     "slide_type": "fragment"
    }
   },
   "source": [
    "If a start index is not specified, it will default to the beginning of the list, and if an end index is not specified, it will default to the end of the list.\n",
    "\n",
    "If neither is specified, the entire list is included in the result.\n",
    "\n",
    "<!---\n",
    "```python\n",
    "# This will take the first three items\n",
    "first_three_items = assorted_things[:3]\n",
    "\n",
    "# This will take the last two items\n",
    "last_two_items = assorted_things[4:]\n",
    "\n",
    "# This will take all of the items\n",
    "all_items = assorted_things[:]\n",
    "```\n",
    "-->"
   ]
  },
  {
   "cell_type": "code",
   "execution_count": null,
   "metadata": {
    "slideshow": {
     "slide_type": "fragment"
    }
   },
   "outputs": [],
   "source": [
    "# Examples of list slicing\n"
   ]
  },
  {
   "cell_type": "markdown",
   "metadata": {
    "slideshow": {
     "slide_type": "subslide"
    }
   },
   "source": [
    "### Skipping over values\n",
    "The slicing syntax can be optionally extended to take every second value, every third value, et cetera — `list[start:end:jump]`. The default jump is effectively `1`, which does not skip any items.\n",
    "\n",
    "<!---\n",
    "> ```python\n",
    "> even_indices = [0::2]\n",
    "> \n",
    "> odd_indices = [1::2]\n",
    "> \n",
    "> every_third = [:6:3]\n",
    "> ```\n",
    "-->"
   ]
  },
  {
   "cell_type": "code",
   "execution_count": null,
   "metadata": {
    "slideshow": {
     "slide_type": "fragment"
    }
   },
   "outputs": [],
   "source": [
    "# Examples of list slicing with jumps\n"
   ]
  },
  {
   "cell_type": "markdown",
   "metadata": {
    "slideshow": {
     "slide_type": "subslide"
    }
   },
   "source": [
    "\n",
    "### Slicing in strings\n",
    "\n",
    "Slicing based on index values also works on strings.\n",
    "\n",
    "<!---\n",
    "# Example of list slicing in a string\n",
    "\n",
    "city = 'Edinburgh'\n",
    "city[0::2]\n",
    "-->"
   ]
  },
  {
   "cell_type": "code",
   "execution_count": null,
   "metadata": {
    "slideshow": {
     "slide_type": "fragment"
    }
   },
   "outputs": [],
   "source": [
    "# Example of list slicing in a string\n"
   ]
  },
  {
   "cell_type": "markdown",
   "metadata": {
    "slideshow": {
     "slide_type": "slide"
    }
   },
   "source": [
    "## Repeating actions over a list\n",
    "\n",
    "If we want to perform the same action on each element in a list, we could do so one-element-at-a-time:\n",
    "\n",
    "<!---\n",
    "```python\n",
    "print(assorted_things[0])\n",
    "print(assorted_things[1])\n",
    "print(assorted_things[2])\n",
    "print(assorted_things[3])\n",
    "print(assorted_things[4])\n",
    "print(assorted_things[5])\n",
    "```\n",
    "-->"
   ]
  },
  {
   "cell_type": "code",
   "execution_count": null,
   "metadata": {
    "slideshow": {
     "slide_type": "fragment"
    }
   },
   "outputs": [],
   "source": [
    "# Example printing out each element in assorted_things\n"
   ]
  },
  {
   "cell_type": "markdown",
   "metadata": {
    "slideshow": {
     "slide_type": "fragment"
    }
   },
   "source": [
    "but for very long lists, this would mean a lot of typing. \n",
    "\n",
    "Ideally, we would like to write a small number of lines of code to run the desired set of actions on every item of the list."
   ]
  },
  {
   "cell_type": "markdown",
   "metadata": {
    "slideshow": {
     "slide_type": "subslide"
    }
   },
   "source": [
    "In order to accomplish this, we need to change the **control flow** of our script.\n",
    "\n",
    "Instead of executing each line once, starting at the beginning and going all the way to the bottom, some of the lines could be run more than once.\n",
    "\n",
    "It's time to talk about..."
   ]
  },
  {
   "cell_type": "markdown",
   "metadata": {
    "slideshow": {
     "slide_type": "slide"
    }
   },
   "source": [
    "# `for` loops"
   ]
  },
  {
   "cell_type": "markdown",
   "metadata": {
    "slideshow": {
     "slide_type": "fragment"
    }
   },
   "source": [
    "A `for` loop executes one or more commands on each member of a collection of inputs. They can be used to:\n",
    "\n",
    "- easily repeat actions on several items\n",
    "- increase consistency when repeating actions\n",
    "- reduce the total amount of code needed\n",
    "- make for more automated code"
   ]
  },
  {
   "cell_type": "markdown",
   "metadata": {
    "slideshow": {
     "slide_type": "subslide"
    }
   },
   "source": [
    "All `for` loops share four different components:\n",
    "\n",
    "- a set of keywords (although these are language-dependent)\n",
    "- a collection of input values\n",
    "- an iteration variable to store the current input value being used\n",
    "- the command(s) in the body of the `for` loop\n",
    "\n",
    "Some languages will also require specific punctuation, or other language-dependent syntax."
   ]
  },
  {
   "cell_type": "markdown",
   "metadata": {
    "slideshow": {
     "slide_type": "slide"
    }
   },
   "source": [
    "## The Python `for` loop\n",
    "\n",
    "The syntax of a Python `for` loop is:\n",
    "\n",
    "```python\n",
    "for item in collection:\n",
    "    body\n",
    "```"
   ]
  },
  {
   "cell_type": "markdown",
   "metadata": {
    "slideshow": {
     "slide_type": "subslide"
    }
   },
   "source": [
    "```python\n",
    "for item in collection:\n",
    "    body\n",
    "```\n",
    "\n",
    "where the different parts are:\n",
    "\n",
    "- the keywords `for` and `in`\n",
    "- `collection` is the collection of input values\n",
    "- `item` is the iteration variable\n",
    "- `body` body of the `for` loop, which contains one-or-more lines of code and **must be indented**\n",
    "\n",
    "Now we'll look at a `for` loop that will print out a list of items, one after another:\n",
    "\n",
    "<!---\n",
    "# Our first for loop\n",
    "for colour in ['cyan', 'magenta', 'yellow', 'black']:\n",
    "    print(colour)\n",
    "-->"
   ]
  },
  {
   "cell_type": "markdown",
   "metadata": {
    "slideshow": {
     "slide_type": "subslide"
    }
   },
   "source": [
    "<img src=\"intro_python_images/for_loop_diagram.png\" />"
   ]
  },
  {
   "cell_type": "code",
   "execution_count": 98,
   "metadata": {
    "slideshow": {
     "slide_type": "subslide"
    }
   },
   "outputs": [],
   "source": [
    "# Our first for loop\n"
   ]
  },
  {
   "cell_type": "markdown",
   "metadata": {
    "slideshow": {
     "slide_type": "fragment"
    }
   },
   "source": [
    "- This loop takes a list containing the colours `cyan`, `magenta`, `yellow`, and `black` and prints out each element of it in turn.\n",
    "- However, this version of a `for` loop uses an unnamed list that is hard-coded in.\n",
    "- In order to print out the contents of a different list, we would need to write a new `for` loop."
   ]
  },
  {
   "cell_type": "markdown",
   "metadata": {
    "slideshow": {
     "slide_type": "subslide"
    }
   },
   "source": [
    "It turns out, there is a better way: first saving our list in a variable, and then passing that variable to the `for` loop as the collection of input values.\n",
    "\n",
    "<!---\n",
    "# First, we save our list to a variable.\n",
    "colours = ['cyan', 'magenta', 'yellow', 'black']\n",
    "\n",
    "# Then we can write a for loop and use our variable as the collection of input values\n",
    "for colour in colours:\n",
    "    print(colour)\n",
    "-->"
   ]
  },
  {
   "cell_type": "code",
   "execution_count": null,
   "metadata": {
    "slideshow": {
     "slide_type": "fragment"
    }
   },
   "outputs": [],
   "source": [
    "# First, we save our list to a variable.\n",
    "# Then we can write a for loop and use our variable as the collection of input values\n"
   ]
  },
  {
   "cell_type": "markdown",
   "metadata": {
    "slideshow": {
     "slide_type": "subslide"
    }
   },
   "source": [
    "We could also have specified our `for` loop in this way, which uses `x` to access the individual values in the list by their index:\n",
    "\n",
    "```python\n",
    "for x in 0, 1, 2, 3:\n",
    "    print(colours[x])\n",
    "```\n",
    "\n",
    "Why might this not be the best solution?\n",
    "\n",
    "Try running:\n",
    "\n",
    "<!---\n",
    "colours = ['red', 'blue', 'green']\n",
    "\n",
    "for x in 0, 1, 2, 3:\n",
    "    print(colours[x])\n",
    "-->"
   ]
  },
  {
   "cell_type": "code",
   "execution_count": null,
   "metadata": {
    "slideshow": {
     "slide_type": "subslide"
    }
   },
   "outputs": [],
   "source": [
    "# Create a list, colours, with three elements,\n",
    "# then run the previous loop using it\n"
   ]
  },
  {
   "cell_type": "markdown",
   "metadata": {
    "slideshow": {
     "slide_type": "fragment"
    }
   },
   "source": [
    "This gave us an `IndexError` because the print command has tried to access an index that does not exist in `colours`. \n",
    "\n",
    "The list index `3` is *out of the range of possible index values for colours*."
   ]
  },
  {
   "cell_type": "markdown",
   "metadata": {
    "slideshow": {
     "slide_type": "slide"
    }
   },
   "source": [
    "## Python syntax and whitespace\n",
    "\n",
    "Here, we have a very simple `for` loop:\n",
    "\n",
    "```python\n",
    "for x in 1, 2, 3:\n",
    "    print(x)\n",
    "```\n",
    "    \n",
    "Using this `for` loop, we are going to remove some of its parts, to see which deletions break it and the kind of errors we get when that happens.\n",
    "\n",
    "<!---\n",
    "# A simple for loop\n",
    "\n",
    "for x in 1, 2, 3:\n",
    "    print(x)\n",
    "-->"
   ]
  },
  {
   "cell_type": "code",
   "execution_count": null,
   "metadata": {
    "slideshow": {
     "slide_type": "subslide"
    }
   },
   "outputs": [],
   "source": [
    "# A simple for loop\n"
   ]
  },
  {
   "cell_type": "markdown",
   "metadata": {
    "slideshow": {
     "slide_type": "fragment"
    }
   },
   "source": [
    "Let's first try running the `for` loop without the colon `:` at the end of the first line:\n",
    "\n",
    "<!---\n",
    "# for loop without the colon\n",
    "\n",
    "for x in 1, 2, 3\n",
    "    print(x)\n",
    "-->"
   ]
  },
  {
   "cell_type": "code",
   "execution_count": null,
   "metadata": {
    "slideshow": {
     "slide_type": "fragment"
    }
   },
   "outputs": [],
   "source": [
    "# for loop without the colon\n"
   ]
  },
  {
   "cell_type": "markdown",
   "metadata": {
    "slideshow": {
     "slide_type": "fragment"
    }
   },
   "source": [
    "Running the `for` loop without the colon resulted in `SyntaxError`. These generally indicate a problem with punctuation: either there is too much, or not enough. Or possibly just the wrong punctuation.\n",
    "\n",
    "You may notice that the numbers in the simple `for` loop are separated by commas. Let's see what happens if we leave them out.\n",
    "\n",
    "<!---\n",
    "# for loop without commas:\n",
    "\n",
    "for x in 1 2 3:\n",
    "    print(x)\n",
    "-->"
   ]
  },
  {
   "cell_type": "code",
   "execution_count": null,
   "metadata": {
    "slideshow": {
     "slide_type": "subslide"
    }
   },
   "outputs": [],
   "source": [
    "# for loop without commas:\n"
   ]
  },
  {
   "cell_type": "markdown",
   "metadata": {
    "slideshow": {
     "slide_type": "fragment"
    }
   },
   "source": [
    "Another `SyntaxError`. We get this error because the commas are required in Python to indicate where one element ends and another begins.\n",
    "\n",
    "We'll add the commas back in, but this time remove the adjacent spaces:\n",
    "\n",
    "<!---\n",
    "# for loop without spaces:\n",
    "\n",
    "for x in 4,5,6:\n",
    "    print(x)\n",
    "-->"
   ]
  },
  {
   "cell_type": "code",
   "execution_count": null,
   "metadata": {
    "slideshow": {
     "slide_type": "subslide"
    }
   },
   "outputs": [],
   "source": [
    "# for loop without spaces:\n"
   ]
  },
  {
   "cell_type": "markdown",
   "metadata": {
    "slideshow": {
     "slide_type": "fragment"
    }
   },
   "source": [
    "This time the `for` loop runs with no errors. So we know the spaces are not required for the code to work; however, **code is read much more often than it is written**.\n",
    "\n",
    "One of the key principles of Python is that readability counts, and it is always preferred to use spaces when they can increase readability.\n",
    "\n",
    "If the spaces are syntactically-optional, but generally preferred, does the same apply to the indentation of the loop `for` body?\n",
    "\n",
    "<!---\n",
    "# for loop without indentation:\n",
    "\n",
    "for x in 7, 8, 9:\n",
    "print(x)\n",
    "-->"
   ]
  },
  {
   "cell_type": "code",
   "execution_count": null,
   "metadata": {
    "slideshow": {
     "slide_type": "subslide"
    }
   },
   "outputs": [],
   "source": [
    "# for loop without indentation:\n"
   ]
  },
  {
   "cell_type": "markdown",
   "metadata": {
    "slideshow": {
     "slide_type": "fragment"
    }
   },
   "source": [
    "No, it turns out the indentation is not optional. In the next section, we'll learn why.\n",
    "\n",
    "Depending on what is left out of our `for` loop, we get different types of errors, which can inform what needs to be fixed.\n",
    "\n",
    "We will look more at Python errors later on."
   ]
  },
  {
   "cell_type": "markdown",
   "metadata": {
    "slideshow": {
     "slide_type": "slide"
    }
   },
   "source": [
    "\n",
    "### A note about Python vs other languages like R or bash (also Java, any of the C, C++ languages)\n",
    "\n",
    "Many programming languages use punctuation to indicate:\n",
    "- the end of a line,\n",
    "- blocks of code that belong together (e.g., a `for` loop),\n",
    "- or other meaning.\n",
    "\n",
    "Python is not one of these."
   ]
  },
  {
   "cell_type": "markdown",
   "metadata": {
    "slideshow": {
     "slide_type": "subslide"
    }
   },
   "source": [
    "Python is what is known as a white-space delimited language. This means that:\n",
    "- the end of a line is indicated by a line break\n",
    "- different levels of indentation are used to identify blocks of code (e.g., `for` loops)\n",
    "    - (increasing levels of indentation indicate nested blocks)\n",
    "- **many of the errors you get will be related to things being incorrectly indented**"
   ]
  },
  {
   "cell_type": "markdown",
   "metadata": {
    "slideshow": {
     "slide_type": "slide"
    }
   },
   "source": [
    "## `for` loops in other languages\n",
    "\n",
    "`for` loops in other languages may use curly braces `{ }` or keywords like `do` and `done` to indicate the beginning and end of the `for` loop body.\n",
    "\n",
    "<table>\n",
    "<tr>\n",
    "    <th> An R for loop <em>without</em> indentation </th>\n",
    "    <th> An R for loop <em>with</em> indentation </th>\n",
    "    </tr>\n",
    "<tr>\n",
    "<td>\n",
    "    \n",
    "`for (item in collection) \n",
    "{                         \n",
    "body                      \n",
    "}`\n",
    "    </td>\n",
    "    <td>\n",
    "\n",
    "`for (item in collection)\n",
    "{                        \n",
    "    body                 \n",
    "}  `\n",
    "\n",
    "</td>\n",
    "</tr>\n",
    "</table>\n",
    "\n",
    "<table>\n",
    "<tr>\n",
    "    <th> A bash for loop <em>without</em> indentation </th>\n",
    "    <th> A bash for loop <em>with</em> indentation </th>\n",
    "    </tr>\n",
    "<tr>\n",
    "<td>\n",
    "    \n",
    "`for item in collection\n",
    "do                     \n",
    "body                   \n",
    "done`\n",
    "    </td>\n",
    "    <td>\n",
    "\n",
    "`for item in collection\n",
    "do                     \n",
    "    body               \n",
    "done`\n",
    "\n",
    "</td>\n",
    "</tr>\n",
    "</table>\n",
    "\n",
    "\n"
   ]
  },
  {
   "cell_type": "markdown",
   "metadata": {
    "slideshow": {
     "slide_type": "slide"
    }
   },
   "source": [
    "## The end of the Python `for` loop\n",
    "\n",
    "How does Python identify the end of a `for` loop without the use of punctuation or keywords?\n",
    "\n",
    "Python looks at continuous blocks of indented code. Once it reads a line with the form of:\n",
    "\n",
    "> ```python\n",
    "> for item in collection:\n",
    "> ```\n",
    "\n",
    "it takes all of the consecutively-indented lines after it as the body of the `for` loop."
   ]
  },
  {
   "cell_type": "markdown",
   "metadata": {
    "slideshow": {
     "slide_type": "subslide"
    }
   },
   "source": [
    "If there are no indented lines, we get an `IndentationError`, as we saw previously. This is because from Python's perspective, the `for` loop body is empty.\n",
    "\n",
    "We'll look at two more example `for` loops to see how this indentation works:\n",
    "\n",
    "<!---\n",
    "# A for loop followed by an unindented line of code\n",
    "\n",
    "for x in 1, 2, 3:\n",
    "    print('x is:', x)\n",
    "    print('x squared is:', x*x)\n",
    "print('Is this after the loop?')\n",
    "\n",
    "# A for loop followed by a detached, indented line of code\n",
    "\n",
    "for x in 4, 5, 6:\n",
    "    print('x is:', x)\n",
    "    print('x squared is:', x*x)\n",
    "    \n",
    "    print('Is this after the loop?')\n",
    "-->"
   ]
  },
  {
   "cell_type": "code",
   "execution_count": null,
   "metadata": {
    "slideshow": {
     "slide_type": "subslide"
    }
   },
   "outputs": [],
   "source": [
    "# A for loop followed by an unindented line of code\n"
   ]
  },
  {
   "cell_type": "code",
   "execution_count": 96,
   "metadata": {
    "slideshow": {
     "slide_type": "fragment"
    }
   },
   "outputs": [],
   "source": [
    "# A for loop followed by a detached, indented line of code\n"
   ]
  },
  {
   "cell_type": "markdown",
   "metadata": {
    "slideshow": {
     "slide_type": "slide"
    }
   },
   "source": [
    "## A 'collection' can be many things\n",
    "\n",
    "`for` loops can also loop over the characters in a string or values in a range. The latter can be achieved using the `range()` function, which takes two arguments, a beginning index (which is included in the range), and an ending index (which is not included). \n",
    "\n",
    "We'll look at some examples of `for` loops using these new types of collections. We'll also look at the `len()` function, which can be used to find the length of lists, strings, and ranges.\n",
    "\n",
    "<!---\n",
    "# Demonstration of len()\n",
    "len(colours)\n",
    "\n",
    "# Using a for loop to iterate over a string\n",
    "for letter in 'abcdefg':\n",
    "    print(letter)\n",
    "    \n",
    "print('The length of abcdefg is:', len('abcdefg'))\n",
    "\n",
    "\n",
    "# Using a for loop to iterate over a range with the range() built-in function\n",
    "for number in range(0, 5):\n",
    "    print(number)\n",
    "    \n",
    "print('The length of range(0, 5) is:', len(range(0, 5)))\n",
    "-->"
   ]
  },
  {
   "cell_type": "code",
   "execution_count": null,
   "metadata": {
    "slideshow": {
     "slide_type": "subslide"
    }
   },
   "outputs": [],
   "source": [
    "# The len() built-in function\n"
   ]
  },
  {
   "cell_type": "code",
   "execution_count": null,
   "metadata": {
    "slideshow": {
     "slide_type": "fragment"
    }
   },
   "outputs": [],
   "source": [
    "# Using a for loop to iterate over a string\n"
   ]
  },
  {
   "cell_type": "code",
   "execution_count": null,
   "metadata": {
    "slideshow": {
     "slide_type": "subslide"
    }
   },
   "outputs": [],
   "source": [
    "# Using a for loop to iterate over a range with the range() built-in function\n"
   ]
  },
  {
   "cell_type": "code",
   "execution_count": null,
   "metadata": {
    "slideshow": {
     "slide_type": "subslide"
    }
   },
   "outputs": [],
   "source": [
    "# Example of a nested function call\n"
   ]
  },
  {
   "cell_type": "markdown",
   "metadata": {
    "slideshow": {
     "slide_type": "fragment"
    }
   },
   "source": [
    "This last use of the `print()` function has a nested function call as one of its arguments. In Python, functions can be passed as arguments to other functions, just like variables or raw data."
   ]
  },
  {
   "cell_type": "markdown",
   "metadata": {
    "slideshow": {
     "slide_type": "slide"
    }
   },
   "source": [
    "# Summary\n",
    "\n",
    "- Lists are an ordered data structure.\n",
    "    - Lists can contain elements of different types.\n",
    "    - List values can be accessed individually by their index.\n",
    "    - Portions of a list can be accessed with list slicing.\n",
    "    - Individual elements inside a list can be changed."
   ]
  },
  {
   "cell_type": "markdown",
   "metadata": {
    "slideshow": {
     "slide_type": "subslide"
    }
   },
   "source": [
    "- `for` loops perform a set of operations on each item in a collection.\n",
    "    - A collection can be a list, a string, or a range.\n",
    "    \n",
    "- New functions:\n",
    "    - The `len()` built-in function returns the length of its argument (list, string, range).\n",
    "    - The `range(x, y)` built-in function returns a range of values from `x to y-1`."
   ]
  },
  {
   "cell_type": "markdown",
   "metadata": {
    "slideshow": {
     "slide_type": "skip"
    }
   },
   "source": [
    "## Exercises\n",
    "\n",
    "### 1. Slicing Strings\n",
    "A section of a list is called a slice. We can take slices of character strings as well:\n",
    "\n",
    "```python\n",
    "element = 'oxygen'\n",
    "print('first three characters:', element[0:3])\n",
    "print('last three characters:', element[3:6])\n",
    "first three characters: oxy\n",
    "last three characters: gen\n",
    "```\n",
    "\n",
    "1. What is the value of `element[:4]`? What about `element[4:]`? Or `element[:]`?\n",
    "\n",
    "1. What is `element[-1]`? What is `element[-2]`?\n",
    "\n",
    "1. Given those answers, explain what `element[1:-1]` returns.\n",
    "\n",
    "1. How can we rewrite the slice for getting the last three characters of element, so that it works even if we assign a different string to element? Test your solution with the following strings: `carpentry`, `clone`, `hi`."
   ]
  },
  {
   "cell_type": "code",
   "execution_count": null,
   "metadata": {
    "slideshow": {
     "slide_type": "skip"
    }
   },
   "outputs": [],
   "source": [
    "# Do Exercise 1 here\n"
   ]
  },
  {
   "cell_type": "markdown",
   "metadata": {
    "slideshow": {
     "slide_type": "skip"
    }
   },
   "source": [
    "### 2. Identifying Variable Name Errors\n",
    "\n",
    "1. Read the code below, and (without running it) try to identify what the errors are.\n",
    "1. Run the code, and read the error message. What type of `NameError` do you think this is? In other words, is it a string with no quotes, a misspelled variable, or a variable that should have been defined but was not?\n",
    "1. Fix the error.\n",
    "1. Repeat steps 2 and 3, until you have fixed all the errors.\n",
    "\n",
    "```python\n",
    "for number in range(10):\n",
    "    # use a if the number is a multiple of 3, otherwise use b\n",
    "    if (Number % 3) == 0:\n",
    "        message = message + a\n",
    "    else:\n",
    "        message = message + 'b'\n",
    "print(message)\n",
    "```"
   ]
  },
  {
   "cell_type": "code",
   "execution_count": 1,
   "metadata": {
    "slideshow": {
     "slide_type": "skip"
    }
   },
   "outputs": [],
   "source": [
    "# Do Exercise 2 here\n"
   ]
  },
  {
   "cell_type": "markdown",
   "metadata": {
    "slideshow": {
     "slide_type": "skip"
    }
   },
   "source": [
    "### 3. Identifying Index Errors\n",
    "1. Read the code below, and (without running it) try to identify what the errors are.\n",
    "1. Run the code, and read the error message. What type of error is it?\n",
    "1. Fix the error.\n",
    "\n",
    "```python\n",
    "seasons = ['Spring', 'Summer', 'Fall', 'Winter']\n",
    "print('My favorite season is ', seasons[4])\n",
    "```"
   ]
  },
  {
   "cell_type": "code",
   "execution_count": 2,
   "metadata": {
    "slideshow": {
     "slide_type": "skip"
    }
   },
   "outputs": [],
   "source": [
    "# Do Exercise 3 here\n"
   ]
  },
  {
   "cell_type": "markdown",
   "metadata": {
    "slideshow": {
     "slide_type": "skip"
    }
   },
   "source": [
    "### 4. From 1 to N\n",
    "\n",
    "Python has a built-in function called `range()` that generates a sequence of numbers. `range()` can accept 1, 2, or 3 parameters.\n",
    "\n",
    "If one parameter is given, `range()` generates a sequence of that length, starting at zero and incrementing by 1. For example, `range(3)` produces the numbers `0, 1, 2`.\n",
    "If two parameters are given, range starts at the first and ends just before the second, incrementing by one. For example, `range(2, 5)` produces `2, 3, 4`.\n",
    "If range is given 3 parameters, it starts at the first one, ends just before the second one, and increments by the third one. For example, `range(3, 10, 2)` produces `3, 5, 7, 9`.\n",
    "Using `range()`, write a loop that uses `range()` to print the first 3 natural numbers:\n",
    "\n",
    "```python\n",
    "1\n",
    "2\n",
    "3\n",
    "```"
   ]
  },
  {
   "cell_type": "code",
   "execution_count": 3,
   "metadata": {
    "slideshow": {
     "slide_type": "skip"
    }
   },
   "outputs": [],
   "source": [
    "# Do Exercise 4 here\n"
   ]
  },
  {
   "cell_type": "markdown",
   "metadata": {
    "slideshow": {
     "slide_type": "skip"
    }
   },
   "source": [
    "### 5. Understanding the loop\n",
    "\n",
    "Given the following loop:\n",
    "\n",
    "```python\n",
    "word = 'oxygen'\n",
    "for char in word:\n",
    "    print(char)\n",
    "```\n",
    "How many times is the body of the loop executed?\n",
    "\n",
    "1. 3 times\n",
    "1. 4 times\n",
    "1. 5 times\n",
    "1. 6 times"
   ]
  },
  {
   "cell_type": "code",
   "execution_count": 4,
   "metadata": {
    "slideshow": {
     "slide_type": "skip"
    }
   },
   "outputs": [],
   "source": [
    "# Do Exercise 5 here\n"
   ]
  },
  {
   "cell_type": "markdown",
   "metadata": {
    "slideshow": {
     "slide_type": "skip"
    }
   },
   "source": [
    "### 6. Exponentiation\n",
    "\n",
    "Exponentiation is built into Python:\n",
    "\n",
    "```python\n",
    "print(5 ** 3)\n",
    "\n",
    "125\n",
    "```\n",
    "Write a loop that calculates the same result as `5 ** 3` using multiplication (and without exponentiation)."
   ]
  },
  {
   "cell_type": "code",
   "execution_count": 5,
   "metadata": {
    "slideshow": {
     "slide_type": "skip"
    }
   },
   "outputs": [],
   "source": [
    "# Do Exercise 6 here\n"
   ]
  },
  {
   "cell_type": "markdown",
   "metadata": {
    "slideshow": {
     "slide_type": "skip"
    }
   },
   "source": [
    "### 7. Reverse a String\n",
    "\n",
    "Two strings can be concatenated using the `+` operator.\n",
    "Write a loop that takes a string and produces a new string with the characters in reverse order, so `'Newton'` becomes `'notweN'`."
   ]
  },
  {
   "cell_type": "code",
   "execution_count": null,
   "metadata": {
    "slideshow": {
     "slide_type": "skip"
    }
   },
   "outputs": [],
   "source": [
    "# Do Exercise 7 here\n"
   ]
  },
  {
   "cell_type": "markdown",
   "metadata": {
    "slideshow": {
     "slide_type": "skip"
    }
   },
   "source": [
    "### 8. Enumerate\n",
    "\n",
    "The built-in function `enumerate()` takes a sequence (e.g. a list) and generates a new sequence of the same length. Each element of the new sequence is a pair composed of the index (0, 1, 2,…) and the value from the original sequence:\n",
    "\n",
    "```python\n",
    "for idx, val in enumerate(a_list):\n",
    "    # Do something using idx and val\n",
    "```\n",
    "\n",
    "The code above loops through `a_list`, assigning the index to `idx` and the value to `val`.\n",
    "\n",
    "Suppose you have encoded a polynomial as a list of coefficients in the following way: the first element is the constant term, the second element is the coefficient of the linear term, the third is the coefficient of the quadratic term, etc.\n",
    "\n",
    "```python\n",
    "x = 5\n",
    "coefs = [2, 4, 3]\n",
    "y = coefs[0] * x**0 + coefs[1] * x**1 + coefs[2] * x**2\n",
    "print(y)\n",
    "\n",
    "97\n",
    "```\n",
    "Write a loop using `enumerate(coefs)` which computes the value `y` of any polynomial, given `x` and `coefs`.\n"
   ]
  },
  {
   "cell_type": "code",
   "execution_count": null,
   "metadata": {
    "slideshow": {
     "slide_type": "skip"
    }
   },
   "outputs": [],
   "source": [
    "# Do Exercise 8 here\n"
   ]
  }
 ],
 "metadata": {
  "celltoolbar": "Slideshow",
  "kernelspec": {
   "display_name": "Python 3",
   "language": "python",
   "name": "python3"
  },
  "language_info": {
   "codemirror_mode": {
    "name": "ipython",
    "version": 3
   },
   "file_extension": ".py",
   "mimetype": "text/x-python",
   "name": "python",
   "nbconvert_exporter": "python",
   "pygments_lexer": "ipython3",
   "version": "3.7.6"
  },
  "rise": {
   "enable_chalkboard": true
  }
 },
 "nbformat": 4,
 "nbformat_minor": 4
}
