{
 "cells": [
  {
   "cell_type": "markdown",
   "metadata": {},
   "source": [
    "## Exercises\n",
    "\n",
    "### 1. Check Your Understanding\n",
    "What values do the variables mass and age have after each of the following statements? Test your answer by executing the lines.\n",
    "\n",
    "```python\n",
    "mass = 47.5\n",
    "age = 122\n",
    "mass = mass * 2.0\n",
    "age = age - 20\n",
    "```\n",
    "\n",
    "### Solution\n",
    "1. `mass` holds a value of `47.5`, `age` does not exist\n",
    "1. `mass` still holds a value of `47.5`, `age` holds a value of `122`\n",
    "1. `mass` now has a value of `95.0`, `age`'s value is still `122`\n",
    "1. `mass` still has a value of `95.0`, `age` now holds `102`"
   ]
  },
  {
   "cell_type": "markdown",
   "metadata": {},
   "source": [
    "### 2. Sorting Out References\n",
    "\n",
    "What does the following program print out?\n",
    "\n",
    "```python\n",
    "first, second = 'Grace', 'Hopper'\n",
    "third, fourth = second, first\n",
    "print(third, fourth)\n",
    "```\n",
    "\n",
    "### Solution\n",
    "```python\n",
    "Hopper Grace\n",
    "```\n"
   ]
  },
  {
   "cell_type": "code",
   "execution_count": null,
   "metadata": {},
   "outputs": [],
   "source": []
  }
 ],
 "metadata": {
  "kernelspec": {
   "display_name": "Python 3",
   "language": "python",
   "name": "python3"
  },
  "language_info": {
   "codemirror_mode": {
    "name": "ipython",
    "version": 3
   },
   "file_extension": ".py",
   "mimetype": "text/x-python",
   "name": "python",
   "nbconvert_exporter": "python",
   "pygments_lexer": "ipython3",
   "version": "3.7.6"
  }
 },
 "nbformat": 4,
 "nbformat_minor": 4
}
