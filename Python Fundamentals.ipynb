{
 "cells": [
  {
   "cell_type": "markdown",
   "metadata": {},
   "source": [
    "# Overview\n",
    "\n",
    "### Questions\n",
    "- What basic data types can I work with in Python?\n",
    "- How can I create a new variable in Python?\n",
    "- Can I change the value associated with a variable after I create it?\n",
    "- How can I perform an operation on a variable?\n",
    "\n",
    "### Objectives\n",
    "- Assign values to variables.\n",
    "- Retrieve a variable's value.\n",
    "- Reassign a variable to a new value."
   ]
  },
  {
   "cell_type": "markdown",
   "metadata": {},
   "source": [
    "# The Python interpreter\n",
    "\n",
    "Any Python interpreter can be used as a calculator, though if you only need to evaluate some arithmetic, using Python is probably overkill. The ability to calculate values becomes much more helpful if we can store those values and retrieve them later on. This is where variables come in."
   ]
  },
  {
   "cell_type": "code",
   "execution_count": null,
   "metadata": {},
   "outputs": [],
   "source": [
    "5 + 4 * 3"
   ]
  },
  {
   "cell_type": "markdown",
   "metadata": {},
   "source": [
    "# 1.1 Variables\n",
    "\n",
    "Variables are names that are assigned to data, or **values**. In Python variable **assignments** are accomplished using the equals sign, `=`. \n",
    "\n",
    "In order to create a variable, `weight_kg` with a value of `60`, the code is:\n",
    "`weight_kg = 60`.\n",
    "\n",
    "Once a variable is created, you can use its name to refer to the value, rather than needing to know the current value itself.\n",
    "\n",
    "In Python, the value assigned to a variable can also be changed. To assign a new value to an existing variable, you use the same syntax as you would to create a new variable. To change the value of `weight_kg` you would simply type `weight_kg = 70`.\n",
    "\n",
    "You can see the value of a variable by typing its name at a Python prompt or in a code cell in a Jupyter Notebook, and running it.\n",
    "\n",
    "You can not reference a variable before it is assigned."
   ]
  },
  {
   "cell_type": "code",
   "execution_count": null,
   "metadata": {},
   "outputs": [],
   "source": [
    "# Example variable assignment\n",
    "\n",
    "lucky_number = 7"
   ]
  },
  {
   "cell_type": "code",
   "execution_count": null,
   "metadata": {},
   "outputs": [],
   "source": [
    "# Example of getting the value of a variable\n",
    "\n",
    "lucky_number"
   ]
  },
  {
   "cell_type": "code",
   "execution_count": null,
   "metadata": {},
   "outputs": [],
   "source": [
    "# Example variable reassignment\n",
    "\n",
    "lucky_number = 8\n",
    "lucky_number"
   ]
  },
  {
   "cell_type": "code",
   "execution_count": null,
   "metadata": {},
   "outputs": [],
   "source": [
    "# Example referencing a variable that has not been assigned\n",
    "\n",
    "fictional"
   ]
  },
  {
   "cell_type": "markdown",
   "metadata": {},
   "source": [
    "### Exercise 1\n",
    "#### Variable creation, display, and reassignment\n",
    "\n",
    "Try creating two variables, `height_cm` and `birth_year`, display them, then change their values and display them again."
   ]
  },
  {
   "cell_type": "code",
   "execution_count": null,
   "metadata": {},
   "outputs": [],
   "source": [
    "# Create your own variables here and have the notebook display their values\n",
    "\n"
   ]
  },
  {
   "cell_type": "code",
   "execution_count": null,
   "metadata": {},
   "outputs": [],
   "source": [
    "# Change the values of your variables and display them again\n",
    "\n"
   ]
  },
  {
   "cell_type": "markdown",
   "metadata": {},
   "source": [
    "## Variable names\n",
    "\n",
    "You can not name variables just anything you want. Python, as most languages, has some requirements for variable names, that allow it to recognise them as variables.\n",
    "\n",
    "In Python, variable names:\n",
    "- can include letters, digits, and underscores\n",
    "- can not start with a digit\n",
    "- can not contain spaces, quotation marks, or other punctuation marks\n",
    "- are **case sensitive**\n",
    "\n",
    "*For example*:\n",
    "- `age`, `height_cm`, and `python2` are all valid variable names\n",
    "- `weight0` is a valid variable name, whereas `0weight` is not\n",
    "- `blood_type` is a valid variable name, whereas `blood-type` and `blood.type` are not\n",
    "- `bmi`, `Bmi`, and `BMI` are all different variable names\n",
    "\n",
    "### Exercise 2:\n",
    "#### Invalid variable names"
   ]
  },
  {
   "cell_type": "code",
   "execution_count": null,
   "metadata": {},
   "outputs": [],
   "source": [
    "# Try out some invalid variable names, like 0weight to see what happens\n",
    "\n",
    "0weight = 5"
   ]
  },
  {
   "cell_type": "markdown",
   "metadata": {},
   "source": [
    "# Types of data\n",
    "\n",
    "So far, we've only looked at giving variables numerical values, but variables can hold other types of data, too.\n",
    "\n",
    "Python acknowledges different types of data. Three common ones are:\n",
    "- integer numbers (e.g., `5`, `13`, `50`)\n",
    "    - do not have a decimal\n",
    "    - divide evenly by 1 \n",
    "- floating-point numbers, or floats (e.g., `5.0`, `7.3`, `15.41`)\n",
    "    - have a decimal point\n",
    "    - may divide evenly by 1, in the case of e.g., `5.0`, but do not have to\n",
    "- strings (e.g., `'word'`, `'several words'`, `\"abc123\"`, `\"a6&bh!?\"`\n",
    "    - are specified by putting their values inside of single `'` or double `\"` quotes\n",
    "    - may contain letters, numbers, spaces, and many punctuation marks\n",
    "    - characters with special meanings, such as single `'` and double `\"` quotes and backslashes `\\`, must be escaped using a backslash when they are part of a string\n",
    "        - i.e., `'C:\\\\windows\\\\path'`, `'It\\'s hot.'`, `'\\\"Hello!\\\"'`\n"
   ]
  },
  {
   "cell_type": "markdown",
   "metadata": {},
   "source": [
    "## Checking variable types\n",
    "\n",
    "Say you have a variable, `x`, but you are not sure what it contains. How can you find out? Python has a function called `type()` that can tell you. (We'll talk about functions in the next section.)\n",
    "\n",
    "To see the type of data a variable contains, run `type(*variable_name*)`.\n",
    "\n",
    "### Exercise 3:\n",
    "#### What type is my variable?\n",
    "\n",
    "Create some variables of the float and string data types, then ask Python to tell us which types they are:"
   ]
  },
  {
   "cell_type": "code",
   "execution_count": 18,
   "metadata": {},
   "outputs": [
    {
     "data": {
      "text/plain": [
       "int"
      ]
     },
     "execution_count": 18,
     "metadata": {},
     "output_type": "execute_result"
    }
   ],
   "source": [
    "# Example: I have a variable, x. To see its type I run:\n",
    "x = 5\n",
    "type(x)"
   ]
  },
  {
   "cell_type": "code",
   "execution_count": null,
   "metadata": {},
   "outputs": [],
   "source": [
    "# Create some new variables: name (which should be a string)\n",
    "# and temperature (which should be a float)\n",
    "\n",
    "# Run type() on height_cm, birth_year, name, and temperature\n",
    "\n"
   ]
  },
  {
   "cell_type": "markdown",
   "metadata": {},
   "source": [
    "# Functions\n",
    "\n",
    "Functions perform actions on variables. We have seen the `type()` function already. Let's now look at the syntax.\n",
    "\n",
    "In Python, function names are written with a set of parentheses following them. This syntax differentiates them from variables. If you try running the name of a function without the parentheses, it will not behave as expected.\n",
    "\n",
    "Some functions, like `type()` take **arguments**, or values passed to the function (by placing them inside the parentheses) and upon which the function will operate. Some functions accept multiple arguments, some just one, and others none.\n",
    "\n",
    "Let's look at the `print()` function. In Python 3, print is defined as a function that can take multiple arguments. (This is different from in Python 2. If you want to know more, we can discuss it at a break.)\n",
    "\n",
    "`print()` is another way we can view our variables' values that also allows some more sophisticated options. We can use it to print out only a variable's value:"
   ]
  },
  {
   "cell_type": "code",
   "execution_count": 33,
   "metadata": {},
   "outputs": [
    {
     "name": "stdout",
     "output_type": "stream",
     "text": [
      "60\n"
     ]
    }
   ],
   "source": [
    "weight_kg = 60\n",
    "print(weight_kg)"
   ]
  },
  {
   "cell_type": "markdown",
   "metadata": {},
   "source": [
    "Or, we can have `print()` combine multiple inputs to produce something more meaningful:"
   ]
  },
  {
   "cell_type": "code",
   "execution_count": 43,
   "metadata": {},
   "outputs": [
    {
     "name": "stdout",
     "output_type": "stream",
     "text": [
      "weight in kilograms: 50\n"
     ]
    }
   ],
   "source": [
    "weight_kg = 50\n",
    "weight_kg_text = 'weight in kilograms:'\n",
    "print(weight_kg_text, weight_kg)"
   ]
  },
  {
   "cell_type": "markdown",
   "metadata": {},
   "source": [
    "We can even have `print()` do calculations for us, and we can pass it values directly, rather than only giving it variables:"
   ]
  },
  {
   "cell_type": "code",
   "execution_count": 38,
   "metadata": {},
   "outputs": [
    {
     "name": "stdout",
     "output_type": "stream",
     "text": [
      "weight in pounds: 110.00000000000001\n"
     ]
    }
   ],
   "source": [
    "# There are 2.2 pounds in a kilogram\n",
    "\n",
    "print('weight in pounds:', 2.2 * weight_kg)"
   ]
  },
  {
   "cell_type": "markdown",
   "metadata": {},
   "source": [
    "Running a command on a variable does not affect the value of that variable. We can confirm this by printing `weight_kg` again."
   ]
  },
  {
   "cell_type": "code",
   "execution_count": 39,
   "metadata": {},
   "outputs": [
    {
     "name": "stdout",
     "output_type": "stream",
     "text": [
      "50\n"
     ]
    }
   ],
   "source": [
    "print(weight_kg)"
   ]
  },
  {
   "cell_type": "markdown",
   "metadata": {},
   "source": [
    "To change the value of a variable, a new assignment must be made, as we saw before."
   ]
  },
  {
   "cell_type": "code",
   "execution_count": 45,
   "metadata": {},
   "outputs": [
    {
     "name": "stdout",
     "output_type": "stream",
     "text": [
      "65\n"
     ]
    }
   ],
   "source": [
    "weight_kg = 65\n",
    "print(weight_kg)"
   ]
  },
  {
   "cell_type": "markdown",
   "metadata": {},
   "source": [
    "### Exercise 4:\n",
    "\n",
    "#### Printing things out\n",
    "\n",
    "Now try using the print statement to print out an informative line about your height in centimetres (`height_cm`) and another about your height in inches. (Hint: There are 2.54 centimetres in one inch.)\n",
    "\n",
    "These should be similar to what we've done before:\n",
    "\n",
    "`weight_kg_text = 'weight in kilograms:'\n",
    "print(weight_kg_text, weight_kg)`\n",
    "\n",
    "and\n",
    "\n",
    "`print('weight in pounds:', 2.2 * weight_kg)`"
   ]
  },
  {
   "cell_type": "code",
   "execution_count": null,
   "metadata": {},
   "outputs": [],
   "source": [
    "# Write two lines that print out information about\n",
    "# your height in centimetres and in inches\n",
    "\n",
    "# There are 2.54 centimetres in one inch.\n",
    "\n"
   ]
  },
  {
   "cell_type": "markdown",
   "metadata": {},
   "source": [
    "# Variables are like sticky notes\n",
    "\n",
    "Variables are analogous to a sticky note with a name written on it. Variable assignment is like putting that sticky note on a particular value.\n",
    "\n",
    "<img src=\"sticky_note.png\" />\n",
    "\n",
    "Assigning a value to one variable does not change the values of other variables any more than labelling one item with a sticky note affects whether another item is labelled with a different sticky note.\n",
    "\n",
    "For example, we'll store the subject's weight in pounds in its own variable:"
   ]
  },
  {
   "cell_type": "code",
   "execution_count": 46,
   "metadata": {},
   "outputs": [
    {
     "name": "stdout",
     "output_type": "stream",
     "text": [
      "weight in kilograms: 65 and in pounds: 143.0\n"
     ]
    }
   ],
   "source": [
    "weight_lb = 2.2 * weight_kg\n",
    "print(weight_kg_text, weight_kg, 'and in pounds:', weight_lb)"
   ]
  },
  {
   "cell_type": "markdown",
   "metadata": {},
   "source": [
    "<img src=\"sticky_note2.png\" />\n",
    "\n",
    "Let's now change `weight_kg`:"
   ]
  },
  {
   "cell_type": "code",
   "execution_count": 47,
   "metadata": {},
   "outputs": [
    {
     "name": "stdout",
     "output_type": "stream",
     "text": [
      "weight in kilograms is now: 100.0 and weight in pounds is still: 143.0\n"
     ]
    }
   ],
   "source": [
    "weight_kg = 100.0\n",
    "print('weight in kilograms is now:', weight_kg, 'and weight in pounds is still:', weight_lb)"
   ]
  },
  {
   "cell_type": "markdown",
   "metadata": {},
   "source": [
    "<img src=\"sticky_note3.png\" />\n",
    "\n",
    "Since `weight_lb` doesn't 'remember' where its value comes from, it is not updated when we change `weight_kg`."
   ]
  },
  {
   "cell_type": "markdown",
   "metadata": {},
   "source": [
    "# Exercises\n",
    "\n",
    "### You will work on the exercises from Socrative in this notebook, then submit your answers on Socrative.\n",
    "\n",
    "\n",
    "#### Tracking variable values\n",
    "What values do the variables `mass`and `age` have after each of the following statements? Test your answer by executing the lines.\n",
    "\n",
    "`mass = 47.5\n",
    "age = 122\n",
    "mass = mass * 2.0\n",
    "age = age - 20`"
   ]
  },
  {
   "cell_type": "code",
   "execution_count": null,
   "metadata": {},
   "outputs": [],
   "source": [
    "# Do the first exercise here.\n"
   ]
  },
  {
   "cell_type": "markdown",
   "metadata": {},
   "source": [
    "#### Sorting out references\n",
    "\n",
    "What does the program print out?\n",
    "\n",
    "`first, second = 'Grace', 'Hopper'\n",
    "third, fourth = second, first\n",
    "print(third, fourth)`"
   ]
  },
  {
   "cell_type": "code",
   "execution_count": null,
   "metadata": {},
   "outputs": [],
   "source": [
    "# Do the second exercise here.\n"
   ]
  },
  {
   "cell_type": "markdown",
   "metadata": {},
   "source": [
    "# Key Points\n",
    "\n",
    "### Data types\n",
    "- Basic data types in Python in clude integers, strings, and floating-point numbers.\n",
    "\n",
    "### Variables\n",
    "- Use `variable = value` to assign a value to a variable in order to record it in memory.\n",
    "- New values can be assigned to variables using the same assignment syntax.\n",
    "- Variables are created on demand whenever a value is assigned to them.\n",
    "- You can not reference a variable before it is created.\n",
    "- Functions operate on zero or more inputs, called *arguments*.\n",
    "- The `type()` function can be used to see what type of data a variable holds.\n",
    "\n",
    "### Functions\n",
    "- Use `print(something)` to display the value of `something`.\n",
    "- Python's `print()` function can take multiple inputs, which may include variables, unassigned values, and arithmetic operations.\n",
    "- Using a function on a variable does not change its value."
   ]
  },
  {
   "cell_type": "code",
   "execution_count": null,
   "metadata": {},
   "outputs": [],
   "source": []
  }
 ],
 "metadata": {
  "celltoolbar": "Raw Cell Format",
  "kernelspec": {
   "display_name": "Python 3",
   "language": "python",
   "name": "python3"
  },
  "language_info": {
   "codemirror_mode": {
    "name": "ipython",
    "version": 3
   },
   "file_extension": ".py",
   "mimetype": "text/x-python",
   "name": "python",
   "nbconvert_exporter": "python",
   "pygments_lexer": "ipython3",
   "version": "3.7.6"
  }
 },
 "nbformat": 4,
 "nbformat_minor": 4
}
