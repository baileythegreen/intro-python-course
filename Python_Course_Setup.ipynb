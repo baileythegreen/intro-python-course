{
 "cells": [
  {
   "cell_type": "code",
   "execution_count": 1,
   "metadata": {},
   "outputs": [],
   "source": [
    "!mkdir swc-python"
   ]
  },
  {
   "cell_type": "code",
   "execution_count": 2,
   "metadata": {},
   "outputs": [
    {
     "name": "stdout",
     "output_type": "stream",
     "text": [
      "Cloning into 'test'...\n",
      "remote: Enumerating objects: 68, done.\u001b[K\n",
      "remote: Counting objects: 100% (68/68), done.\u001b[K\n",
      "remote: Compressing objects: 100% (45/45), done.\u001b[K\n",
      "remote: Total 68 (delta 29), reused 42 (delta 21)\u001b[K\n",
      "Unpacking objects: 100% (68/68), done.\n"
     ]
    }
   ],
   "source": [
    "!git clone https://git.ecdf.ed.ac.uk/s1770238/intro-to-python-course.git swc-python"
   ]
  },
  {
   "cell_type": "code",
   "execution_count": 3,
   "metadata": {},
   "outputs": [
    {
     "name": "stdout",
     "output_type": "stream",
     "text": [
      "'Blank Python NB.ipynb'\t\t\t  Numpy.ipynb\r\n",
      " code\t\t\t\t\t  numpy_solutions.ipynb\r\n",
      "'Conditionals and truth.ipynb'\t\t 'Python Course Setup.ipynb'\r\n",
      " Conditionals_and_Truth.ipynb\t\t  PythonExample.ipynb\r\n",
      " conditionals_and_truth_solutions.ipynb  'Python Fundamentals.ipynb'\r\n",
      " data\t\t\t\t\t  Python_Fundamentals.ipynb\r\n",
      " Functions_and_Methods.ipynb\t\t  python_fundamentals_solutions.ipynb\r\n",
      " functions_and_methods_solutions.ipynb\t  python-novice-inflammation-code.zip\r\n",
      "'Lists and Loops.ipynb'\t\t\t  python-novice-inflammation-data.zip\r\n",
      " Lists_and_Loops.ipynb\t\t\t  README.md\r\n",
      " lists_and_loops_solutions.ipynb\t  RExample.ipynb\r\n"
     ]
    }
   ],
   "source": [
    "!mv swc-python/*.ipynb swc-python/intro_python_images/ swc-python/*.csv .\n",
    "!ls ."
   ]
  },
  {
   "cell_type": "code",
   "execution_count": null,
   "metadata": {},
   "outputs": [],
   "source": [
    "!ls swc-python"
   ]
  },
  {
   "cell_type": "code",
   "execution_count": 21,
   "metadata": {},
   "outputs": [
    {
     "name": "stdout",
     "output_type": "stream",
     "text": [
      "Archive:  swc-python/python-novice-inflammation-code.zip\n",
      "  inflating: swc-python/code/argv_list.py  \n",
      "  inflating: swc-python/code/arith.py  \n",
      "  inflating: swc-python/code/check.py  \n",
      "  inflating: swc-python/code/count_stdin.py  \n",
      "  inflating: swc-python/code/gen_inflammation.py  \n",
      "  inflating: swc-python/code/line_count.py  \n",
      "  inflating: swc-python/code/my_ls.py  \n",
      "  inflating: swc-python/code/readings_01.py  \n",
      "  inflating: swc-python/code/readings_02.py  \n",
      "  inflating: swc-python/code/readings_03.py  \n",
      "  inflating: swc-python/code/readings_04.py  \n",
      "  inflating: swc-python/code/readings_05.py  \n",
      "  inflating: swc-python/code/readings_06.py  \n",
      "  inflating: swc-python/code/readings_07.py  \n",
      "  inflating: swc-python/code/readings_08.py  \n",
      "  inflating: swc-python/code/readings_09.py  \n",
      "  inflating: swc-python/code/rectangle.py  \n",
      "  inflating: swc-python/code/sys_version.py  \n",
      "\n",
      "Archive:  swc-python/python-novice-inflammation-data.zip\n",
      "   creating: swc-python/data/\n",
      "  inflating: swc-python/data/inflammation-01.csv  \n",
      "  inflating: swc-python/data/inflammation-02.csv  \n",
      "  inflating: swc-python/data/inflammation-03.csv  \n",
      "  inflating: swc-python/data/inflammation-04.csv  \n",
      "  inflating: swc-python/data/inflammation-05.csv  \n",
      "  inflating: swc-python/data/inflammation-06.csv  \n",
      "  inflating: swc-python/data/inflammation-07.csv  \n",
      "  inflating: swc-python/data/inflammation-08.csv  \n",
      "  inflating: swc-python/data/inflammation-09.csv  \n",
      "  inflating: swc-python/data/inflammation-10.csv  \n",
      "  inflating: swc-python/data/inflammation-11.csv  \n",
      "  inflating: swc-python/data/inflammation-12.csv  \n",
      " extracting: swc-python/data/small-01.csv  \n",
      " extracting: swc-python/data/small-02.csv  \n",
      " extracting: swc-python/data/small-03.csv  \n",
      "\n",
      "2 archives were successfully processed.\n"
     ]
    }
   ],
   "source": [
    "!unzip \"swc-python/*.zip\" -d swc-python"
   ]
  },
  {
   "cell_type": "code",
   "execution_count": 22,
   "metadata": {},
   "outputs": [
    {
     "name": "stdout",
     "output_type": "stream",
     "text": [
      "code  python-novice-inflammation-code.zip  README.md\r\n",
      "data  python-novice-inflammation-data.zip\r\n"
     ]
    }
   ],
   "source": [
    "!ls swc-python"
   ]
  },
  {
   "cell_type": "code",
   "execution_count": null,
   "metadata": {},
   "outputs": [],
   "source": []
  }
 ],
 "metadata": {
  "kernelspec": {
   "display_name": "Python 3",
   "language": "python",
   "name": "python3"
  },
  "language_info": {
   "codemirror_mode": {
    "name": "ipython",
    "version": 3
   },
   "file_extension": ".py",
   "mimetype": "text/x-python",
   "name": "python",
   "nbconvert_exporter": "python",
   "pygments_lexer": "ipython3",
   "version": "3.7.6"
  }
 },
 "nbformat": 4,
 "nbformat_minor": 4
}
